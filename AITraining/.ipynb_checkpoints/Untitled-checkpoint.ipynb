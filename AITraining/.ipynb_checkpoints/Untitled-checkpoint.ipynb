{
 "cells": [
  {
   "cell_type": "code",
   "execution_count": 3,
   "id": "d4a11219",
   "metadata": {
    "ExecuteTime": {
     "end_time": "2022-10-08T07:34:09.634131Z",
     "start_time": "2022-10-08T07:34:09.625073Z"
    }
   },
   "outputs": [],
   "source": [
    "import numpy as np\n",
    "import matplotlib.pyplot as mp\n",
    "import sklearn.model_selection as ms\n",
    "import sklearn.svm as svm\n",
    "import sklearn.tree as st\n",
    "import sklearn.datasets as sd  # sklearn提供的数据集\n",
    "import sklearn.utils as su  # 可以把数据集按照行进行打乱\n",
    "import sklearn.metrics as sm\n",
    "import sklearn.ensemble as se\n",
    "import joblib\n",
    "import os\n",
    "import random\n",
    "import sys\n",
    "sys.path.append('/home/iot/jupyter/root_dir/liudongdong/src/ai/util')\n",
    "from util.config import *\n",
    "from util.FlexDataRead import *\n",
    "import warnings\n",
    "warnings.filterwarnings(\"ignore\")"
   ]
  },
  {
   "cell_type": "code",
   "execution_count": 8,
   "id": "378d9a7e",
   "metadata": {
    "ExecuteTime": {
     "end_time": "2022-10-08T07:46:17.958220Z",
     "start_time": "2022-10-08T07:46:04.231802Z"
    }
   },
   "outputs": [
    {
     "name": "stdout",
     "output_type": "stream",
     "text": [
      "label: {'A': 0, 'B': 1, 'C': 2, 'D': 3, 'E': 4, 'F': 5, 'G': 6, 'H': 7, 'I': 8, 'J': 9, 'K': 10, 'L': 11, 'M': 12, 'N': 13, 'O': 14, 'P': 15, 'Q': 16, 'R': 17, 'S': 18, 'T': 19, 'U': 20, 'V': 21, 'W': 22, 'X': 23, 'Y': 24, 'Z': 25}\n",
      "label: {'A': 0, 'B': 1, 'C': 2, 'D': 3, 'E': 4, 'F': 5, 'G': 6, 'H': 7, 'I': 8, 'J': 9, 'K': 10, 'L': 11, 'M': 12, 'N': 13, 'O': 14, 'P': 15, 'Q': 16, 'R': 17, 'S': 18, 'T': 19, 'U': 20, 'V': 21, 'W': 22, 'X': 23, 'Y': 24, 'Z': 25}\n",
      "filename: /home/iot/jupyter/root_dir/liudongdong/data/flexData/chars/charFlex/26char/S/1629374404.321593.txt label 18 \n",
      "filename: /home/iot/jupyter/root_dir/liudongdong/data/flexData/chars/charFlex/26char/S/1629374389.4557598.txt label 18 \n",
      "filename: /home/iot/jupyter/root_dir/liudongdong/data/flexData/chars/charFlex/26char/H/1629373824.3124924.txt label 7 \n",
      "filename: /home/iot/jupyter/root_dir/liudongdong/data/flexData/chars/charFlex/26char/H/1629373801.864481.txt label 7 \n",
      "filename: /home/iot/jupyter/root_dir/liudongdong/data/flexData/chars/charFlex/26char/C/1629373390.044407.txt label 2 \n",
      "filename: /home/iot/jupyter/root_dir/liudongdong/data/flexData/chars/charFlex/26char/C/1629373437.905295.txt label 2 \n",
      "filename: /home/iot/jupyter/root_dir/liudongdong/data/flexData/chars/charFlex/26char/C/1629373371.1589952.txt label 2 \n",
      "filename: /home/iot/jupyter/root_dir/liudongdong/data/flexData/chars/charFlex/26char/C/1629373406.3248882.txt label 2 \n",
      "filename: /home/iot/jupyter/root_dir/liudongdong/data/flexData/chars/charFlex/26char/C/1629373454.4854934.txt label 2 \n",
      "filename: /home/iot/jupyter/root_dir/liudongdong/data/flexData/chars/charFlex/26char/C/1629373467.9557772.txt label 2 \n",
      "filename: /home/iot/jupyter/root_dir/liudongdong/data/flexData/chars/charFlex/26char/C/1629373421.187969.txt label 2 \n",
      "filename: /home/iot/jupyter/root_dir/liudongdong/data/flexData/chars/charFlex/26char/M/1629374035.7386992.txt label 12 \n",
      "filename: /home/iot/jupyter/root_dir/liudongdong/data/flexData/chars/charFlex/26char/M/1629374017.3913875.txt label 12 \n",
      "filename: /home/iot/jupyter/root_dir/liudongdong/data/flexData/chars/charFlex/26char/A/1629373174.9253013.txt label 0 \n",
      "filename: /home/iot/jupyter/root_dir/liudongdong/data/flexData/chars/charFlex/26char/A/1629373112.047801.txt label 0 \n",
      "filename: /home/iot/jupyter/root_dir/liudongdong/data/flexData/chars/charFlex/26char/A/1629373208.2372983.txt label 0 \n",
      "filename: /home/iot/jupyter/root_dir/liudongdong/data/flexData/chars/charFlex/26char/A/1629373153.8627765.txt label 0 \n",
      "filename: /home/iot/jupyter/root_dir/liudongdong/data/flexData/chars/charFlex/26char/A/1629373092.0717685.txt label 0 \n",
      "filename: /home/iot/jupyter/root_dir/liudongdong/data/flexData/chars/charFlex/26char/A/1629373133.5725815.txt label 0 \n",
      "filename: /home/iot/jupyter/root_dir/liudongdong/data/flexData/chars/charFlex/26char/A/1629373223.4042244.txt label 0 \n",
      "filename: /home/iot/jupyter/root_dir/liudongdong/data/flexData/chars/charFlex/26char/F/1629373715.9076538.txt label 5 \n",
      "filename: /home/iot/jupyter/root_dir/liudongdong/data/flexData/chars/charFlex/26char/F/1629373686.7886217.txt label 5 \n",
      "filename: /home/iot/jupyter/root_dir/liudongdong/data/flexData/chars/charFlex/26char/F/1629373701.1897788.txt label 5 \n",
      "filename: /home/iot/jupyter/root_dir/liudongdong/data/flexData/chars/charFlex/26char/V/1629374587.8436878.txt label 21 \n",
      "filename: /home/iot/jupyter/root_dir/liudongdong/data/flexData/chars/charFlex/26char/V/1629374571.984546.txt label 21 \n",
      "filename: /home/iot/jupyter/root_dir/liudongdong/data/flexData/chars/charFlex/26char/Z/1629374724.0046184.txt label 25 \n",
      "filename: /home/iot/jupyter/root_dir/liudongdong/data/flexData/chars/charFlex/26char/Z/1629374742.8723354.txt label 25 \n",
      "filename: /home/iot/jupyter/root_dir/liudongdong/data/flexData/chars/charFlex/26char/B/1629373264.1305943.txt label 1 \n",
      "filename: /home/iot/jupyter/root_dir/liudongdong/data/flexData/chars/charFlex/26char/B/1629373317.7190268.txt label 1 \n",
      "filename: /home/iot/jupyter/root_dir/liudongdong/data/flexData/chars/charFlex/26char/B/1629373298.979012.txt label 1 \n",
      "filename: /home/iot/jupyter/root_dir/liudongdong/data/flexData/chars/charFlex/26char/B/1629373246.7974458.txt label 1 \n",
      "filename: /home/iot/jupyter/root_dir/liudongdong/data/flexData/chars/charFlex/26char/B/1629373282.7169266.txt label 1 \n",
      "filename: /home/iot/jupyter/root_dir/liudongdong/data/flexData/chars/charFlex/26char/B/1629373332.7441726.txt label 1 \n",
      "filename: /home/iot/jupyter/root_dir/liudongdong/data/flexData/chars/charFlex/26char/B/1629373348.2292235.txt label 1 \n",
      "filename: /home/iot/jupyter/root_dir/liudongdong/data/flexData/chars/charFlex/26char/I/1629373846.9316235.txt label 8 \n",
      "filename: /home/iot/jupyter/root_dir/liudongdong/data/flexData/chars/charFlex/26char/I/1629373865.354336.txt label 8 \n",
      "filename: /home/iot/jupyter/root_dir/liudongdong/data/flexData/chars/charFlex/26char/U/1.txt label 20 \n",
      "filename: /home/iot/jupyter/root_dir/liudongdong/data/flexData/chars/charFlex/26char/U/3.txt label 20 \n",
      "filename: /home/iot/jupyter/root_dir/liudongdong/data/flexData/chars/charFlex/26char/U/7.txt label 20 \n",
      "filename: /home/iot/jupyter/root_dir/liudongdong/data/flexData/chars/charFlex/26char/U/5.txt label 20 \n",
      "filename: /home/iot/jupyter/root_dir/liudongdong/data/flexData/chars/charFlex/26char/U/2.txt label 20 \n",
      "filename: /home/iot/jupyter/root_dir/liudongdong/data/flexData/chars/charFlex/26char/U/6.txt label 20 \n",
      "filename: /home/iot/jupyter/root_dir/liudongdong/data/flexData/chars/charFlex/26char/U/4.txt label 20 \n",
      "filename: /home/iot/jupyter/root_dir/liudongdong/data/flexData/chars/charFlex/26char/Y/1629374705.5657222.txt label 24 \n",
      "filename: /home/iot/jupyter/root_dir/liudongdong/data/flexData/chars/charFlex/26char/Y/1629374688.5132308.txt label 24 \n",
      "filename: /home/iot/jupyter/root_dir/liudongdong/data/flexData/chars/charFlex/26char/D/1629373494.3731718.txt label 3 \n",
      "filename: /home/iot/jupyter/root_dir/liudongdong/data/flexData/chars/charFlex/26char/D/1629373572.488194.txt label 3 \n",
      "filename: /home/iot/jupyter/root_dir/liudongdong/data/flexData/chars/charFlex/26char/D/1629373531.600231.txt label 3 \n",
      "filename: /home/iot/jupyter/root_dir/liudongdong/data/flexData/chars/charFlex/26char/D/1629373594.0136235.txt label 3 \n",
      "filename: /home/iot/jupyter/root_dir/liudongdong/data/flexData/chars/charFlex/26char/D/1629373612.7574856.txt label 3 \n",
      "filename: /home/iot/jupyter/root_dir/liudongdong/data/flexData/chars/charFlex/26char/D/1629373554.5206027.txt label 3 \n",
      "filename: /home/iot/jupyter/root_dir/liudongdong/data/flexData/chars/charFlex/26char/D/1629373515.652166.txt label 3 \n",
      "filename: /home/iot/jupyter/root_dir/liudongdong/data/flexData/chars/charFlex/26char/R/1629374349.4910352.txt label 17 \n",
      "filename: /home/iot/jupyter/root_dir/liudongdong/data/flexData/chars/charFlex/26char/R/1629374334.3194687.txt label 17 \n",
      "filename: /home/iot/jupyter/root_dir/liudongdong/data/flexData/chars/charFlex/26char/K/1629373946.1999195.txt label 10 \n",
      "filename: /home/iot/jupyter/root_dir/liudongdong/data/flexData/chars/charFlex/26char/K/1629373928.7991126.txt label 10 \n",
      "filename: /home/iot/jupyter/root_dir/liudongdong/data/flexData/chars/charFlex/26char/O/1629374153.7318938.txt label 14 \n",
      "filename: /home/iot/jupyter/root_dir/liudongdong/data/flexData/chars/charFlex/26char/O/1629374135.5523932.txt label 14 \n",
      "filename: /home/iot/jupyter/root_dir/liudongdong/data/flexData/chars/charFlex/26char/L/1629373969.3825963.txt label 11 \n",
      "filename: /home/iot/jupyter/root_dir/liudongdong/data/flexData/chars/charFlex/26char/L/1629373985.0752816.txt label 11 \n",
      "filename: /home/iot/jupyter/root_dir/liudongdong/data/flexData/chars/charFlex/26char/W/1629374610.1544263.txt label 22 \n",
      "filename: /home/iot/jupyter/root_dir/liudongdong/data/flexData/chars/charFlex/26char/W/1629374625.0146277.txt label 22 \n",
      "filename: /home/iot/jupyter/root_dir/liudongdong/data/flexData/chars/charFlex/26char/N/1629374054.7742877.txt label 13 \n",
      "filename: /home/iot/jupyter/root_dir/liudongdong/data/flexData/chars/charFlex/26char/N/1629374070.7255425.txt label 13 \n",
      "filename: /home/iot/jupyter/root_dir/liudongdong/data/flexData/chars/charFlex/26char/T/1629374442.6718276.txt label 19 \n",
      "filename: /home/iot/jupyter/root_dir/liudongdong/data/flexData/chars/charFlex/26char/T/1629374479.2845614.txt label 19 \n",
      "filename: /home/iot/jupyter/root_dir/liudongdong/data/flexData/chars/charFlex/26char/G/1629373744.3431287.txt label 6 \n",
      "filename: /home/iot/jupyter/root_dir/liudongdong/data/flexData/chars/charFlex/26char/G/1629373779.4022195.txt label 6 \n",
      "filename: /home/iot/jupyter/root_dir/liudongdong/data/flexData/chars/charFlex/26char/G/1629373765.61485.txt label 6 \n",
      "filename: /home/iot/jupyter/root_dir/liudongdong/data/flexData/chars/charFlex/26char/E/1629373657.515705.txt label 4 \n",
      "filename: /home/iot/jupyter/root_dir/liudongdong/data/flexData/chars/charFlex/26char/E/1629373634.3812308.txt label 4 \n",
      "filename: /home/iot/jupyter/root_dir/liudongdong/data/flexData/chars/charFlex/26char/E/1629373649.1513212.txt label 4 \n",
      "filename: /home/iot/jupyter/root_dir/liudongdong/data/flexData/chars/charFlex/26char/Q/1629374289.4154873.txt label 16 \n",
      "filename: /home/iot/jupyter/root_dir/liudongdong/data/flexData/chars/charFlex/26char/Q/1629374304.5801198.txt label 16 \n",
      "filename: /home/iot/jupyter/root_dir/liudongdong/data/flexData/chars/charFlex/26char/X/1629374649.9522963.txt label 23 \n",
      "filename: /home/iot/jupyter/root_dir/liudongdong/data/flexData/chars/charFlex/26char/X/1629374669.7726202.txt label 23 \n",
      "filename: /home/iot/jupyter/root_dir/liudongdong/data/flexData/chars/charFlex/26char/P/1629374198.2024212.txt label 15 \n",
      "filename: /home/iot/jupyter/root_dir/liudongdong/data/flexData/chars/charFlex/26char/P/1629374220.9453154.txt label 15 \n",
      "filename: /home/iot/jupyter/root_dir/liudongdong/data/flexData/chars/charFlex/26char/J/1629373890.697446.txt label 9 \n",
      "filename: /home/iot/jupyter/root_dir/liudongdong/data/flexData/chars/charFlex/26char/J/1629373910.2688975.txt label 9 \n",
      "test_x (tensor([[ 70., -28., -39., -13.,  34.],\n",
      "        [ 98.,  28., -11.,  15.,  62.],\n",
      "        [109.,  39.,  11.,  26.,  73.],\n",
      "        [ 83.,  13., -15., -26.,  47.],\n",
      "        [ 36., -34., -62., -73., -47.]]), tensor(19)) test_y (tensor([[ 70., -27., -39., -13.,  34.],\n",
      "        [ 97.,  27., -12.,  14.,  61.],\n",
      "        [109.,  39.,  12.,  26.,  73.],\n",
      "        [ 83.,  13., -14., -26.,  47.],\n",
      "        [ 36., -34., -61., -73., -47.]]), tensor(19))\n",
      "train_x (tensor([[ 93., -21., -39., -40.,   9.],\n",
      "        [114.,  21., -18., -19.,  30.],\n",
      "        [132.,  39.,  18.,  -1.,  48.],\n",
      "        [133.,  40.,  19.,   1.,  49.],\n",
      "        [ 84.,  -9., -30., -48., -49.]]), tensor(18)) label_y (tensor([[ 93., -21., -39., -40.,   9.],\n",
      "        [114.,  21., -18., -19.,  30.],\n",
      "        [132.,  39.,  18.,  -1.,  48.],\n",
      "        [133.,  40.,  19.,   1.,  49.],\n",
      "        [ 84.,  -9., -30., -48., -49.]]), tensor(18))\n"
     ]
    }
   ],
   "source": [
    "train=DataReadTrain(r\"/home/iot/jupyter/root_dir/liudongdong/data/flexData/chars/char1\",\"w\",fivePoint)\n",
    "test=DataReadTest(r\"/home/iot/jupyter/root_dir/liudongdong/data/flexData/chars/charFlex/26char\",\"w\",fivePoint)\n",
    "print(\"test_x\",train[0],\"test_y\",train[1])\n",
    "print(\"train_x\",test[0],\"label_y\",test[1])"
   ]
  },
  {
   "cell_type": "code",
   "execution_count": null,
   "id": "16d0e459",
   "metadata": {},
   "outputs": [],
   "source": [
    "batch_size=10000\n",
    "train_loader = DataLoader(dataset=train, batch_size=len(train), shuffle=False)\n",
    "test_loader = DataLoader(dataset=test, batch_size=len(test), shuffle=False)"
   ]
  }
 ],
 "metadata": {
  "kernelspec": {
   "display_name": "Python [conda env:dataglove] *",
   "language": "python",
   "name": "conda-env-dataglove-py"
  },
  "language_info": {
   "codemirror_mode": {
    "name": "ipython",
    "version": 3
   },
   "file_extension": ".py",
   "mimetype": "text/x-python",
   "name": "python",
   "nbconvert_exporter": "python",
   "pygments_lexer": "ipython3",
   "version": "3.7.0"
  },
  "toc": {
   "base_numbering": 1,
   "nav_menu": {},
   "number_sections": true,
   "sideBar": true,
   "skip_h1_title": false,
   "title_cell": "Table of Contents",
   "title_sidebar": "Contents",
   "toc_cell": false,
   "toc_position": {},
   "toc_section_display": true,
   "toc_window_display": false
  }
 },
 "nbformat": 4,
 "nbformat_minor": 5
}
