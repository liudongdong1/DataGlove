{
 "cells": [
  {
   "cell_type": "code",
   "execution_count": 25,
   "metadata": {
    "ExecuteTime": {
     "end_time": "2021-05-21T13:42:47.751837Z",
     "start_time": "2021-05-21T13:42:47.745245Z"
    }
   },
   "outputs": [],
   "source": [
    "import numpy as np\n",
    "import matplotlib.pyplot as mp\n",
    "import sklearn.model_selection as ms\n",
    "import sklearn.svm as svm\n",
    "import sklearn.tree as st\n",
    "import sklearn.datasets as sd  # sklearn提供的数据集\n",
    "import sklearn.utils as su  # 可以把数据集按照行进行打乱\n",
    "import sklearn.metrics as sm\n",
    "import sklearn.ensemble as se\n",
    "import joblib\n",
    "import os\n",
    "import random\n",
    "from dataReadFeature import *\n",
    "import warnings\n",
    "warnings.filterwarnings(\"ignore\")"
   ]
  },
  {
   "cell_type": "code",
   "execution_count": 26,
   "metadata": {
    "ExecuteTime": {
     "end_time": "2021-05-21T13:42:51.760811Z",
     "start_time": "2021-05-21T13:42:51.625195Z"
    },
    "scrolled": true
   },
   "outputs": [
    {
     "name": "stdout",
     "output_type": "stream",
     "text": [
      "label: {'finger_heart': 1, 'gun': 2, 'horned_hand': 3, 'iloveu': 4, 'ok': 5, 'paper': 6, 'rock': 7, 'scissors': 8, 'thums_up': 9, 'well_played': 10}\n",
      "readOneFlexData: filename ../../data/temp/picFlex/word_test1/iloveu/1621599720.3650362.txt\n",
      "readOneFlexData: filename ../../data/temp/picFlex/word_test1/iloveu/1621599703.6373394.txt\n",
      "readOneFlexData: filename ../../data/temp/picFlex/word_test1/iloveu/1621599688.333636.txt\n",
      "readOneFlexData: filename ../../data/temp/picFlex/word_test1/horned_hand/1621599977.583867.txt\n",
      "readOneFlexData: filename ../../data/temp/picFlex/word_test1/horned_hand/1621599917.509808.txt\n",
      "readOneFlexData: filename ../../data/temp/picFlex/word_test1/horned_hand/1621599949.718599.txt\n",
      "readOneFlexData: filename ../../data/temp/picFlex/word_test1/horned_hand/1621599902.658089.txt\n",
      "readOneFlexData: filename ../../data/temp/picFlex/word_test1/horned_hand/1621600016.448818.txt\n",
      "readOneFlexData: filename ../../data/temp/picFlex/word_test1/horned_hand/1621599932.532863.txt\n",
      "readOneFlexData: filename ../../data/temp/picFlex/word_test1/horned_hand/1621600000.4965878.txt\n",
      "readOneFlexData: filename ../../data/temp/picFlex/word_test1/paper/1621599171.9330714.txt\n",
      "readOneFlexData: filename ../../data/temp/picFlex/word_test1/paper/1621599186.9421105.txt\n",
      "readOneFlexData: filename ../../data/temp/picFlex/word_test1/paper/1621599136.306621.txt\n",
      "readOneFlexData: filename ../../data/temp/picFlex/word_test1/gun/1621599389.0454977.txt\n",
      "readOneFlexData: filename ../../data/temp/picFlex/word_test1/gun/1621599404.6741679.txt\n",
      "readOneFlexData: filename ../../data/temp/picFlex/word_test1/gun/1621599371.7058723.txt\n",
      "readOneFlexData: filename ../../data/temp/picFlex/word_test1/gun/1621599357.7508626.txt\n",
      "readOneFlexData: filename ../../data/temp/picFlex/word_test1/ok/1621599754.764391.txt\n",
      "readOneFlexData: filename ../../data/temp/picFlex/word_test1/ok/1621599768.6842246.txt\n",
      "readOneFlexData: filename ../../data/temp/picFlex/word_test1/ok/1621599739.1097002.txt\n",
      "readOneFlexData: filename ../../data/temp/picFlex/word_test1/ok/1621599785.5637405.txt\n",
      "readOneFlexData: filename ../../data/temp/picFlex/word_test1/ok/1621599802.6003954.txt\n",
      "readOneFlexData: filename ../../data/temp/picFlex/word_test1/thums_up/1621599836.053417.txt\n",
      "readOneFlexData: filename ../../data/temp/picFlex/word_test1/thums_up/1621599879.8828437.txt\n",
      "readOneFlexData: filename ../../data/temp/picFlex/word_test1/thums_up/1621599820.5727775.txt\n",
      "readOneFlexData: filename ../../data/temp/picFlex/word_test1/thums_up/1621599845.347456.txt\n",
      "readOneFlexData: filename ../../data/temp/picFlex/word_test1/thums_up/1621599863.3095114.txt\n",
      "readOneFlexData: filename ../../data/temp/picFlex/word_test1/well_played/1621599237.5890045.txt\n",
      "readOneFlexData: filename ../../data/temp/picFlex/word_test1/well_played/1621599253.358414.txt\n",
      "readOneFlexData: filename ../../data/temp/picFlex/word_test1/well_played/1621599222.61042.txt\n",
      "readOneFlexData: filename ../../data/temp/picFlex/word_test1/finger_heart/1621599630.3922217.txt\n",
      "readOneFlexData: filename ../../data/temp/picFlex/word_test1/finger_heart/1621599614.13049.txt\n",
      "readOneFlexData: filename ../../data/temp/picFlex/word_test1/finger_heart/1621599591.3647246.txt\n",
      "readOneFlexData: filename ../../data/temp/picFlex/word_test1/finger_heart/1621599647.8799384.txt\n",
      "readOneFlexData: filename ../../data/temp/picFlex/word_test1/scissors/1621598953.2657528.txt\n",
      "readOneFlexData: filename ../../data/temp/picFlex/word_test1/scissors/1621598967.9845219.txt\n",
      "readOneFlexData: filename ../../data/temp/picFlex/word_test1/scissors/1621598935.1602697.txt\n",
      "readOneFlexData: filename ../../data/temp/picFlex/word_test1/rock/1621599551.4379017.txt\n",
      "readOneFlexData: filename ../../data/temp/picFlex/word_test1/rock/1621599536.4298828.txt\n",
      "readOneFlexData: filename ../../data/temp/picFlex/word_test1/rock/1621599507.0015402.txt\n",
      "label: {'finger_heart': 1, 'gun': 2, 'horned_hand': 3, 'iloveu': 4, 'ok': 5, 'paper': 6, 'rock': 7, 'scissors': 8, 'thums_up': 9, 'well_played': 10}\n",
      "数据长度： 2404 2404\n",
      "test_x [57.458747000651286, 100.64025439679203, 43.181507396140745, 117.87586222702217, 60.41711522637088, 17.235607830230137, -9.142686607788164e-13, -57.4587470006522, -100.64025439679294, -117.87586222702308, 5.702105454474804e-13, -57.45874700065072, -100.64025439679146, -117.8758622270216, 1.4844792062262968e-12] test_y 4.0\n",
      "train_x [  23.50803742  120.69313863   97.18510121  129.71149432  106.20345691\n",
      "    9.0183557     2.88728637  -20.62075105 -117.80585226 -126.82420795\n",
      "   14.34644227   -9.16159514 -106.34669635 -115.36505205   11.4591559 ] label_y 4\n"
     ]
    }
   ],
   "source": [
    "#加载数据\n",
    "databasefoler=r\"../../data/temp/picFlex\"\n",
    "classLabel=[\"word\",\"word_test1\",\"word_testData\",\"digit\",\"digit_test1\",\"digit_testData\"]\n",
    "\n",
    "# 读取测试数据\n",
    "test_x,test_y = FlexSensorDataRead(basefolder=databasefoler,classtype=classLabel[1]).getDataLabel()\n",
    "# 读取训练数据\n",
    "train_data = TorchDataset(basefolder=databasefoler, classtype=classLabel[0])\n",
    "train_x,train_y=train_data.getAllData()\n",
    "\n",
    "#查看一组数据\n",
    "print(\"test_x\",test_x[0],\"test_y\",test_y[0])\n",
    "print(\"train_x\",train_x[0],\"label_y\",train_y[0])"
   ]
  },
  {
   "cell_type": "code",
   "execution_count": null,
   "metadata": {},
   "outputs": [],
   "source": []
  },
  {
   "cell_type": "code",
   "execution_count": 8,
   "metadata": {
    "ExecuteTime": {
     "end_time": "2022-10-08T07:51:18.751109Z",
     "start_time": "2022-10-08T07:51:18.743698Z"
    }
   },
   "outputs": [],
   "source": [
    "def printPredictionResult(test_y,pred_test_y):\n",
    "    '''\n",
    "    ;function: 模型执行结果参数显示\n",
    "    ;parameters:\n",
    "        test_y: 真实标签数据；\n",
    "        pred_test_y: 模型预测的y数据\n",
    "    '''\n",
    "    print(sm.accuracy_score(test_y, pred_test_y))  #https://scikit-learn.org/stable/modules/generated/sklearn.metrics.accuracy_score.html\n",
    "    bg = sm.classification_report(test_y, pred_test_y) #y_true, y_pred,Build a text report showing the main classification metrics.\n",
    "    print('分类报告：', bg, sep='\\n')"
   ]
  },
  {
   "cell_type": "code",
   "execution_count": 28,
   "metadata": {
    "ExecuteTime": {
     "end_time": "2021-05-21T13:42:59.067081Z",
     "start_time": "2021-05-21T13:42:59.018339Z"
    }
   },
   "outputs": [
    {
     "name": "stdout",
     "output_type": "stream",
     "text": [
      "test_x [-0.25716444 -0.23237881  0.06961648  0.2987694   0.49490211  0.82735269\n",
      " -0.96576041 -0.5953772  -0.64016455 -1.10395498 -1.58761681 -0.20947854\n",
      " -0.30106327 -0.72473295  0.48222458] test_y 4.0\n",
      "train_x [-0.76212141  0.11471343  1.04233652  0.47872806  1.10832165  0.62180325\n",
      " -0.92093602 -0.10709196 -0.86542638 -1.22463513 -0.86019517  0.51209373\n",
      " -0.3971158  -0.689026    0.66107712] label_y 4\n"
     ]
    }
   ],
   "source": [
    "\n",
    "\n",
    "# 数据标准化\n",
    "from sklearn.preprocessing import StandardScaler\n",
    "ss_X = StandardScaler()\n",
    "ss_y = StandardScaler()\n",
    "train_x = ss_X.fit_transform(train_x)\n",
    "test_x  = ss_X.transform(test_x)\n",
    "#查看一组数据\n",
    "print(\"test_x\",test_x[0],\"test_y\",test_y[0])\n",
    "print(\"train_x\",train_x[0],\"label_y\",train_y[0])"
   ]
  },
  {
   "cell_type": "code",
   "execution_count": null,
   "metadata": {},
   "outputs": [],
   "source": []
  },
  {
   "cell_type": "code",
   "execution_count": 29,
   "metadata": {
    "ExecuteTime": {
     "end_time": "2021-05-21T13:43:07.430002Z",
     "start_time": "2021-05-21T13:43:07.378108Z"
    }
   },
   "outputs": [
    {
     "name": "stdout",
     "output_type": "stream",
     "text": [
      "0.7802703079281037\n",
      "分类报告：\n",
      "              precision    recall  f1-score   support\n",
      "\n",
      "         1.0       0.00      0.00      0.00       724\n",
      "         2.0       0.50      1.00      0.67       723\n",
      "         3.0       1.00      1.00      1.00      1267\n",
      "         4.0       1.00      1.00      1.00       543\n",
      "         5.0       0.99      1.00      1.00       904\n",
      "         6.0       1.00      0.99      0.99       543\n",
      "         7.0       0.92      1.00      0.96       543\n",
      "         8.0       1.00      1.00      1.00       543\n",
      "         9.0       1.00      0.02      0.04       844\n",
      "        10.0       1.00      0.97      0.98       543\n",
      "\n",
      "    accuracy                           0.78      7177\n",
      "   macro avg       0.84      0.80      0.76      7177\n",
      "weighted avg       0.84      0.78      0.75      7177\n",
      "\n"
     ]
    }
   ],
   "source": [
    "model = svm.SVC(kernel='linear', C=0.58)\n",
    "model.fit(train_x, train_y)\n",
    "pred_test_y = model.predict(test_x)\n",
    "print(sm.accuracy_score(test_y, pred_test_y))\n",
    "bg = sm.classification_report(test_y, pred_test_y)\n",
    "print('分类报告：', bg, sep='\\n')"
   ]
  },
  {
   "cell_type": "code",
   "execution_count": 21,
   "metadata": {
    "ExecuteTime": {
     "end_time": "2021-05-21T13:36:36.357484Z",
     "start_time": "2021-05-21T13:36:34.656457Z"
    }
   },
   "outputs": [
    {
     "name": "stdout",
     "output_type": "stream",
     "text": [
      "The best parameters are {'C': 10, 'kernel': 'linear'} with a score of 1.00\n"
     ]
    }
   ],
   "source": [
    "#------------------SVM 分类模型--------------\n",
    "from sklearn.model_selection import GridSearchCV\n",
    "\n",
    "param_grid = [\n",
    "\t{'kernel':['linear'],'C':[1,10,100,1000]},\n",
    "\t{'kernel':['poly'],'C':[1,10],'degree':[2,3]},\n",
    "\t{'kernel':['rbf'],'C':[1,10,100,1000],'gamma':[1,0.1, 0.01, 0.001]}]\n",
    "\n",
    "grid = GridSearchCV(svm.SVC(),param_grid,cv=5) #实例化一个GridSearchCV类\n",
    "grid.fit(train_x, train_y)\n",
    "print(\"The best parameters are %s with a score of %0.2f\" %(grid.best_params_, grid.best_score_))\n"
   ]
  },
  {
   "cell_type": "code",
   "execution_count": 22,
   "metadata": {
    "ExecuteTime": {
     "end_time": "2021-05-21T13:36:52.755999Z",
     "start_time": "2021-05-21T13:36:52.711098Z"
    }
   },
   "outputs": [
    {
     "name": "stdout",
     "output_type": "stream",
     "text": [
      "0.7797129719938694\n",
      "分类报告：\n",
      "              precision    recall  f1-score   support\n",
      "\n",
      "         1.0       0.00      0.00      0.00       724\n",
      "         2.0       0.50      1.00      0.67       723\n",
      "         3.0       1.00      1.00      1.00      1267\n",
      "         4.0       1.00      1.00      1.00       543\n",
      "         5.0       0.99      1.00      1.00       904\n",
      "         6.0       1.00      0.99      0.99       543\n",
      "         7.0       0.92      1.00      0.96       543\n",
      "         8.0       1.00      1.00      1.00       543\n",
      "         9.0       1.00      0.01      0.03       844\n",
      "        10.0       1.00      0.97      0.98       543\n",
      "\n",
      "    accuracy                           0.78      7177\n",
      "   macro avg       0.84      0.80      0.76      7177\n",
      "weighted avg       0.84      0.78      0.75      7177\n",
      "\n"
     ]
    }
   ],
   "source": [
    "#------------------SVM 分类模型--------------\n",
    "svm_model=svm.SVC(C= 10, kernel= 'linear')   #需要设置参数\n",
    "svm_model.fit(train_x, train_y)\n",
    "pred_test_y = svm_model.predict(test_x)\n",
    "#统计准确率\n",
    "printPredictionResult(test_y,pred_test_y)"
   ]
  },
  {
   "cell_type": "code",
   "execution_count": 6,
   "metadata": {
    "ExecuteTime": {
     "end_time": "2021-05-20T02:45:59.243865Z",
     "start_time": "2021-05-20T02:45:58.929105Z"
    }
   },
   "outputs": [
    {
     "name": "stdout",
     "output_type": "stream",
     "text": [
      "The best parameters are {'algorithm': 'auto', 'n_neighbors': 10} with a score of 0.99\n"
     ]
    }
   ],
   "source": [
    "#------------------k-近邻分类器--------------\n",
    "\n",
    "from sklearn.neighbors import KNeighborsClassifier\n",
    "from sklearn.model_selection import GridSearchCV\n",
    "#调参数\n",
    "knn = KNeighborsClassifier()\n",
    "grid_param={'n_neighbors':[10],'algorithm':['auto','ball_tree','brute']}\n",
    "grid=GridSearchCV(knn,grid_param,cv=5)\n",
    "grid.fit(train_x, train_y)\n",
    "print(\"The best parameters are %s with a score of %0.2f\" %(grid.best_params_, grid.best_score_))"
   ]
  },
  {
   "cell_type": "code",
   "execution_count": 7,
   "metadata": {
    "ExecuteTime": {
     "end_time": "2021-05-20T02:46:03.918609Z",
     "start_time": "2021-05-20T02:46:03.727266Z"
    }
   },
   "outputs": [
    {
     "name": "stdout",
     "output_type": "stream",
     "text": [
      "knn: 0.6190\n",
      "recall: 0.6751\n",
      "F1: 0.6414\n",
      "0.6189964157706093\n",
      "分类报告：\n",
      "              precision    recall  f1-score   support\n",
      "\n",
      "         1.0       0.80      1.00      0.89       543\n",
      "         2.0       1.00      0.75      0.86       543\n",
      "         3.0       0.00      0.00      0.00       724\n",
      "         4.0       0.00      0.00      0.00       724\n",
      "         5.0       1.00      1.00      1.00       543\n",
      "         6.0       1.00      1.00      1.00       512\n",
      "         7.0       0.50      1.00      0.67       543\n",
      "         8.0       1.00      1.00      1.00       362\n",
      "         9.0       0.00      0.00      0.00       543\n",
      "        10.0       1.00      1.00      1.00       543\n",
      "\n",
      "    accuracy                           0.62      5580\n",
      "   macro avg       0.63      0.68      0.64      5580\n",
      "weighted avg       0.58      0.62      0.59      5580\n",
      "\n"
     ]
    }
   ],
   "source": [
    "#------------------k-近邻分类器--------------\n",
    "knn = KNeighborsClassifier(algorithm= 'auto', n_neighbors= 10)  #todo 需要根据上一步来设置模型参数\n",
    "knn.fit(train_x, train_y)\n",
    "pred_test_knn = knn.predict(test_x)\n",
    "print('knn:',format(sm.accuracy_score(test_y, pred_test_knn),'.4f'))\n",
    "print('recall:',format(sm.recall_score(test_y, pred_test_knn,average='macro'),'.4f'))\n",
    "print('F1:',format(sm.f1_score(test_y, pred_test_knn, average='macro'),'.4f'))\n",
    "#统计准确率\n",
    "printPredictionResult(test_y,pred_test_knn)"
   ]
  },
  {
   "cell_type": "code",
   "execution_count": 8,
   "metadata": {
    "ExecuteTime": {
     "end_time": "2021-05-20T02:46:13.382842Z",
     "start_time": "2021-05-20T02:46:06.734162Z"
    }
   },
   "outputs": [
    {
     "name": "stdout",
     "output_type": "stream",
     "text": [
      "The best parameters are {'C': 2335.7214690901214} with a score of 0.99\n"
     ]
    }
   ],
   "source": [
    "#------------------Logistic Regression Classifier--------------\n",
    "#调参数\n",
    "from sklearn.linear_model import LogisticRegression\n",
    "lg = LogisticRegression()\n",
    "grid_param={'C':np.logspace(1, 4, 20)}\n",
    "grid=GridSearchCV(lg,grid_param,cv=5)\n",
    "grid.fit(train_x, train_y)\n",
    "print(\"The best parameters are %s with a score of %0.2f\" %(grid.best_params_, grid.best_score_))"
   ]
  },
  {
   "cell_type": "code",
   "execution_count": 9,
   "metadata": {
    "ExecuteTime": {
     "end_time": "2021-05-20T02:46:17.798882Z",
     "start_time": "2021-05-20T02:46:17.673106Z"
    }
   },
   "outputs": [
    {
     "name": "stdout",
     "output_type": "stream",
     "text": [
      "accuracylg: 0.3611\n",
      "0.3611111111111111\n",
      "分类报告：\n",
      "              precision    recall  f1-score   support\n",
      "\n",
      "         1.0       0.48      1.00      0.65       543\n",
      "         2.0       1.00      0.90      0.95       543\n",
      "         3.0       0.00      0.00      0.00       724\n",
      "         4.0       0.00      0.00      0.00       724\n",
      "         5.0       0.23      0.14      0.17       543\n",
      "         6.0       0.04      0.04      0.04       512\n",
      "         7.0       0.95      1.00      0.98       543\n",
      "         8.0       0.59      0.95      0.73       362\n",
      "         9.0       0.00      0.00      0.00       543\n",
      "        10.0       0.00      0.00      0.00       543\n",
      "\n",
      "    accuracy                           0.36      5580\n",
      "   macro avg       0.33      0.40      0.35      5580\n",
      "weighted avg       0.30      0.36      0.32      5580\n",
      "\n"
     ]
    }
   ],
   "source": [
    "#------------------Logistic Regression Classifier--------------\n",
    "lg = LogisticRegression(C=2335.7214690901214)  #todo 需要根据上一步来设置模型参数\n",
    "lg.fit(train_x, train_y)\n",
    "pred_test_lg = lg.predict(test_x)\n",
    "print('accuracylg:',format(sm.accuracy_score(test_y, pred_test_lg),'.4f'))\n",
    "printPredictionResult(test_y,pred_test_lg)"
   ]
  },
  {
   "cell_type": "code",
   "execution_count": 10,
   "metadata": {
    "ExecuteTime": {
     "end_time": "2021-05-20T02:46:22.787532Z",
     "start_time": "2021-05-20T02:46:21.356131Z"
    }
   },
   "outputs": [
    {
     "name": "stdout",
     "output_type": "stream",
     "text": [
      "The best parameters are {'min_samples_split': 6, 'max_features': 7, 'max_depth': None, 'criterion': 'gini', 'bootstrap': False} with a score of 0.99\n"
     ]
    }
   ],
   "source": [
    "#------------------Random Forest Classifier--------------\n",
    "from sklearn.ensemble import RandomForestClassifier\n",
    "import random\n",
    "from sklearn.model_selection import RandomizedSearchCV\n",
    "RFC = RandomForestClassifier()\n",
    "\n",
    "param_dist = {\"max_depth\": [3, None],\n",
    "              \"max_features\": [random.randint(1, 11)],\n",
    "              \"min_samples_split\": [random.randint(2, 11)],\n",
    "              \"bootstrap\": [True, False],\n",
    "              \"criterion\": [\"gini\", \"entropy\"]}\n",
    "rng = np.random.RandomState(0)\n",
    "grid = RandomizedSearchCV(estimator=RFC, param_distributions=param_dist, random_state=rng)\n",
    "grid.fit(train_x, train_y)\n",
    "print(\"The best parameters are %s with a score of %0.2f\" %(grid.best_params_, grid.best_score_))"
   ]
  },
  {
   "cell_type": "code",
   "execution_count": 11,
   "metadata": {
    "ExecuteTime": {
     "end_time": "2021-05-20T02:46:25.164728Z",
     "start_time": "2021-05-20T02:46:25.038626Z"
    }
   },
   "outputs": [
    {
     "name": "stdout",
     "output_type": "stream",
     "text": [
      "0.6865591397849462\n",
      "分类报告：\n",
      "              precision    recall  f1-score   support\n",
      "\n",
      "         1.0       0.00      0.00      0.00       543\n",
      "         2.0       1.00      0.93      0.96       543\n",
      "         3.0       0.00      0.00      0.00       724\n",
      "         4.0       0.38      0.61      0.47       724\n",
      "         5.0       1.00      1.00      1.00       543\n",
      "         6.0       1.00      1.00      1.00       512\n",
      "         7.0       1.00      1.00      1.00       543\n",
      "         8.0       1.00      1.00      1.00       362\n",
      "         9.0       0.44      1.00      0.61       543\n",
      "        10.0       1.00      0.70      0.82       543\n",
      "\n",
      "    accuracy                           0.69      5580\n",
      "   macro avg       0.68      0.72      0.69      5580\n",
      "weighted avg       0.64      0.69      0.64      5580\n",
      "\n"
     ]
    }
   ],
   "source": [
    "#------------------Random Forest Classifier--------------\n",
    "RFC = RandomForestClassifier(min_samples_split=5, max_features=4, max_depth= None, criterion= 'entropy', bootstrap=False)   #todo 需要根据上一步来设置模型参数\n",
    "RFC.fit(train_x, train_y)\n",
    "pred_test_rfc = RFC.predict(test_x)\n",
    "printPredictionResult(test_y,pred_test_rfc)\n"
   ]
  },
  {
   "cell_type": "code",
   "execution_count": 12,
   "metadata": {
    "ExecuteTime": {
     "end_time": "2021-05-20T02:46:28.502736Z",
     "start_time": "2021-05-20T02:46:26.579918Z"
    }
   },
   "outputs": [
    {
     "name": "stdout",
     "output_type": "stream",
     "text": [
      "The best parameters are {'criterion': 'gini'} with a score of 0.99\n"
     ]
    }
   ],
   "source": [
    "#------------------DecisionTreeClassifier--------------\n",
    "from sklearn import tree\n",
    "param = [{'criterion':['gini'],'max_depth':[30,50,60,100],'min_samples_leaf':[2,3,5,10],'min_impurity_decrease':[0.1,0.2,0.5]},\n",
    "         {'criterion':['gini','entropy']},\n",
    "         {'max_depth': [30,60,100], 'min_impurity_decrease':[0.1,0.2,0.5]}]\n",
    "grid = GridSearchCV(tree.DecisionTreeClassifier(),param_grid=param,cv=6)\n",
    "grid.fit(train_x, train_y)\n",
    "print(\"The best parameters are %s with a score of %0.2f\" %(grid.best_params_, grid.best_score_))"
   ]
  },
  {
   "cell_type": "code",
   "execution_count": 13,
   "metadata": {
    "ExecuteTime": {
     "end_time": "2021-05-20T02:46:29.701472Z",
     "start_time": "2021-05-20T02:46:29.652236Z"
    }
   },
   "outputs": [
    {
     "name": "stdout",
     "output_type": "stream",
     "text": [
      "0.7019713261648746\n",
      "分类报告：\n",
      "              precision    recall  f1-score   support\n",
      "\n",
      "         1.0       0.95      1.00      0.97       543\n",
      "         2.0       0.70      0.95      0.80       543\n",
      "         3.0       0.00      0.00      0.00       724\n",
      "         4.0       0.00      0.00      0.00       724\n",
      "         5.0       1.00      1.00      1.00       543\n",
      "         6.0       1.00      1.00      1.00       512\n",
      "         7.0       0.77      1.00      0.87       543\n",
      "         8.0       1.00      1.00      1.00       362\n",
      "         9.0       0.74      1.00      0.85       543\n",
      "        10.0       1.00      0.66      0.79       543\n",
      "\n",
      "    accuracy                           0.70      5580\n",
      "   macro avg       0.72      0.76      0.73      5580\n",
      "weighted avg       0.66      0.70      0.67      5580\n",
      "\n"
     ]
    }
   ],
   "source": [
    "#------------------DecisionTreeClassifier--------------\n",
    "tre = tree.DecisionTreeClassifier(criterion='gini')   #todo 需要根据上一步来设置模型参数\n",
    "tre.fit(train_x, train_y)\n",
    "pred_test_tre = tre.predict(test_x)\n",
    "printPredictionResult(test_y,pred_test_tre)"
   ]
  },
  {
   "cell_type": "code",
   "execution_count": 5,
   "metadata": {
    "ExecuteTime": {
     "end_time": "2021-05-21T05:00:48.424589Z",
     "start_time": "2021-05-21T05:00:37.383903Z"
    }
   },
   "outputs": [
    {
     "name": "stdout",
     "output_type": "stream",
     "text": [
      "The best parameters are {'activation': 'tanh', 'alpha': 0.1, 'hidden_layer_sizes': (10,)} with a score of 0.99\n"
     ]
    }
   ],
   "source": [
    "#------------------MLPClassifier--------------\n",
    "from sklearn import neural_network\n",
    "from sklearn.model_selection import GridSearchCV\n",
    "mlp=neural_network.MLPClassifier(max_iter=1000)\n",
    "\n",
    "param_grid = {\n",
    "    'hidden_layer_sizes':[(10, ), (20, ), (5, 5)],\n",
    "    'activation':['logistic', 'tanh', 'relu'],\n",
    "    'alpha':[0.001, 0.01, 0.1, 0.4, 1]\n",
    "}\n",
    "\n",
    "grid = GridSearchCV(estimator=mlp,\n",
    "               param_grid=param_grid,\n",
    "               scoring='accuracy', # 打分\n",
    "               return_train_score=True, # 默认不返回 train 的score\n",
    "               refit=True, # 默认为 True, 用最好的模型+全量数据再次训练，用 gscv.best_estimator_ 获取最好模型\n",
    "               n_jobs=-1)\n",
    "grid.fit(train_x, train_y)\n",
    "print(\"The best parameters are %s with a score of %0.2f\" %(grid.best_params_, grid.best_score_))\n"
   ]
  },
  {
   "cell_type": "code",
   "execution_count": 9,
   "metadata": {
    "ExecuteTime": {
     "end_time": "2021-05-21T05:02:34.167141Z",
     "start_time": "2021-05-21T05:02:33.514025Z"
    }
   },
   "outputs": [
    {
     "name": "stdout",
     "output_type": "stream",
     "text": [
      "0.9866888519134775\n",
      "分类报告：\n",
      "              precision    recall  f1-score   support\n",
      "\n",
      "           1       1.00      0.99      0.99       149\n",
      "           2       0.99      1.00      1.00       209\n",
      "           3       0.91      0.96      0.93       205\n",
      "           4       0.97      0.93      0.95       291\n",
      "           5       1.00      1.00      1.00       239\n",
      "           6       1.00      1.00      1.00       300\n",
      "           7       1.00      1.00      1.00       236\n",
      "           8       1.00      1.00      1.00       337\n",
      "           9       1.00      1.00      1.00       223\n",
      "          10       1.00      1.00      1.00       215\n",
      "\n",
      "    accuracy                           0.99      2404\n",
      "   macro avg       0.99      0.99      0.99      2404\n",
      "weighted avg       0.99      0.99      0.99      2404\n",
      "\n"
     ]
    }
   ],
   "source": [
    "#------------------MLPClassifier--------------\n",
    "mlp=neural_network.MLPClassifier(activation='tanh', alpha= 0.1,hidden_layer_sizes=(10,)) #todo 需要根据上一步来设置模型参数\n",
    "mlp.fit(train_x, train_y)\n",
    "pred_y = mlp.predict(train_x)\n",
    "printPredictionResult(train_y,pred_y)"
   ]
  },
  {
   "cell_type": "code",
   "execution_count": 18,
   "metadata": {
    "ExecuteTime": {
     "end_time": "2021-05-20T02:50:02.882663Z",
     "start_time": "2021-05-20T02:50:02.863655Z"
    }
   },
   "outputs": [
    {
     "ename": "ModuleNotFoundError",
     "evalue": "No module named 'xgboost'",
     "output_type": "error",
     "traceback": [
      "\u001b[0;31m---------------------------------------------------------------------------\u001b[0m",
      "\u001b[0;31mModuleNotFoundError\u001b[0m                       Traceback (most recent call last)",
      "\u001b[0;32m<ipython-input-18-4f5d1660fb22>\u001b[0m in \u001b[0;36m<module>\u001b[0;34m\u001b[0m\n\u001b[1;32m      1\u001b[0m \u001b[0;31m#------------------XGBClassifier--------------\u001b[0m\u001b[0;34m\u001b[0m\u001b[0;34m\u001b[0m\u001b[0m\n\u001b[0;32m----> 2\u001b[0;31m \u001b[0;32mimport\u001b[0m \u001b[0mxgboost\u001b[0m \u001b[0;32mas\u001b[0m \u001b[0mxgb\u001b[0m\u001b[0;34m\u001b[0m\u001b[0m\n\u001b[0m\u001b[1;32m      3\u001b[0m \u001b[0;31m#分类器使用 xgboost\u001b[0m\u001b[0;34m\u001b[0m\u001b[0;34m\u001b[0m\u001b[0m\n\u001b[1;32m      4\u001b[0m \u001b[0mclf1\u001b[0m \u001b[0;34m=\u001b[0m \u001b[0mxgb\u001b[0m\u001b[0;34m.\u001b[0m\u001b[0mXGBClassifier\u001b[0m\u001b[0;34m(\u001b[0m\u001b[0;34m)\u001b[0m\u001b[0;34m\u001b[0m\u001b[0m\n\u001b[1;32m      5\u001b[0m \u001b[0;34m\u001b[0m\u001b[0m\n",
      "\u001b[0;31mModuleNotFoundError\u001b[0m: No module named 'xgboost'"
     ]
    }
   ],
   "source": [
    "#------------------XGBClassifier--------------\n",
    "import xgboost as xgb\n",
    "#分类器使用 xgboost\n",
    "clf1 = xgb.XGBClassifier()\n",
    " \n",
    "#设定网格搜索的xgboost参数搜索范围，值搜索XGBoost的主要6个参数\n",
    "param_dist = {\n",
    "        'n_estimators':range(80,200,4),\n",
    "        'max_depth':range(2,15,1),\n",
    "        'learning_rate':np.linspace(0.01,2,20),\n",
    "        'subsample':np.linspace(0.7,0.9,20),\n",
    "        'colsample_bytree':np.linspace(0.5,0.98,10),\n",
    "        'min_child_weight':range(1,9,1)\n",
    "        }\n",
    " \n",
    "#GridSearchCV参数说明，clf1设置训练的学习器\n",
    "#param_dist字典类型，放入参数搜索范围\n",
    "#scoring = 'neg_log_loss'，精度评价方式设定为“neg_log_loss“\n",
    "#n_iter=300，训练300次，数值越大，获得的参数精度越大，但是搜索时间越长\n",
    "#n_jobs = -1，使用所有的CPU进行训练，默认为1，使用1个CPU\n",
    "grid = GridSearchCV(clf1,param_dist,cv = 3,scoring = 'neg_log_loss',n_iter=300,n_jobs = -1)\n",
    "grid.fit(train_x, train_y)\n",
    "print(\"The best parameters are %s with a score of %0.2f\" %(grid.best_params_, grid.best_score_))"
   ]
  },
  {
   "cell_type": "code",
   "execution_count": null,
   "metadata": {
    "ExecuteTime": {
     "end_time": "2021-04-13T13:17:58.642803Z",
     "start_time": "2021-04-13T13:17:58.585838Z"
    }
   },
   "outputs": [],
   "source": [
    "#------------------XGBClassifier--------------\n",
    "mo = XGBClassifier()   #todo 需要根据上一步来设置模型参数\n",
    "mo.fit(train_x, train_y)\n",
    "pred_y = mo.predict(test_x)\n",
    "printPredictionResult(test_y,pred_y)"
   ]
  },
  {
   "cell_type": "code",
   "execution_count": 22,
   "metadata": {
    "ExecuteTime": {
     "end_time": "2021-05-20T02:52:43.106363Z",
     "start_time": "2021-05-20T02:52:17.461331Z"
    }
   },
   "outputs": [
    {
     "name": "stdout",
     "output_type": "stream",
     "text": [
      "Fitting 3 folds for each of 100 candidates, totalling 300 fits\n"
     ]
    },
    {
     "name": "stderr",
     "output_type": "stream",
     "text": [
      "[Parallel(n_jobs=-1)]: Using backend LokyBackend with 64 concurrent workers.\n",
      "[Parallel(n_jobs=-1)]: Done  34 tasks      | elapsed:    4.7s\n",
      "[Parallel(n_jobs=-1)]: Done 300 out of 300 | elapsed:   24.9s finished\n"
     ]
    },
    {
     "name": "stdout",
     "output_type": "stream",
     "text": [
      "The best parameters are {'n_estimators': 200, 'min_samples_split': 10, 'min_samples_leaf': 1, 'max_features': 'auto', 'max_depth': 8, 'bootstrap': False} with a score of -0.00\n"
     ]
    }
   ],
   "source": [
    "from sklearn.model_selection import RandomizedSearchCV\n",
    "from sklearn.ensemble import RandomForestClassifier\n",
    "RF = RandomForestClassifier()\n",
    "#设置初始的参数空间\n",
    "n_estimators = [int(x) for x in np.linspace(start = 200,stop = 2000,num = 10)]\n",
    "min_samples_split = [2,5,10]\n",
    "min_samples_leaf = [1,2,4]\n",
    "max_depth = [5,8,10]\n",
    "max_features = ['auto','sqrt']\n",
    "bootstrap = [True,False]\n",
    "#将参数整理为字典格式\n",
    "random_params_group = {'n_estimators':n_estimators,\n",
    "                      'min_samples_split':min_samples_split,\n",
    "                      'min_samples_leaf':min_samples_leaf,\n",
    "                      'max_depth':max_depth,\n",
    "                      'max_features':max_features,\n",
    "                      'bootstrap':bootstrap}\n",
    "#建立RandomizedSearchCV模型\n",
    "grid =RandomizedSearchCV(RF,param_distributions = random_params_group,n_iter = 100,scoring = 'neg_mean_squared_error',verbose = 2,n_jobs = -1,cv = 3,random_state = 0)\n",
    "#使用该模型训练数据\n",
    "grid.fit(train_x, train_y)\n",
    "print(\"The best parameters are %s with a score of %0.2f\" %(grid.best_params_, grid.best_score_))"
   ]
  },
  {
   "cell_type": "code",
   "execution_count": null,
   "metadata": {},
   "outputs": [],
   "source": [
    "#使用网格搜索进行细化处理\n",
    "from sklearn.model_selection import GridSearchCV\n",
    "import time\n",
    "\n",
    "param_grid = {'n_estimators':[1100,1200,1300],\n",
    "             'min_samples_split':[4,5,6,7],\n",
    "             'min_samples_leaf':[3,4,5],\n",
    "             'max_depth':[4,5,6,7]}\n",
    "randomForest = RandomForestRegressor()\n",
    "grid = GridSearchCV(randomForest,param_grid = param_grid,scoring = 'neg_mean_squared_error',cv = 3,n_jobs = -1)\n",
    "start_time = time.time()\n",
    "grid.fit(train_x, train_y)\n",
    "end_time = time.time()\n",
    "print('模型训练用时:{}'.format(end_time - start_time))\n",
    "print(\"The best parameters are %s with a score of %0.2f\" %(grid.best_params_, grid.best_score_))"
   ]
  },
  {
   "cell_type": "code",
   "execution_count": null,
   "metadata": {},
   "outputs": [],
   "source": [
    "randomForest = RandomForestRegressor() #todo 需要根据上一步来设置模型参数\n",
    "randomForest.fit(train_x, train_y)\n",
    "pred_y = mo.predict(test_x)\n",
    "printPredictionResult(test_y,pred_y)"
   ]
  },
  {
   "cell_type": "code",
   "execution_count": null,
   "metadata": {
    "ExecuteTime": {
     "end_time": "2021-04-13T13:24:41.663844Z",
     "start_time": "2021-04-13T13:24:41.617909Z"
    },
    "scrolled": true
   },
   "outputs": [],
   "source": [
    "model = svm.SVC(kernel='linear', C=0.58)\n",
    "model.fit(train_x, train_y)\n",
    "pred_test_y = model.predict(test_x)\n",
    "\n",
    "#保存模型\n",
    "file = r'../../modefiles/svm_no_yes.joblib'\n",
    "joblib.dump(model,file)\n",
    "# 读取模型\n",
    "svm_model = joblib.load(file)\n",
    "pred_test_y = svm_model.predict(test_x)\n",
    "#统计准确率\n",
    "print(sm.accuracy_score(test_y, pred_test_y))  #https://scikit-learn.org/stable/modules/generated/sklearn.metrics.accuracy_score.html\n",
    "bg = sm.classification_report(test_y, pred_test_y) #y_true, y_pred,Build a text report showing the main classification metrics.\n",
    "print('分类报告：', bg, sep='\\n')\n",
    "# 列表左边的一列为分类的标签名；support列为每个标签的出现次数\n",
    "# avg / total行为各列的均值（support列为总和）\n",
    "# macro , weighted 介绍 https://www.cnblogs.com/laozhanghahaha/p/12499979.html\n",
    "#保存混淆矩阵\n",
    "#def confusion_matrix(pred_test_y):\n",
    "#     coonfusion_plot = [[0]*10 for i in range(10)]\n",
    "#     for i in range(10):\n",
    "#         for j in range(30):\n",
    "#             coonfusion_plot[i][pred_test_y[i*30+j]] += 1\n",
    "#     return coonfusion_plot\n",
    "\n",
    "# pred_test = confusion_matrix(pred_test_y)\n",
    "# f_confusion = r'../../modefiles/confusion_matrix_no_yes.txt'\n",
    "# with open(f_confusion, 'w') as fl3:\n",
    "#     fl3.write(str(pred_test))"
   ]
  },
  {
   "cell_type": "code",
   "execution_count": 23,
   "metadata": {
    "ExecuteTime": {
     "end_time": "2021-05-20T02:53:03.981049Z",
     "start_time": "2021-05-20T02:53:02.321550Z"
    }
   },
   "outputs": [
    {
     "name": "stdout",
     "output_type": "stream",
     "text": [
      "accuracyGBDT: 0.5079\n",
      "recall: 0.5610\n",
      "F1: 0.4752\n"
     ]
    },
    {
     "ename": "NameError",
     "evalue": "name 'Gaussian' is not defined",
     "output_type": "error",
     "traceback": [
      "\u001b[0;31m---------------------------------------------------------------------------\u001b[0m",
      "\u001b[0;31mNameError\u001b[0m                                 Traceback (most recent call last)",
      "\u001b[0;32m<ipython-input-23-cdcf11e5cb9a>\u001b[0m in \u001b[0;36m<module>\u001b[0;34m\u001b[0m\n\u001b[1;32m     15\u001b[0m \u001b[0mBernoulli\u001b[0m \u001b[0;34m=\u001b[0m \u001b[0mBernoulliNB\u001b[0m\u001b[0;34m(\u001b[0m\u001b[0;34m)\u001b[0m\u001b[0;34m\u001b[0m\u001b[0m\n\u001b[1;32m     16\u001b[0m \u001b[0mBernoulli\u001b[0m\u001b[0;34m.\u001b[0m\u001b[0mfit\u001b[0m\u001b[0;34m(\u001b[0m\u001b[0mtrain_x\u001b[0m\u001b[0;34m,\u001b[0m \u001b[0mtrain_y\u001b[0m\u001b[0;34m)\u001b[0m\u001b[0;34m\u001b[0m\u001b[0m\n\u001b[0;32m---> 17\u001b[0;31m \u001b[0mpred_test_BernoulliNB\u001b[0m \u001b[0;34m=\u001b[0m \u001b[0mGaussian\u001b[0m\u001b[0;34m.\u001b[0m\u001b[0mpredict\u001b[0m\u001b[0;34m(\u001b[0m\u001b[0mtest_x\u001b[0m\u001b[0;34m)\u001b[0m\u001b[0;34m\u001b[0m\u001b[0m\n\u001b[0m\u001b[1;32m     18\u001b[0m \u001b[0mprint\u001b[0m\u001b[0;34m(\u001b[0m\u001b[0;34m'BernoulliNB:'\u001b[0m\u001b[0;34m,\u001b[0m\u001b[0mformat\u001b[0m\u001b[0;34m(\u001b[0m\u001b[0msm\u001b[0m\u001b[0;34m.\u001b[0m\u001b[0maccuracy_score\u001b[0m\u001b[0;34m(\u001b[0m\u001b[0mtest_y\u001b[0m\u001b[0;34m,\u001b[0m \u001b[0mpred_test_BernoulliNB\u001b[0m\u001b[0;34m)\u001b[0m\u001b[0;34m,\u001b[0m\u001b[0;34m'.4f'\u001b[0m\u001b[0;34m)\u001b[0m\u001b[0;34m)\u001b[0m\u001b[0;34m\u001b[0m\u001b[0m\n\u001b[1;32m     19\u001b[0m \u001b[0;34m\u001b[0m\u001b[0m\n",
      "\u001b[0;31mNameError\u001b[0m: name 'Gaussian' is not defined"
     ]
    }
   ],
   "source": [
    "# # 【6】 GBDT(Gradient Boosting Decision Tree) Classifier\n",
    "# # 梯度增强决策树分类器\n",
    "from sklearn.ensemble import GradientBoostingClassifier\n",
    "\n",
    "GBDT = GradientBoostingClassifier()\n",
    "GBDT.fit(train_x, train_y)\n",
    "pred_test_GBDT = GBDT.predict(test_x)\n",
    "print('accuracyGBDT:',format(sm.accuracy_score(test_y, pred_test_GBDT),'.4f'))\n",
    "print('recall:',format(sm.recall_score(test_y, pred_test_GBDT,average='macro'),'.4f'))\n",
    "print('F1:',format(sm.f1_score(test_y, pred_test_GBDT, average='macro'),'.4f'))\n",
    "\n",
    "# # 伯努利贝叶斯分类器\n",
    "from sklearn.naive_bayes import BernoulliNB\n",
    "\n",
    "Bernoulli = BernoulliNB()\n",
    "Bernoulli.fit(train_x, train_y)\n",
    "pred_test_BernoulliNB = Gaussian.predict(test_x)\n",
    "print('BernoulliNB:',format(sm.accuracy_score(test_y, pred_test_BernoulliNB),'.4f'))\n",
    "\n",
    "# # 多项式贝叶斯分类器\n",
    "from sklearn.naive_bayes import MultinomialNB\n",
    "\n",
    "Multinomial = MultinomialNB()\n",
    "Multinomial.fit(train_x, train_y)\n",
    "pred_test_Multinomial = Multinomial.predict(test_x)\n",
    "print('MultinomialNB:',format(sm.accuracy_score(test_y, pred_test_Multinomial),'.4f'))\n",
    "\n",
    "# 【7】 GaussianNB\n",
    "# # 高斯贝叶斯分类器\n",
    "from sklearn.naive_bayes import GaussianNB\n",
    "\n",
    "Gaussian = GaussianNB()\n",
    "Gaussian.fit(train_x, train_y)\n",
    "pred_test_Gaussian = Gaussian.predict(test_x)\n",
    "print('accuracyGaussian:',format(sm.accuracy_score(test_y, pred_test_Gaussian),'.4f'))\n",
    "print('recall:',format(sm.recall_score(test_y, pred_test_Gaussian,average='macro'),'.4f'))\n",
    "print('F1:',format(sm.f1_score(test_y, pred_test_Gaussian, average='macro'),'.4f'))"
   ]
  }
 ],
 "metadata": {
  "kernelspec": {
   "display_name": "Python [conda env:dataglove] *",
   "language": "python",
   "name": "conda-env-dataglove-py"
  },
  "language_info": {
   "codemirror_mode": {
    "name": "ipython",
    "version": 3
   },
   "file_extension": ".py",
   "mimetype": "text/x-python",
   "name": "python",
   "nbconvert_exporter": "python",
   "pygments_lexer": "ipython3",
   "version": "3.7.0"
  },
  "toc": {
   "base_numbering": 1,
   "nav_menu": {},
   "number_sections": true,
   "sideBar": true,
   "skip_h1_title": false,
   "title_cell": "Table of Contents",
   "title_sidebar": "Contents",
   "toc_cell": false,
   "toc_position": {},
   "toc_section_display": true,
   "toc_window_display": false
  }
 },
 "nbformat": 4,
 "nbformat_minor": 2
}
