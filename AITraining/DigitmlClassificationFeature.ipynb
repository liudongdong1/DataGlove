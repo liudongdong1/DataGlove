{
 "cells": [
  {
   "cell_type": "code",
   "execution_count": 23,
   "metadata": {
    "ExecuteTime": {
     "end_time": "2022-10-08T03:02:56.447816Z",
     "start_time": "2022-10-08T03:02:56.436685Z"
    }
   },
   "outputs": [],
   "source": [
    "import numpy as np\n",
    "import matplotlib.pyplot as mp\n",
    "import sklearn.model_selection as ms\n",
    "import sklearn.svm as svm\n",
    "import sklearn.tree as st\n",
    "import sklearn.datasets as sd  # sklearn提供的数据集\n",
    "import sklearn.utils as su  # 可以把数据集按照行进行打乱\n",
    "import sklearn.metrics as sm\n",
    "import sklearn.ensemble as se\n",
    "import joblib\n",
    "import os\n",
    "import random\n",
    "import sys\n",
    "sys.path.append('/home1/iot/jupyter/root_dir/liudongdong/src/ai/util/') \n",
    "from dataReadFeature import *\n",
    "from sklearn.metrics import log_loss\n",
    "from sklearn.preprocessing import LabelBinarizer\n",
    "from math import log\n",
    "import warnings\n",
    "warnings.filterwarnings(\"ignore\")"
   ]
  },
  {
   "cell_type": "code",
   "execution_count": 8,
   "metadata": {
    "ExecuteTime": {
     "end_time": "2022-10-07T14:52:02.877502Z",
     "start_time": "2022-10-07T14:52:02.780458Z"
    },
    "scrolled": true
   },
   "outputs": [
    {
     "name": "stdout",
     "output_type": "stream",
     "text": [
      "label: {'finger_heart': 1, 'gun': 2, 'horned_hand': 3, 'iloveu': 4, 'ok': 5, 'paper': 6, 'rock': 7, 'scissors': 8, 'thums_up': 9, 'well_played': 10}\n",
      "readOneFlexData: filename /home1/iot/jupyter/root_dir/liudongdong/data/temp/picFlex/word_testnew/iloveu/1618489547.6921318.txt\n",
      "readOneFlexData: filename /home1/iot/jupyter/root_dir/liudongdong/data/temp/picFlex/word_testnew/iloveu/1618489562.7068586.txt\n",
      "readOneFlexData: filename /home1/iot/jupyter/root_dir/liudongdong/data/temp/picFlex/word_testnew/iloveu/1618489578.038858.txt\n",
      "readOneFlexData: filename /home1/iot/jupyter/root_dir/liudongdong/data/temp/picFlex/word_testnew/horned_hand/1618489528.6339328.txt\n",
      "readOneFlexData: filename /home1/iot/jupyter/root_dir/liudongdong/data/temp/picFlex/word_testnew/horned_hand/1618489464.9822583.txt\n",
      "readOneFlexData: filename /home1/iot/jupyter/root_dir/liudongdong/data/temp/picFlex/word_testnew/horned_hand/1618489483.2557087.txt\n",
      "readOneFlexData: filename /home1/iot/jupyter/root_dir/liudongdong/data/temp/picFlex/word_testnew/horned_hand/1618489511.9109344.txt\n",
      "readOneFlexData: filename /home1/iot/jupyter/root_dir/liudongdong/data/temp/picFlex/word_testnew/paper/1618488666.1922412.txt\n",
      "readOneFlexData: filename /home1/iot/jupyter/root_dir/liudongdong/data/temp/picFlex/word_testnew/paper/1618488647.4502053.txt\n",
      "readOneFlexData: filename /home1/iot/jupyter/root_dir/liudongdong/data/temp/picFlex/word_testnew/paper/1618488683.0812423.txt\n",
      "readOneFlexData: filename /home1/iot/jupyter/root_dir/liudongdong/data/temp/picFlex/word_testnew/gun/1618489209.753029.txt\n",
      "readOneFlexData: filename /home1/iot/jupyter/root_dir/liudongdong/data/temp/picFlex/word_testnew/gun/1618489191.7916858.txt\n",
      "readOneFlexData: filename /home1/iot/jupyter/root_dir/liudongdong/data/temp/picFlex/word_testnew/gun/1618489176.4573948.txt\n",
      "readOneFlexData: filename /home1/iot/jupyter/root_dir/liudongdong/data/temp/picFlex/word_testnew/ok/1618489605.9221642.txt\n",
      "readOneFlexData: filename /home1/iot/jupyter/root_dir/liudongdong/data/temp/picFlex/word_testnew/ok/1618489620.3307917.txt\n",
      "readOneFlexData: filename /home1/iot/jupyter/root_dir/liudongdong/data/temp/picFlex/word_testnew/ok/1618489638.129523.txt\n",
      "readOneFlexData: filename /home1/iot/jupyter/root_dir/liudongdong/data/temp/picFlex/word_testnew/thums_up/1618489790.0703702.txt\n",
      "readOneFlexData: filename /home1/iot/jupyter/root_dir/liudongdong/data/temp/picFlex/word_testnew/thums_up/1618489807.09737.txt\n",
      "readOneFlexData: filename /home1/iot/jupyter/root_dir/liudongdong/data/temp/picFlex/word_testnew/thums_up/1618489774.5813963.txt\n",
      "readOneFlexData: filename /home1/iot/jupyter/root_dir/liudongdong/data/temp/picFlex/word_testnew/well_played/1618489091.278711.txt\n",
      "readOneFlexData: filename /home1/iot/jupyter/root_dir/liudongdong/data/temp/picFlex/word_testnew/well_played/1618489106.453907.txt\n",
      "readOneFlexData: filename /home1/iot/jupyter/root_dir/liudongdong/data/temp/picFlex/word_testnew/well_played/1618489075.9498231.txt\n",
      "readOneFlexData: filename /home1/iot/jupyter/root_dir/liudongdong/data/temp/picFlex/word_testnew/finger_heart/1618489399.327124.txt\n",
      "readOneFlexData: filename /home1/iot/jupyter/root_dir/liudongdong/data/temp/picFlex/word_testnew/finger_heart/1618489429.524389.txt\n",
      "readOneFlexData: filename /home1/iot/jupyter/root_dir/liudongdong/data/temp/picFlex/word_testnew/finger_heart/1618489414.8072512.txt\n",
      "readOneFlexData: filename /home1/iot/jupyter/root_dir/liudongdong/data/temp/picFlex/word_testnew/scissors/1618489752.581397.txt\n",
      "readOneFlexData: filename /home1/iot/jupyter/root_dir/liudongdong/data/temp/picFlex/word_testnew/scissors/1618489718.3585308.txt\n",
      "readOneFlexData: filename /home1/iot/jupyter/root_dir/liudongdong/data/temp/picFlex/word_testnew/scissors/1618489736.9413285.txt\n",
      "readOneFlexData: filename /home1/iot/jupyter/root_dir/liudongdong/data/temp/picFlex/word_testnew/rock/1618489659.6650324.txt\n",
      "readOneFlexData: filename /home1/iot/jupyter/root_dir/liudongdong/data/temp/picFlex/word_testnew/rock/1618489698.6914194.txt\n",
      "readOneFlexData: filename /home1/iot/jupyter/root_dir/liudongdong/data/temp/picFlex/word_testnew/rock/1618489680.2562053.txt\n",
      "label: {'finger_heart': 1, 'gun': 2, 'horned_hand': 3, 'iloveu': 4, 'ok': 5, 'paper': 6, 'rock': 7, 'scissors': 8, 'thums_up': 9, 'well_played': 10}\n",
      "数据长度： 2404 2404\n",
      "test_x [69.79861699539435, 72.94148754776089, 3.1428705523665315, -25.914689803772703, -95.71330679916707, -98.8561773515336, -47.65933872312095, -117.45795571851532, -120.60082627088185, -21.74464891934825] test_y 4.0\n",
      "train_x [  97.18510121  106.20345691    9.0183557   -20.62075105 -117.80585226\n",
      " -126.82420795   -9.16159514 -106.34669635 -115.36505205   11.4591559 ] label_y 4\n"
     ]
    }
   ],
   "source": [
    "#加载数据\n",
    "databasefoler=r\"/home1/iot/jupyter/root_dir/liudongdong/data/temp/picFlex\"\n",
    "classLabel=[\"word\",\"word_testData\",\"word_test1\",\"word_testnew\",\"digit\",\"digit_testData\",\"digit_test1\",\"digit_testnew\"]\n",
    "\n",
    "# 读取测试数据\n",
    "test_x,test_y = FlexSensorDataRead(basefolder=databasefoler,classtype=classLabel[3]).getDataLabel()\n",
    "# 读取训练数据\n",
    "train_data = TorchDataset(basefolder=databasefoler, classtype=classLabel[0])\n",
    "train_x,train_y=train_data.getAllData()\n",
    "\n",
    "#查看一组数据\n",
    "print(\"test_x\",test_x[0],\"test_y\",test_y[0])\n",
    "print(\"train_x\",train_x[0],\"label_y\",train_y[0])"
   ]
  },
  {
   "cell_type": "code",
   "execution_count": 9,
   "metadata": {
    "ExecuteTime": {
     "end_time": "2022-10-07T14:52:06.094675Z",
     "start_time": "2022-10-07T14:52:06.088197Z"
    }
   },
   "outputs": [],
   "source": [
    "def printPredictionResult(test_y,pred_test_y):\n",
    "    '''\n",
    "    ;function: 模型执行结果参数显示\n",
    "    ;parameters:\n",
    "        test_y: 真实标签数据；\n",
    "        pred_test_y: 模型预测的y数据\n",
    "    '''\n",
    "    print(sm.accuracy_score(test_y, pred_test_y))  #https://scikit-learn.org/stable/modules/generated/sklearn.metrics.accuracy_score.html\n",
    "    bg = sm.classification_report(test_y, pred_test_y) #y_true, y_pred,Build a text report showing the main classification metrics.\n",
    "    print('分类报告：', bg, sep='\\n')"
   ]
  },
  {
   "cell_type": "code",
   "execution_count": 10,
   "metadata": {
    "ExecuteTime": {
     "end_time": "2022-10-07T14:52:08.693306Z",
     "start_time": "2022-10-07T14:52:08.663953Z"
    }
   },
   "outputs": [
    {
     "name": "stdout",
     "output_type": "stream",
     "text": [
      "test_x [ 0.54904746  0.66269658  0.47483166 -0.17726278 -0.57550888 -0.84744965\n",
      " -0.06307278 -0.58414381 -0.76348545  0.14283783] test_y 4.0\n",
      "train_x [ 1.04233652  1.10832165  0.62180325 -0.10709196 -0.86542638 -1.22463513\n",
      "  0.51209373 -0.3971158  -0.689026    0.66107712] label_y 4\n"
     ]
    }
   ],
   "source": [
    "# 数据标准化\n",
    "from sklearn.preprocessing import StandardScaler\n",
    "ss_X = StandardScaler()\n",
    "ss_y = StandardScaler()\n",
    "train_x = ss_X.fit_transform(train_x)\n",
    "test_x  = ss_X.transform(test_x)\n",
    "#查看一组数据\n",
    "print(\"test_x\",test_x[0],\"test_y\",test_y[0])\n",
    "print(\"train_x\",train_x[0],\"label_y\",train_y[0])"
   ]
  },
  {
   "cell_type": "code",
   "execution_count": 11,
   "metadata": {
    "ExecuteTime": {
     "end_time": "2022-10-07T14:52:10.912951Z",
     "start_time": "2022-10-07T14:52:10.842133Z"
    }
   },
   "outputs": [
    {
     "name": "stdout",
     "output_type": "stream",
     "text": [
      "0.8087684904651578\n",
      "分类报告：\n",
      "              precision    recall  f1-score   support\n",
      "\n",
      "         1.0       0.51      1.00      0.67       543\n",
      "         2.0       1.00      0.02      0.05       543\n",
      "         3.0       1.00      1.00      1.00       724\n",
      "         4.0       1.00      1.00      1.00       543\n",
      "         5.0       1.00      1.00      1.00       543\n",
      "         6.0       0.50      1.00      0.67       543\n",
      "         7.0       0.00      0.00      0.00       543\n",
      "         8.0       1.00      1.00      1.00       543\n",
      "         9.0       1.00      1.00      1.00       543\n",
      "        10.0       1.00      1.00      1.00       543\n",
      "\n",
      "    accuracy                           0.81      5611\n",
      "   macro avg       0.80      0.80      0.74      5611\n",
      "weighted avg       0.81      0.81      0.75      5611\n",
      "\n"
     ]
    }
   ],
   "source": [
    "model = svm.SVC(kernel='linear', C=0.58)\n",
    "model.fit(train_x, train_y)\n",
    "pred_test_y = model.predict(test_x)\n",
    "print(sm.accuracy_score(test_y, pred_test_y))\n",
    "bg = sm.classification_report(test_y, pred_test_y)\n",
    "print('分类报告：', bg, sep='\\n')"
   ]
  },
  {
   "cell_type": "code",
   "execution_count": 12,
   "metadata": {
    "ExecuteTime": {
     "end_time": "2022-10-07T14:52:18.762233Z",
     "start_time": "2022-10-07T14:52:15.866576Z"
    }
   },
   "outputs": [
    {
     "name": "stdout",
     "output_type": "stream",
     "text": [
      "The best parameters are {'C': 10, 'degree': 3, 'kernel': 'poly'} with a score of 0.99\n"
     ]
    }
   ],
   "source": [
    "#------------------SVM 分类模型--------------\n",
    "from sklearn.model_selection import GridSearchCV\n",
    "\n",
    "param_grid = [\n",
    "\t{'kernel':['linear'],'C':[1,10,100,1000]},\n",
    "\t{'kernel':['poly'],'C':[1,10],'degree':[2,3]},\n",
    "\t{'kernel':['rbf'],'C':[1,10,100,1000],'gamma':[1,0.1, 0.01, 0.001]}]\n",
    "\n",
    "grid = GridSearchCV(svm.SVC(),param_grid,cv=5) #实例化一个GridSearchCV类\n",
    "grid.fit(train_x, train_y)\n",
    "print(\"The best parameters are %s with a score of %0.2f\" %(grid.best_params_, grid.best_score_))\n"
   ]
  },
  {
   "cell_type": "code",
   "execution_count": 13,
   "metadata": {
    "ExecuteTime": {
     "end_time": "2022-10-07T14:52:18.838746Z",
     "start_time": "2022-10-07T14:52:18.764518Z"
    }
   },
   "outputs": [
    {
     "name": "stdout",
     "output_type": "stream",
     "text": [
      "0.713776510425949\n",
      "分类报告：\n",
      "              precision    recall  f1-score   support\n",
      "\n",
      "         1.0       0.56      1.00      0.72       543\n",
      "         2.0       1.00      0.21      0.35       543\n",
      "         3.0       1.00      0.12      0.22       724\n",
      "         4.0       0.46      1.00      0.63       543\n",
      "         5.0       1.00      1.00      1.00       543\n",
      "         6.0       0.50      1.00      0.67       543\n",
      "         7.0       0.00      0.00      0.00       543\n",
      "         8.0       1.00      1.00      1.00       543\n",
      "         9.0       1.00      1.00      1.00       543\n",
      "        10.0       1.00      1.00      1.00       543\n",
      "\n",
      "    accuracy                           0.71      5611\n",
      "   macro avg       0.75      0.73      0.66      5611\n",
      "weighted avg       0.76      0.71      0.64      5611\n",
      "\n"
     ]
    }
   ],
   "source": [
    "#------------------SVM 分类模型--------------\n",
    "svm_model=svm.SVC(C=100,gamma=0.1,kernel='rbf')   #需要设置参数\n",
    "svm_model.fit(train_x, train_y)\n",
    "pred_test_y = svm_model.predict(test_x)\n",
    "#统计准确率\n",
    "printPredictionResult(test_y,pred_test_y)"
   ]
  },
  {
   "cell_type": "code",
   "execution_count": 14,
   "metadata": {
    "ExecuteTime": {
     "end_time": "2022-10-07T14:52:20.457686Z",
     "start_time": "2022-10-07T14:52:20.427362Z"
    }
   },
   "outputs": [
    {
     "ename": "ValueError",
     "evalue": "Parameter grid for parameter (n_neighbors) needs to be a list or numpy array, but got (<class 'int'>). Single values need to be wrapped in a list with one element.",
     "output_type": "error",
     "traceback": [
      "\u001b[0;31m---------------------------------------------------------------------------\u001b[0m",
      "\u001b[0;31mValueError\u001b[0m                                Traceback (most recent call last)",
      "\u001b[0;32m/tmp/ipykernel_16575/2274761057.py\u001b[0m in \u001b[0;36m<module>\u001b[0;34m\u001b[0m\n\u001b[1;32m      6\u001b[0m \u001b[0mknn\u001b[0m \u001b[0;34m=\u001b[0m \u001b[0mKNeighborsClassifier\u001b[0m\u001b[0;34m(\u001b[0m\u001b[0;34m)\u001b[0m\u001b[0;34m\u001b[0m\u001b[0m\n\u001b[1;32m      7\u001b[0m \u001b[0mgrid_param\u001b[0m\u001b[0;34m=\u001b[0m\u001b[0;34m{\u001b[0m\u001b[0;34m'n_neighbors'\u001b[0m\u001b[0;34m:\u001b[0m\u001b[0;36m10\u001b[0m\u001b[0;34m,\u001b[0m\u001b[0;34m'algorithm'\u001b[0m\u001b[0;34m:\u001b[0m\u001b[0;34m[\u001b[0m\u001b[0;34m'auto'\u001b[0m\u001b[0;34m,\u001b[0m\u001b[0;34m'ball_tree'\u001b[0m\u001b[0;34m,\u001b[0m\u001b[0;34m'brute'\u001b[0m\u001b[0;34m]\u001b[0m\u001b[0;34m}\u001b[0m\u001b[0;34m\u001b[0m\u001b[0m\n\u001b[0;32m----> 8\u001b[0;31m \u001b[0mgrid\u001b[0m\u001b[0;34m=\u001b[0m\u001b[0mGridSearchCV\u001b[0m\u001b[0;34m(\u001b[0m\u001b[0mknn\u001b[0m\u001b[0;34m,\u001b[0m\u001b[0mgrid_param\u001b[0m\u001b[0;34m,\u001b[0m\u001b[0mcv\u001b[0m\u001b[0;34m=\u001b[0m\u001b[0;34m[\u001b[0m\u001b[0;36m5\u001b[0m\u001b[0;34m]\u001b[0m\u001b[0;34m)\u001b[0m\u001b[0;34m\u001b[0m\u001b[0m\n\u001b[0m\u001b[1;32m      9\u001b[0m \u001b[0mgrid\u001b[0m\u001b[0;34m.\u001b[0m\u001b[0mfit\u001b[0m\u001b[0;34m(\u001b[0m\u001b[0mtrain_x\u001b[0m\u001b[0;34m,\u001b[0m \u001b[0mtrain_y\u001b[0m\u001b[0;34m)\u001b[0m\u001b[0;34m\u001b[0m\u001b[0m\n\u001b[1;32m     10\u001b[0m \u001b[0mprint\u001b[0m\u001b[0;34m(\u001b[0m\u001b[0;34m\"The best parameters are %s with a score of %0.2f\"\u001b[0m \u001b[0;34m%\u001b[0m\u001b[0;34m(\u001b[0m\u001b[0mgrid\u001b[0m\u001b[0;34m.\u001b[0m\u001b[0mbest_params_\u001b[0m\u001b[0;34m,\u001b[0m \u001b[0mgrid\u001b[0m\u001b[0;34m.\u001b[0m\u001b[0mbest_score_\u001b[0m\u001b[0;34m)\u001b[0m\u001b[0;34m)\u001b[0m\u001b[0;34m\u001b[0m\u001b[0m\n",
      "\u001b[0;32m~/.local/lib/python3.7/site-packages/sklearn/model_selection/_search.py\u001b[0m in \u001b[0;36m__init__\u001b[0;34m(self, estimator, param_grid, scoring, n_jobs, refit, cv, verbose, pre_dispatch, error_score, return_train_score)\u001b[0m\n\u001b[1;32m   1386\u001b[0m         )\n\u001b[1;32m   1387\u001b[0m         \u001b[0mself\u001b[0m\u001b[0;34m.\u001b[0m\u001b[0mparam_grid\u001b[0m \u001b[0;34m=\u001b[0m \u001b[0mparam_grid\u001b[0m\u001b[0;34m\u001b[0m\u001b[0m\n\u001b[0;32m-> 1388\u001b[0;31m         \u001b[0m_check_param_grid\u001b[0m\u001b[0;34m(\u001b[0m\u001b[0mparam_grid\u001b[0m\u001b[0;34m)\u001b[0m\u001b[0;34m\u001b[0m\u001b[0m\n\u001b[0m\u001b[1;32m   1389\u001b[0m \u001b[0;34m\u001b[0m\u001b[0m\n\u001b[1;32m   1390\u001b[0m     \u001b[0;32mdef\u001b[0m \u001b[0m_run_search\u001b[0m\u001b[0;34m(\u001b[0m\u001b[0mself\u001b[0m\u001b[0;34m,\u001b[0m \u001b[0mevaluate_candidates\u001b[0m\u001b[0;34m)\u001b[0m\u001b[0;34m:\u001b[0m\u001b[0;34m\u001b[0m\u001b[0m\n",
      "\u001b[0;32m~/.local/lib/python3.7/site-packages/sklearn/model_selection/_search.py\u001b[0m in \u001b[0;36m_check_param_grid\u001b[0;34m(param_grid)\u001b[0m\n\u001b[1;32m    336\u001b[0m                     \u001b[0;34m\" be a list or numpy array, but got ({1}).\"\u001b[0m\u001b[0;34m\u001b[0m\u001b[0m\n\u001b[1;32m    337\u001b[0m                     \u001b[0;34m\" Single values need to be wrapped in a list\"\u001b[0m\u001b[0;34m\u001b[0m\u001b[0m\n\u001b[0;32m--> 338\u001b[0;31m                     \u001b[0;34m\" with one element.\"\u001b[0m\u001b[0;34m.\u001b[0m\u001b[0mformat\u001b[0m\u001b[0;34m(\u001b[0m\u001b[0mname\u001b[0m\u001b[0;34m,\u001b[0m \u001b[0mtype\u001b[0m\u001b[0;34m(\u001b[0m\u001b[0mv\u001b[0m\u001b[0;34m)\u001b[0m\u001b[0;34m)\u001b[0m\u001b[0;34m\u001b[0m\u001b[0m\n\u001b[0m\u001b[1;32m    339\u001b[0m                 )\n\u001b[1;32m    340\u001b[0m \u001b[0;34m\u001b[0m\u001b[0m\n",
      "\u001b[0;31mValueError\u001b[0m: Parameter grid for parameter (n_neighbors) needs to be a list or numpy array, but got (<class 'int'>). Single values need to be wrapped in a list with one element."
     ]
    }
   ],
   "source": [
    "#------------------k-近邻分类器--------------\n",
    "\n",
    "from sklearn.neighbors import KNeighborsClassifier\n",
    "from sklearn.model_selection import GridSearchCV\n",
    "#调参数\n",
    "knn = KNeighborsClassifier()\n",
    "grid_param={'n_neighbors':10,'algorithm':['auto','ball_tree','brute']}\n",
    "grid=GridSearchCV(knn,grid_param,cv=[5])\n",
    "grid.fit(train_x, train_y)\n",
    "print(\"The best parameters are %s with a score of %0.2f\" %(grid.best_params_, grid.best_score_))"
   ]
  },
  {
   "cell_type": "code",
   "execution_count": 15,
   "metadata": {
    "ExecuteTime": {
     "end_time": "2022-10-07T14:52:28.359090Z",
     "start_time": "2022-10-07T14:52:28.213624Z"
    }
   },
   "outputs": [
    {
     "name": "stdout",
     "output_type": "stream",
     "text": [
      "knn: 0.8180\n",
      "recall: 0.8120\n",
      "F1: 0.7575\n",
      "0.8180360007128854\n",
      "分类报告：\n",
      "              precision    recall  f1-score   support\n",
      "\n",
      "         1.0       0.53      1.00      0.69       543\n",
      "         2.0       1.00      0.12      0.21       543\n",
      "         3.0       1.00      1.00      1.00       724\n",
      "         4.0       1.00      1.00      1.00       543\n",
      "         5.0       1.00      1.00      1.00       543\n",
      "         6.0       0.50      1.00      0.67       543\n",
      "         7.0       0.00      0.00      0.00       543\n",
      "         8.0       1.00      1.00      1.00       543\n",
      "         9.0       1.00      1.00      1.00       543\n",
      "        10.0       1.00      1.00      1.00       543\n",
      "\n",
      "    accuracy                           0.82      5611\n",
      "   macro avg       0.80      0.81      0.76      5611\n",
      "weighted avg       0.81      0.82      0.77      5611\n",
      "\n"
     ]
    }
   ],
   "source": [
    "#------------------k-近邻分类器--------------\n",
    "knn = KNeighborsClassifier()  #todo 需要根据上一步来设置模型参数\n",
    "knn.fit(train_x, train_y)\n",
    "pred_test_knn = knn.predict(test_x)\n",
    "print('knn:',format(sm.accuracy_score(test_y, pred_test_knn),'.4f'))\n",
    "print('recall:',format(sm.recall_score(test_y, pred_test_knn,average='macro'),'.4f'))\n",
    "print('F1:',format(sm.f1_score(test_y, pred_test_knn, average='macro'),'.4f'))\n",
    "#统计准确率\n",
    "printPredictionResult(test_y,pred_test_knn)"
   ]
  },
  {
   "cell_type": "code",
   "execution_count": 16,
   "metadata": {
    "ExecuteTime": {
     "end_time": "2022-10-07T14:52:35.498940Z",
     "start_time": "2022-10-07T14:52:35.490791Z"
    }
   },
   "outputs": [
    {
     "ename": "SyntaxError",
     "evalue": "invalid syntax (1970384733.py, line 5)",
     "output_type": "error",
     "traceback": [
      "\u001b[0;36m  File \u001b[0;32m\"/tmp/ipykernel_16575/1970384733.py\"\u001b[0;36m, line \u001b[0;32m5\u001b[0m\n\u001b[0;31m    grid_param={'penalty':['l1', 'l2', 'elasticnet', 'none'],'solver',['newton-cg', 'lbfgs', 'liblinear', 'sag', 'saga'],'C':np.logspace(1, 4, 20)}\u001b[0m\n\u001b[0m                                                                     ^\u001b[0m\n\u001b[0;31mSyntaxError\u001b[0m\u001b[0;31m:\u001b[0m invalid syntax\n"
     ]
    }
   ],
   "source": [
    "#------------------Logistic Regression Classifier--------------\n",
    "#调参数\n",
    "from sklearn.linear_model import LogisticRegression\n",
    "lg = LogisticRegression()\n",
    "grid_param={'penalty':['l1', 'l2', 'elasticnet', 'none'],'solver',['newton-cg', 'lbfgs', 'liblinear', 'sag', 'saga'],'C':np.logspace(1, 4, 20)}\n",
    "grid=GridSearchCV(lg,grid_param,cv=5)\n",
    "grid.fit(train_x, train_y)\n",
    "print(\"The best parameters are %s with a score of %0.2f\" %(grid.best_params_, grid.best_score_))"
   ]
  },
  {
   "cell_type": "code",
   "execution_count": 17,
   "metadata": {
    "ExecuteTime": {
     "end_time": "2022-10-07T14:52:38.766436Z",
     "start_time": "2022-10-07T14:52:38.747062Z"
    }
   },
   "outputs": [
    {
     "ename": "NameError",
     "evalue": "name 'LogisticRegression' is not defined",
     "output_type": "error",
     "traceback": [
      "\u001b[0;31m---------------------------------------------------------------------------\u001b[0m",
      "\u001b[0;31mNameError\u001b[0m                                 Traceback (most recent call last)",
      "\u001b[0;32m/tmp/ipykernel_16575/3644242911.py\u001b[0m in \u001b[0;36m<module>\u001b[0;34m\u001b[0m\n\u001b[1;32m      1\u001b[0m \u001b[0;31m#------------------Logistic Regression Classifier--------------\u001b[0m\u001b[0;34m\u001b[0m\u001b[0;34m\u001b[0m\u001b[0m\n\u001b[0;32m----> 2\u001b[0;31m \u001b[0mlg\u001b[0m \u001b[0;34m=\u001b[0m \u001b[0mLogisticRegression\u001b[0m\u001b[0;34m(\u001b[0m\u001b[0mpenalty\u001b[0m\u001b[0;34m=\u001b[0m\u001b[0;34m'l2'\u001b[0m\u001b[0;34m)\u001b[0m  \u001b[0;31m#todo 需要根据上一步来设置模型参数\u001b[0m\u001b[0;34m\u001b[0m\u001b[0m\n\u001b[0m\u001b[1;32m      3\u001b[0m \u001b[0mlg\u001b[0m\u001b[0;34m.\u001b[0m\u001b[0mfit\u001b[0m\u001b[0;34m(\u001b[0m\u001b[0mtrain_x\u001b[0m\u001b[0;34m,\u001b[0m \u001b[0mtrain_y\u001b[0m\u001b[0;34m)\u001b[0m\u001b[0;34m\u001b[0m\u001b[0m\n\u001b[1;32m      4\u001b[0m \u001b[0mpred_test_lg\u001b[0m \u001b[0;34m=\u001b[0m \u001b[0mlg\u001b[0m\u001b[0;34m.\u001b[0m\u001b[0mpredict\u001b[0m\u001b[0;34m(\u001b[0m\u001b[0mtest_x\u001b[0m\u001b[0;34m)\u001b[0m\u001b[0;34m\u001b[0m\u001b[0m\n\u001b[1;32m      5\u001b[0m \u001b[0mprint\u001b[0m\u001b[0;34m(\u001b[0m\u001b[0;34m'accuracylg:'\u001b[0m\u001b[0;34m,\u001b[0m\u001b[0mformat\u001b[0m\u001b[0;34m(\u001b[0m\u001b[0msm\u001b[0m\u001b[0;34m.\u001b[0m\u001b[0maccuracy_score\u001b[0m\u001b[0;34m(\u001b[0m\u001b[0mtest_y\u001b[0m\u001b[0;34m,\u001b[0m \u001b[0mpred_test_lg\u001b[0m\u001b[0;34m)\u001b[0m\u001b[0;34m,\u001b[0m\u001b[0;34m'.4f'\u001b[0m\u001b[0;34m)\u001b[0m\u001b[0;34m)\u001b[0m\u001b[0;34m\u001b[0m\u001b[0m\n",
      "\u001b[0;31mNameError\u001b[0m: name 'LogisticRegression' is not defined"
     ]
    }
   ],
   "source": [
    "#------------------Logistic Regression Classifier--------------\n",
    "lg = LogisticRegression(penalty='l2')  #todo 需要根据上一步来设置模型参数\n",
    "lg.fit(train_x, train_y)\n",
    "pred_test_lg = lg.predict(test_x)\n",
    "print('accuracylg:',format(sm.accuracy_score(test_y, pred_test_lg),'.4f'))\n",
    "printPredictionResult(test_y,pred_test_lg)"
   ]
  },
  {
   "cell_type": "code",
   "execution_count": 18,
   "metadata": {
    "ExecuteTime": {
     "end_time": "2022-10-07T14:52:43.160378Z",
     "start_time": "2022-10-07T14:52:43.139399Z"
    }
   },
   "outputs": [
    {
     "ename": "NameError",
     "evalue": "name 'randint' is not defined",
     "output_type": "error",
     "traceback": [
      "\u001b[0;31m---------------------------------------------------------------------------\u001b[0m",
      "\u001b[0;31mNameError\u001b[0m                                 Traceback (most recent call last)",
      "\u001b[0;32m/tmp/ipykernel_16575/3711730647.py\u001b[0m in \u001b[0;36m<module>\u001b[0;34m\u001b[0m\n\u001b[1;32m      4\u001b[0m \u001b[0;34m\u001b[0m\u001b[0m\n\u001b[1;32m      5\u001b[0m param_dist = {\"max_depth\": [3, None],\n\u001b[0;32m----> 6\u001b[0;31m               \u001b[0;34m\"max_features\"\u001b[0m\u001b[0;34m:\u001b[0m \u001b[0mrandint\u001b[0m\u001b[0;34m(\u001b[0m\u001b[0;36m1\u001b[0m\u001b[0;34m,\u001b[0m \u001b[0;36m11\u001b[0m\u001b[0;34m)\u001b[0m\u001b[0;34m,\u001b[0m\u001b[0;34m\u001b[0m\u001b[0m\n\u001b[0m\u001b[1;32m      7\u001b[0m               \u001b[0;34m\"min_samples_split\"\u001b[0m\u001b[0;34m:\u001b[0m \u001b[0mrandint\u001b[0m\u001b[0;34m(\u001b[0m\u001b[0;36m2\u001b[0m\u001b[0;34m,\u001b[0m \u001b[0;36m11\u001b[0m\u001b[0;34m)\u001b[0m\u001b[0;34m,\u001b[0m\u001b[0;34m\u001b[0m\u001b[0m\n\u001b[1;32m      8\u001b[0m               \u001b[0;34m\"bootstrap\"\u001b[0m\u001b[0;34m:\u001b[0m \u001b[0;34m[\u001b[0m\u001b[0;32mTrue\u001b[0m\u001b[0;34m,\u001b[0m \u001b[0;32mFalse\u001b[0m\u001b[0;34m]\u001b[0m\u001b[0;34m,\u001b[0m\u001b[0;34m\u001b[0m\u001b[0m\n",
      "\u001b[0;31mNameError\u001b[0m: name 'randint' is not defined"
     ]
    }
   ],
   "source": [
    "#------------------Random Forest Classifier--------------\n",
    "from sklearn.ensemble import RandomForestClassifier\n",
    "RFC = RandomForestClassifier()\n",
    "\n",
    "param_dist = {\"max_depth\": [3, None],\n",
    "              \"max_features\": randint(1, 11),\n",
    "              \"min_samples_split\": randint(2, 11),\n",
    "              \"bootstrap\": [True, False],\n",
    "              \"criterion\": [\"gini\", \"entropy\"]}\n",
    "rng = np.random.RandomState(0)\n",
    "grid = HalvingRandomSearchCV(estimator=RFC, param_distributions=param_dist,\n",
    "                            factor=2, random_state=rng)\n",
    "grid.fit(train_x, train_y)\n",
    "print(\"The best parameters are %s with a score of %0.2f\" %(grid.best_params_, grid.best_score_))"
   ]
  },
  {
   "cell_type": "code",
   "execution_count": null,
   "metadata": {
    "ExecuteTime": {
     "end_time": "2021-04-13T13:17:33.444190Z",
     "start_time": "2021-04-13T13:17:33.395787Z"
    }
   },
   "outputs": [],
   "source": [
    "#------------------Random Forest Classifier--------------\n",
    "RFC = RandomForestClassifier(n_estimators=8)   #todo 需要根据上一步来设置模型参数\n",
    "RFC.fit(train_x, train_y)\n",
    "pred_test_rfc = RFC.predict(test_x)\n",
    "printPredictionResult(test_y,pred_test_rfc)\n"
   ]
  },
  {
   "cell_type": "code",
   "execution_count": 19,
   "metadata": {
    "ExecuteTime": {
     "end_time": "2022-10-07T14:52:47.415419Z",
     "start_time": "2022-10-07T14:52:45.976367Z"
    }
   },
   "outputs": [
    {
     "name": "stdout",
     "output_type": "stream",
     "text": [
      "The best parameters are {'criterion': 'entropy'} with a score of 0.97\n"
     ]
    }
   ],
   "source": [
    "#------------------DecisionTreeClassifier--------------\n",
    "from sklearn import tree\n",
    "param = [{'criterion':['gini'],'max_depth':[30,50,60,100],'min_samples_leaf':[2,3,5,10],'min_impurity_decrease':[0.1,0.2,0.5]},\n",
    "         {'criterion':['gini','entropy']},\n",
    "         {'max_depth': [30,60,100], 'min_impurity_decrease':[0.1,0.2,0.5]}]\n",
    "grid = GridSearchCV(tree.DecisionTreeClassifier(),param_grid=param,cv=6)\n",
    "grid.fit(train_x, train_y)\n",
    "print(\"The best parameters are %s with a score of %0.2f\" %(grid.best_params_, grid.best_score_))"
   ]
  },
  {
   "cell_type": "code",
   "execution_count": 20,
   "metadata": {
    "ExecuteTime": {
     "end_time": "2022-10-07T14:52:48.221352Z",
     "start_time": "2022-10-07T14:52:48.180788Z"
    }
   },
   "outputs": [
    {
     "name": "stdout",
     "output_type": "stream",
     "text": [
      "0.538941365175548\n",
      "分类报告：\n",
      "              precision    recall  f1-score   support\n",
      "\n",
      "         1.0       0.57      1.00      0.73       543\n",
      "         2.0       1.00      0.24      0.39       543\n",
      "         3.0       0.00      0.00      0.00       724\n",
      "         4.0       1.00      0.56      0.71       543\n",
      "         5.0       0.00      0.00      0.00       543\n",
      "         6.0       0.23      1.00      0.38       543\n",
      "         7.0       0.00      0.00      0.00       543\n",
      "         8.0       1.00      1.00      1.00       543\n",
      "         9.0       1.00      1.00      1.00       543\n",
      "        10.0       1.00      0.77      0.87       543\n",
      "\n",
      "    accuracy                           0.54      5611\n",
      "   macro avg       0.58      0.56      0.51      5611\n",
      "weighted avg       0.56      0.54      0.49      5611\n",
      "\n"
     ]
    }
   ],
   "source": [
    "#------------------DecisionTreeClassifier--------------\n",
    "tre = tree.DecisionTreeClassifier()   #todo 需要根据上一步来设置模型参数\n",
    "tre.fit(train_x, train_y)\n",
    "pred_test_tre = tre.predict(test_x)\n",
    "printPredictionResult(test_y,pred_test_tre)"
   ]
  },
  {
   "cell_type": "code",
   "execution_count": 21,
   "metadata": {
    "ExecuteTime": {
     "end_time": "2022-10-07T14:53:35.812757Z",
     "start_time": "2022-10-07T14:52:50.472692Z"
    }
   },
   "outputs": [
    {
     "name": "stdout",
     "output_type": "stream",
     "text": [
      "The best parameters are {'activation': 'logistic', 'alpha': 0.01, 'hidden_layer_sizes': (10,)} with a score of 0.99\n"
     ]
    }
   ],
   "source": [
    "#------------------MLPClassifier--------------\n",
    "from sklearn import neural_network\n",
    "mlp=neural_network.MLPClassifier(max_iter=1000)\n",
    "\n",
    "param_grid = {\n",
    "    'hidden_layer_sizes':[(10, ), (20, ), (256, )],\n",
    "    'activation':['logistic', 'tanh', 'relu'],\n",
    "    'alpha':[0.001, 0.01, 0.1, 0.4, 1]\n",
    "}\n",
    "\n",
    "grid = ms.GridSearchCV(estimator=mlp,\n",
    "                                   param_grid=param_grid,\n",
    "                                   scoring='accuracy', # 打分\n",
    "                                   #cv=gkf.split(X,y,groups), # cv 方法\n",
    "                                   return_train_score=True, # 默认不返回 train 的score\n",
    "                                   refit=True, # 默认为 True, 用最好的模型+全量数据再次训练，用 gscv.best_estimator_ 获取最好模型\n",
    "                                   n_jobs=-1)\n",
    "grid.fit(train_x, train_y)\n",
    "print(\"The best parameters are %s with a score of %0.2f\" %(grid.best_params_, grid.best_score_))\n"
   ]
  },
  {
   "cell_type": "code",
   "execution_count": 10,
   "metadata": {
    "ExecuteTime": {
     "end_time": "2021-05-21T04:46:13.349880Z",
     "start_time": "2021-05-21T04:46:12.628969Z"
    }
   },
   "outputs": [
    {
     "name": "stdout",
     "output_type": "stream",
     "text": [
      "0.5474579547651266\n",
      "分类报告：\n",
      "              precision    recall  f1-score   support\n",
      "\n",
      "         1.0       1.00      0.26      0.41       543\n",
      "         2.0       0.06      0.18      0.09       512\n",
      "         3.0       1.00      0.24      0.38       543\n",
      "         4.0       0.40      1.00      0.57       543\n",
      "         5.0       1.00      1.00      1.00       498\n",
      "         6.0       1.00      1.00      1.00       543\n",
      "         7.0       1.00      1.00      1.00       543\n",
      "         8.0       0.00      0.00      0.00       543\n",
      "         9.0       0.00      0.00      0.00       543\n",
      "        10.0       1.00      0.95      0.98       362\n",
      "\n",
      "    accuracy                           0.55      5173\n",
      "   macro avg       0.65      0.56      0.54      5173\n",
      "weighted avg       0.63      0.55      0.53      5173\n",
      "\n"
     ]
    }
   ],
   "source": [
    "#------------------MLPClassifier--------------\n",
    "mlp=neural_network.MLPClassifier(max_iter=1000) #todo 需要根据上一步来设置模型参数\n",
    "mlp.fit(train_x, train_y)\n",
    "pred_y = mlp.predict(test_x)\n",
    "printPredictionResult(test_y,pred_y)"
   ]
  },
  {
   "cell_type": "code",
   "execution_count": 22,
   "metadata": {
    "ExecuteTime": {
     "end_time": "2022-10-07T14:53:35.833942Z",
     "start_time": "2022-10-07T14:53:35.815354Z"
    }
   },
   "outputs": [
    {
     "ename": "ModuleNotFoundError",
     "evalue": "No module named 'xgboost'",
     "output_type": "error",
     "traceback": [
      "\u001b[0;31m---------------------------------------------------------------------------\u001b[0m",
      "\u001b[0;31mModuleNotFoundError\u001b[0m                       Traceback (most recent call last)",
      "\u001b[0;32m/tmp/ipykernel_16575/2228772673.py\u001b[0m in \u001b[0;36m<module>\u001b[0;34m\u001b[0m\n\u001b[1;32m      1\u001b[0m \u001b[0;31m#------------------XGBClassifier--------------\u001b[0m\u001b[0;34m\u001b[0m\u001b[0;34m\u001b[0m\u001b[0m\n\u001b[0;32m----> 2\u001b[0;31m \u001b[0;32mfrom\u001b[0m \u001b[0mxgboost\u001b[0m \u001b[0;32mimport\u001b[0m \u001b[0mXGBClassifier\u001b[0m\u001b[0;34m\u001b[0m\u001b[0m\n\u001b[0m\u001b[1;32m      3\u001b[0m \u001b[0;31m#分类器使用 xgboost\u001b[0m\u001b[0;34m\u001b[0m\u001b[0;34m\u001b[0m\u001b[0m\n\u001b[1;32m      4\u001b[0m \u001b[0mclf1\u001b[0m \u001b[0;34m=\u001b[0m \u001b[0mxgb\u001b[0m\u001b[0;34m.\u001b[0m\u001b[0mXGBClassifier\u001b[0m\u001b[0;34m(\u001b[0m\u001b[0;34m)\u001b[0m\u001b[0;34m\u001b[0m\u001b[0m\n\u001b[1;32m      5\u001b[0m \u001b[0;34m\u001b[0m\u001b[0m\n",
      "\u001b[0;31mModuleNotFoundError\u001b[0m: No module named 'xgboost'"
     ]
    }
   ],
   "source": [
    "#------------------XGBClassifier--------------\n",
    "from xgboost import XGBClassifier\n",
    "#分类器使用 xgboost\n",
    "clf1 = xgb.XGBClassifier()\n",
    " \n",
    "#设定网格搜索的xgboost参数搜索范围，值搜索XGBoost的主要6个参数\n",
    "param_dist = {\n",
    "        'n_estimators':range(80,200,4),\n",
    "        'max_depth':range(2,15,1),\n",
    "        'learning_rate':np.linspace(0.01,2,20),\n",
    "        'subsample':np.linspace(0.7,0.9,20),\n",
    "        'colsample_bytree':np.linspace(0.5,0.98,10),\n",
    "        'min_child_weight':range(1,9,1)\n",
    "        }\n",
    " \n",
    "#GridSearchCV参数说明，clf1设置训练的学习器\n",
    "#param_dist字典类型，放入参数搜索范围\n",
    "#scoring = 'neg_log_loss'，精度评价方式设定为“neg_log_loss“\n",
    "#n_iter=300，训练300次，数值越大，获得的参数精度越大，但是搜索时间越长\n",
    "#n_jobs = -1，使用所有的CPU进行训练，默认为1，使用1个CPU\n",
    "grid = GridSearchCV(clf1,param_dist,cv = 3,scoring = 'neg_log_loss',n_iter=300,n_jobs = -1)\n",
    "grid.fit(train_x, train_y)\n",
    "print(\"The best parameters are %s with a score of %0.2f\" %(grid.best_params_, grid.best_score_))"
   ]
  },
  {
   "cell_type": "code",
   "execution_count": null,
   "metadata": {
    "ExecuteTime": {
     "end_time": "2021-04-13T13:17:58.642803Z",
     "start_time": "2021-04-13T13:17:58.585838Z"
    }
   },
   "outputs": [],
   "source": [
    "#------------------XGBClassifier--------------\n",
    "mo = XGBClassifier()   #todo 需要根据上一步来设置模型参数\n",
    "mo.fit(train_x, train_y)\n",
    "pred_y = mo.predict(test_x)\n",
    "printPredictionResult(test_y,pred_y)"
   ]
  },
  {
   "cell_type": "code",
   "execution_count": null,
   "metadata": {
    "ExecuteTime": {
     "end_time": "2021-04-13T13:18:37.505325Z",
     "start_time": "2021-04-13T13:18:37.253381Z"
    }
   },
   "outputs": [],
   "source": [
    "from sklearn.model_selection import RandomizedSearchCV\n",
    "\n",
    "RF = RandomForestRegressor()\n",
    "#设置初始的参数空间\n",
    "n_estimators = [int(x) for x in np.linspace(start = 200,stop = 2000,num = 10)]\n",
    "min_samples_split = [2,5,10]\n",
    "min_samples_leaf = [1,2,4]\n",
    "max_depth = [5,8,10]\n",
    "max_features = ['auto','sqrt']\n",
    "bootstrap = [True,False]\n",
    "#将参数整理为字典格式\n",
    "random_params_group = {'n_estimators':n_estimators,\n",
    "                      'min_samples_split':min_samples_split,\n",
    "                      'min_samples_leaf':min_samples_leaf,\n",
    "                      'max_depth':max_depth,\n",
    "                      'max_features':max_features,\n",
    "                      'bootstrap':bootstrap}\n",
    "#建立RandomizedSearchCV模型\n",
    "grid =RandomizedSearchCV(RF,param_distributions = random_params_group,n_iter = 100,scoring = 'neg_mean_squared_error',verbose = 2,n_jobs = -1,cv = 3,random_state = 0)\n",
    "#使用该模型训练数据\n",
    "grid.fit(train_x, train_y)\n",
    "print(\"The best parameters are %s with a score of %0.2f\" %(grid.best_params_, grid.best_score_))"
   ]
  },
  {
   "cell_type": "code",
   "execution_count": null,
   "metadata": {},
   "outputs": [],
   "source": [
    "#使用网格搜索进行细化处理\n",
    "from sklearn.model_selection import GridSearchCV\n",
    "import time\n",
    "\n",
    "param_grid = {'n_estimators':[1100,1200,1300],\n",
    "             'min_samples_split':[4,5,6,7],\n",
    "             'min_samples_leaf':[3,4,5],\n",
    "             'max_depth':[4,5,6,7]}\n",
    "randomForest = RandomForestRegressor()\n",
    "grid = GridSearchCV(randomForest,param_grid = param_grid,scoring = 'neg_mean_squared_error',cv = 3,n_jobs = -1)\n",
    "start_time = time.time()\n",
    "grid.fit(train_x, train_y)\n",
    "end_time = time.time()\n",
    "print('模型训练用时:{}'.format(end_time - start_time))\n",
    "print(\"The best parameters are %s with a score of %0.2f\" %(grid.best_params_, grid.best_score_))"
   ]
  },
  {
   "cell_type": "code",
   "execution_count": null,
   "metadata": {},
   "outputs": [],
   "source": [
    "randomForest = RandomForestRegressor() #todo 需要根据上一步来设置模型参数\n",
    "randomForest.fit(train_x, train_y)\n",
    "pred_y = mo.predict(test_x)\n",
    "printPredictionResult(test_y,pred_y)"
   ]
  },
  {
   "cell_type": "code",
   "execution_count": null,
   "metadata": {
    "ExecuteTime": {
     "end_time": "2021-04-13T13:24:41.663844Z",
     "start_time": "2021-04-13T13:24:41.617909Z"
    },
    "scrolled": true
   },
   "outputs": [],
   "source": [
    "model = svm.SVC(kernel='linear', C=0.58)\n",
    "model.fit(train_x, train_y)\n",
    "pred_test_y = model.predict(test_x)\n",
    "\n",
    "#保存模型\n",
    "file = r'../../modefiles/svm_no_yes.joblib'\n",
    "joblib.dump(model,file)\n",
    "# 读取模型\n",
    "svm_model = joblib.load(file)\n",
    "pred_test_y = svm_model.predict(test_x)\n",
    "#统计准确率\n",
    "print(sm.accuracy_score(test_y, pred_test_y))  #https://scikit-learn.org/stable/modules/generated/sklearn.metrics.accuracy_score.html\n",
    "bg = sm.classification_report(test_y, pred_test_y) #y_true, y_pred,Build a text report showing the main classification metrics.\n",
    "print('分类报告：', bg, sep='\\n')\n",
    "# 列表左边的一列为分类的标签名；support列为每个标签的出现次数\n",
    "# avg / total行为各列的均值（support列为总和）\n",
    "# macro , weighted 介绍 https://www.cnblogs.com/laozhanghahaha/p/12499979.html\n",
    "#保存混淆矩阵\n",
    "#def confusion_matrix(pred_test_y):\n",
    "#     coonfusion_plot = [[0]*10 for i in range(10)]\n",
    "#     for i in range(10):\n",
    "#         for j in range(30):\n",
    "#             coonfusion_plot[i][pred_test_y[i*30+j]] += 1\n",
    "#     return coonfusion_plot\n",
    "\n",
    "# pred_test = confusion_matrix(pred_test_y)\n",
    "# f_confusion = r'../../modefiles/confusion_matrix_no_yes.txt'\n",
    "# with open(f_confusion, 'w') as fl3:\n",
    "#     fl3.write(str(pred_test))"
   ]
  },
  {
   "cell_type": "code",
   "execution_count": null,
   "metadata": {},
   "outputs": [],
   "source": [
    "# # 【6】 GBDT(Gradient Boosting Decision Tree) Classifier\n",
    "# # 梯度增强决策树分类器\n",
    "from sklearn.ensemble import GradientBoostingClassifier\n",
    "\n",
    "GBDT = GradientBoostingClassifier()\n",
    "GBDT.fit(train_x, train_y)\n",
    "pred_test_GBDT = GBDT.predict(test_x)\n",
    "print('accuracyGBDT:',format(sm.accuracy_score(test_y, pred_test_GBDT),'.4f'))\n",
    "print('recall:',format(sm.recall_score(test_y, pred_test_GBDT,average='macro'),'.4f'))\n",
    "print('F1:',format(sm.f1_score(test_y, pred_test_GBDT, average='macro'),'.4f'))\n",
    "\n",
    "# # 伯努利贝叶斯分类器\n",
    "from sklearn.naive_bayes import BernoulliNB\n",
    "\n",
    "Bernoulli = BernoulliNB()\n",
    "Bernoulli.fit(train_x, train_y)\n",
    "pred_test_BernoulliNB = Gaussian.predict(test_x)\n",
    "print('BernoulliNB:',format(sm.accuracy_score(test_y, pred_test_BernoulliNB),'.4f'))\n",
    "\n",
    "# # 多项式贝叶斯分类器\n",
    "from sklearn.naive_bayes import MultinomialNB\n",
    "\n",
    "Multinomial = MultinomialNB()\n",
    "Multinomial.fit(train_x, train_y)\n",
    "pred_test_Multinomial = Multinomial.predict(test_x)\n",
    "print('MultinomialNB:',format(sm.accuracy_score(test_y, pred_test_Multinomial),'.4f'))\n",
    "\n",
    "# 【7】 GaussianNB\n",
    "# # 高斯贝叶斯分类器\n",
    "from sklearn.naive_bayes import GaussianNB\n",
    "\n",
    "Gaussian = GaussianNB()\n",
    "Gaussian.fit(train_x, train_y)\n",
    "pred_test_Gaussian = Gaussian.predict(test_x)\n",
    "print('accuracyGaussian:',format(sm.accuracy_score(test_y, pred_test_Gaussian),'.4f'))\n",
    "print('recall:',format(sm.recall_score(test_y, pred_test_Gaussian,average='macro'),'.4f'))\n",
    "print('F1:',format(sm.f1_score(test_y, pred_test_Gaussian, average='macro'),'.4f'))"
   ]
  }
 ],
 "metadata": {
  "kernelspec": {
   "display_name": "Python [conda env:dataglove] *",
   "language": "python",
   "name": "conda-env-dataglove-py"
  },
  "language_info": {
   "codemirror_mode": {
    "name": "ipython",
    "version": 3
   },
   "file_extension": ".py",
   "mimetype": "text/x-python",
   "name": "python",
   "nbconvert_exporter": "python",
   "pygments_lexer": "ipython3",
   "version": "3.7.0"
  },
  "toc": {
   "base_numbering": 1,
   "nav_menu": {},
   "number_sections": true,
   "sideBar": true,
   "skip_h1_title": false,
   "title_cell": "Table of Contents",
   "title_sidebar": "Contents",
   "toc_cell": false,
   "toc_position": {},
   "toc_section_display": true,
   "toc_window_display": false
  }
 },
 "nbformat": 4,
 "nbformat_minor": 2
}
