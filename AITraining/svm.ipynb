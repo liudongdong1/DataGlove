{
 "cells": [
  {
   "cell_type": "code",
   "execution_count": 1,
   "id": "d1ad73ca",
   "metadata": {
    "ExecuteTime": {
     "end_time": "2021-06-03T04:59:06.887186Z",
     "start_time": "2021-06-03T04:59:05.790414Z"
    }
   },
   "outputs": [],
   "source": [
    "from util.config import Config\n",
    "from util.FlexDataRead import FlexSensorDataRead\n",
    "from torch.utils.data import DataLoader\n",
    "import numpy as np"
   ]
  },
  {
   "cell_type": "code",
   "execution_count": 3,
   "id": "751510aa",
   "metadata": {
    "ExecuteTime": {
     "end_time": "2021-06-03T04:59:36.157408Z",
     "start_time": "2021-06-03T04:59:20.123313Z"
    }
   },
   "outputs": [
    {
     "name": "stdout",
     "output_type": "stream",
     "text": [
      "label: {'A': 0, 'B': 1, 'C': 2, 'D': 3, 'E': 4, 'F': 5, 'G': 6, 'H': 7, 'I': 8, 'J': 9, 'K': 10, 'L': 11, 'M': 12, 'N': 13, 'O': 14, 'P': 15, 'Q': 16, 'R': 17, 'S': 18, 'T': 19, 'U': 20, 'V': 21, 'W': 22, 'X': 23, 'Y': 24, 'Z': 25}\n",
      "filename: X.txt label 23 \n",
      "filename: P.txt label 15 \n",
      "filename: L.txt label 11 \n",
      "filename: D.txt label 3 \n",
      "filename: R.txt label 17 \n",
      "filename: H.txt label 7 \n",
      "filename: K.txt label 10 \n",
      "filename: N.txt label 13 \n",
      "filename: E.txt label 4 \n",
      "filename: G.txt label 6 \n",
      "filename: T.txt label 19 \n",
      "filename: M.txt label 12 \n",
      "filename: Y.txt label 24 \n",
      "filename: F.txt label 5 \n",
      "filename: W.txt label 22 \n",
      "filename: B.txt label 1 \n",
      "filename: U.txt label 20 \n",
      "filename: O.txt label 14 \n",
      "filename: Z.txt label 25 \n",
      "filename: I.txt label 8 \n",
      "filename: V.txt label 21 \n",
      "filename: A.txt label 0 \n",
      "filename: J.txt label 9 \n",
      "filename: C.txt label 2 \n",
      "filename: S.txt label 18 \n",
      "filename: Q.txt label 16 \n"
     ]
    }
   ],
   "source": [
    "data_set=FlexSensorDataRead(r\"../../data/temp/picFlex/charGen/train\",\"word\")\n",
    "dataloader=DataLoader(dataset=data_set, batch_size=len(data_set), shuffle=True)"
   ]
  },
  {
   "cell_type": "code",
   "execution_count": 4,
   "id": "94ac323b",
   "metadata": {
    "ExecuteTime": {
     "end_time": "2021-06-03T05:03:37.167080Z",
     "start_time": "2021-06-03T05:00:28.591019Z"
    }
   },
   "outputs": [
    {
     "name": "stdout",
     "output_type": "stream",
     "text": [
      "[[ 0.6708539  -0.36896968  2.0461044   1.7106775  -0.0335427 ]\n",
      " [ 1.0398237   0.36896968  2.415074    2.0796473   0.33542696]\n",
      " [-1.3752506  -2.0461044  -2.415074   -0.33542696 -2.0796473 ]\n",
      " [-1.0398237  -1.7106775  -2.0796473   0.33542696 -1.7442203 ]\n",
      " [ 0.7043966   0.0335427  -0.33542696  2.0796473   1.7442203 ]] 17\n",
      "[ 0.6708539  -0.36896968  2.0461044   1.7106775  -0.0335427   1.0398237\n",
      "  0.36896968  2.415074    2.0796473   0.33542696 -1.3752506  -2.0461044\n",
      " -2.415074   -0.33542696 -2.0796473  -1.0398237  -1.7106775  -2.0796473\n",
      "  0.33542696 -1.7442203   0.7043966   0.0335427  -0.33542696  2.0796473\n",
      "  1.7442203 ]\n"
     ]
    }
   ],
   "source": [
    "alldata=[]\n",
    "for batch_cnt, data in enumerate(dataloader):\n",
    "    alldata=data\n",
    "    \n",
    "data,label=alldata\n",
    "data=data.numpy()\n",
    "label=label.numpy()\n",
    "print(data[0],label[0])\n",
    "data=data.reshape((-1,25))\n",
    "print(data[0])"
   ]
  },
  {
   "cell_type": "code",
   "execution_count": 5,
   "id": "30af0330",
   "metadata": {
    "ExecuteTime": {
     "end_time": "2021-06-03T05:03:53.220422Z",
     "start_time": "2021-06-03T05:03:53.214098Z"
    }
   },
   "outputs": [],
   "source": [
    "def printPredictionResult(test_y,pred_test_y):\n",
    "    '''\n",
    "    ;function: 模型执行结果参数显示\n",
    "    ;parameters:\n",
    "        test_y: 真实标签数据；\n",
    "        pred_test_y: 模型预测的y数据\n",
    "    '''\n",
    "    print(sm.accuracy_score(test_y, pred_test_y))  #https://scikit-learn.org/stable/modules/generated/sklearn.metrics.accuracy_score.html\n",
    "    bg = sm.classification_report(test_y, pred_test_y) #y_true, y_pred,Build a text report showing the main classification metrics.\n",
    "    print('分类报告：', bg, sep='\\n')"
   ]
  },
  {
   "cell_type": "code",
   "execution_count": null,
   "id": "c538c057",
   "metadata": {
    "ExecuteTime": {
     "start_time": "2021-06-03T05:09:59.584Z"
    }
   },
   "outputs": [
    {
     "name": "stderr",
     "output_type": "stream",
     "text": [
      "/home/iot/anaconda3/envs/dataglove/lib/python3.7/site-packages/sklearn/svm/base.py:193: FutureWarning: The default value of gamma will change from 'auto' to 'scale' in version 0.22 to account better for unscaled features. Set gamma explicitly to 'auto' or 'scale' to avoid this warning.\n",
      "  \"avoid this warning.\", FutureWarning)\n"
     ]
    },
    {
     "name": "stdout",
     "output_type": "stream",
     "text": [
      "[LibSVM]"
     ]
    }
   ],
   "source": [
    "from sklearn import datasets\n",
    "from sklearn.model_selection import train_test_split\n",
    "from sklearn.model_selection import GridSearchCV\n",
    "from sklearn.metrics import classification_report\n",
    "from sklearn.svm import SVC\n",
    "from sklearn.model_selection import cross_val_score\n",
    "clf = SVC(kernel='rbf', C=1, random_state=42,verbose=True)\n",
    "clf.fit(data, label)"
   ]
  },
  {
   "cell_type": "code",
   "execution_count": 8,
   "id": "7e8ce02e",
   "metadata": {
    "ExecuteTime": {
     "end_time": "2021-06-04T03:33:20.502021Z",
     "start_time": "2021-06-04T03:32:52.810379Z"
    }
   },
   "outputs": [
    {
     "name": "stdout",
     "output_type": "stream",
     "text": [
      "label: {'A': 0, 'B': 1, 'C': 2, 'D': 3, 'E': 4, 'F': 5, 'G': 6, 'H': 7, 'I': 8, 'J': 9, 'K': 10, 'L': 11, 'M': 12, 'N': 13, 'O': 14, 'P': 15, 'Q': 16, 'R': 17, 'S': 18, 'T': 19, 'U': 20, 'V': 21, 'W': 22, 'X': 23, 'Y': 24, 'Z': 25}\n",
      "filename: X.txt label 23 \n",
      "filename: P.txt label 15 \n",
      "filename: L.txt label 11 \n",
      "filename: D.txt label 3 \n",
      "filename: R.txt label 17 \n",
      "filename: H.txt label 7 \n",
      "filename: K.txt label 10 \n",
      "filename: N.txt label 13 \n",
      "filename: E.txt label 4 \n",
      "filename: G.txt label 6 \n",
      "filename: T.txt label 19 \n",
      "filename: M.txt label 12 \n",
      "filename: Y.txt label 24 \n",
      "filename: F.txt label 5 \n",
      "filename: W.txt label 22 \n",
      "filename: B.txt label 1 \n",
      "filename: U.txt label 20 \n",
      "filename: O.txt label 14 \n",
      "filename: Z.txt label 25 \n",
      "filename: I.txt label 8 \n",
      "filename: V.txt label 21 \n",
      "filename: A.txt label 0 \n",
      "filename: J.txt label 9 \n",
      "filename: C.txt label 2 \n",
      "filename: S.txt label 18 \n",
      "filename: Q.txt label 16 \n",
      "[[-1.3922893  -1.9781159  -1.9781159  -2.586767   -0.4184476 ]\n",
      " [ 0.58582664  1.9781159   0.         -0.60865104  1.5596684 ]\n",
      " [ 0.58582664  1.9781159   0.         -0.60865104  1.5596684 ]\n",
      " [ 1.1944777   2.586767    0.60865104  0.60865104  2.1683195 ]\n",
      " [-0.9738417   0.4184476  -1.5596684  -1.5596684  -2.1683195 ]] 8\n",
      "[-1.3922893  -1.9781159  -1.9781159  -2.586767   -0.4184476   0.58582664\n",
      "  1.9781159   0.         -0.60865104  1.5596684   0.58582664  1.9781159\n",
      "  0.         -0.60865104  1.5596684   1.1944777   2.586767    0.60865104\n",
      "  0.60865104  2.1683195  -0.9738417   0.4184476  -1.5596684  -1.5596684\n",
      " -2.1683195 ]\n"
     ]
    }
   ],
   "source": [
    "data_test=FlexSensorDataRead(r\"../../data/temp/picFlex/charGen/test\",\"word\")\n",
    "dataloader=DataLoader(dataset=data_test, batch_size=len(data_set), shuffle=True)\n",
    "testdata=[]\n",
    "for batch_cnt, data in enumerate(dataloader):\n",
    "    testdata=data\n",
    "    \n",
    "test,label_t=testdata\n",
    "data1=test.numpy()\n",
    "label1=label_t.numpy()\n",
    "print(data1[0],label1[0])\n",
    "data1=data1.reshape((-1,25))\n",
    "print(data1[0])"
   ]
  },
  {
   "cell_type": "code",
   "execution_count": null,
   "id": "b818e275",
   "metadata": {
    "ExecuteTime": {
     "start_time": "2021-06-04T05:36:47.583Z"
    }
   },
   "outputs": [],
   "source": [
    "pred_test_y = clf.predict(data1)\n",
    "print(sm.accuracy_score(pred_test_y, label1))\n",
    "bg = sm.classification_report(label1, pred_test_y)\n",
    "print('分类报告：', bg, sep='\\n')"
   ]
  },
  {
   "cell_type": "code",
   "execution_count": 9,
   "id": "572754d2",
   "metadata": {
    "ExecuteTime": {
     "end_time": "2021-05-31T07:39:38.975818Z",
     "start_time": "2021-05-31T07:39:38.956667Z"
    }
   },
   "outputs": [
    {
     "ename": "ImportError",
     "evalue": "cannot import name 'enable_halving_search_cv' from 'sklearn.experimental' (/home/iot/anaconda3/envs/dataglove/lib/python3.7/site-packages/sklearn/experimental/__init__.py)",
     "output_type": "error",
     "traceback": [
      "\u001b[0;31m---------------------------------------------------------------------------\u001b[0m",
      "\u001b[0;31mImportError\u001b[0m                               Traceback (most recent call last)",
      "\u001b[0;32m<ipython-input-9-307ff5d1d663>\u001b[0m in \u001b[0;36m<module>\u001b[0;34m\u001b[0m\n\u001b[1;32m      1\u001b[0m \u001b[0;32mimport\u001b[0m \u001b[0mnumpy\u001b[0m \u001b[0;32mas\u001b[0m \u001b[0mnp\u001b[0m\u001b[0;34m\u001b[0m\u001b[0m\n\u001b[1;32m      2\u001b[0m \u001b[0;32mfrom\u001b[0m \u001b[0mscipy\u001b[0m\u001b[0;34m.\u001b[0m\u001b[0mstats\u001b[0m \u001b[0;32mimport\u001b[0m \u001b[0mrandint\u001b[0m\u001b[0;34m\u001b[0m\u001b[0m\n\u001b[0;32m----> 3\u001b[0;31m \u001b[0;32mfrom\u001b[0m \u001b[0msklearn\u001b[0m\u001b[0;34m.\u001b[0m\u001b[0mexperimental\u001b[0m \u001b[0;32mimport\u001b[0m \u001b[0menable_halving_search_cv\u001b[0m  \u001b[0;31m# noqa\u001b[0m\u001b[0;34m\u001b[0m\u001b[0m\n\u001b[0m\u001b[1;32m      4\u001b[0m \u001b[0;32mfrom\u001b[0m \u001b[0msklearn\u001b[0m\u001b[0;34m.\u001b[0m\u001b[0mmodel_selection\u001b[0m \u001b[0;32mimport\u001b[0m \u001b[0mHalvingRandomSearchCV\u001b[0m\u001b[0;34m\u001b[0m\u001b[0m\n\u001b[1;32m      5\u001b[0m \u001b[0;32mfrom\u001b[0m \u001b[0msklearn\u001b[0m\u001b[0;34m.\u001b[0m\u001b[0mensemble\u001b[0m \u001b[0;32mimport\u001b[0m \u001b[0mRandomForestClassifier\u001b[0m\u001b[0;34m\u001b[0m\u001b[0m\n",
      "\u001b[0;31mImportError\u001b[0m: cannot import name 'enable_halving_search_cv' from 'sklearn.experimental' (/home/iot/anaconda3/envs/dataglove/lib/python3.7/site-packages/sklearn/experimental/__init__.py)"
     ]
    }
   ],
   "source": [
    "import numpy as np\n",
    "from scipy.stats import randint\n",
    "from sklearn.experimental import enable_halving_search_cv  # noqa\n",
    "from sklearn.model_selection import HalvingRandomSearchCV\n",
    "from sklearn.ensemble import RandomForestClassifier\n",
    "clf = RandomForestClassifier(n_estimators=10, random_state=rng)\n",
    "\n",
    "param_dist = {\"max_depth\": [5, None],\n",
    "              \"max_features\": randint(1, 11),\n",
    "              \"min_samples_split\": randint(2, 11),\n",
    "              \"bootstrap\": [True, False],\n",
    "              \"criterion\": [\"gini\", \"entropy\"]}\n",
    "\n",
    "rsh = HalvingRandomSearchCV(estimator=clf, param_distributions=param_dist,\n",
    "                            factor=2, random_state=rng)\n",
    "rsh.fit(data, label)\n",
    "rsh.best_params_"
   ]
  },
  {
   "cell_type": "code",
   "execution_count": null,
   "id": "c7d42d32",
   "metadata": {},
   "outputs": [],
   "source": []
  }
 ],
 "metadata": {
  "kernelspec": {
   "display_name": "Python [conda env:dataglove] *",
   "language": "python",
   "name": "conda-env-dataglove-py"
  },
  "language_info": {
   "codemirror_mode": {
    "name": "ipython",
    "version": 3
   },
   "file_extension": ".py",
   "mimetype": "text/x-python",
   "name": "python",
   "nbconvert_exporter": "python",
   "pygments_lexer": "ipython3",
   "version": "3.7.0"
  },
  "toc": {
   "base_numbering": 1,
   "nav_menu": {},
   "number_sections": true,
   "sideBar": true,
   "skip_h1_title": false,
   "title_cell": "Table of Contents",
   "title_sidebar": "Contents",
   "toc_cell": false,
   "toc_position": {},
   "toc_section_display": true,
   "toc_window_display": false
  }
 },
 "nbformat": 4,
 "nbformat_minor": 5
}
