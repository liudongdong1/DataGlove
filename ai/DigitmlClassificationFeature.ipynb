{
 "cells": [
  {
   "cell_type": "code",
   "execution_count": 11,
   "metadata": {
    "ExecuteTime": {
     "end_time": "2021-05-21T13:44:35.991708Z",
     "start_time": "2021-05-21T13:44:35.983919Z"
    }
   },
   "outputs": [],
   "source": [
    "import numpy as np\n",
    "import matplotlib.pyplot as mp\n",
    "import sklearn.model_selection as ms\n",
    "import sklearn.svm as svm\n",
    "import sklearn.tree as st\n",
    "import sklearn.datasets as sd  # sklearn提供的数据集\n",
    "import sklearn.utils as su  # 可以把数据集按照行进行打乱\n",
    "import sklearn.metrics as sm\n",
    "import sklearn.ensemble as se\n",
    "import joblib\n",
    "import os\n",
    "import random\n",
    "from dataReadFeature import *\n",
    "from sklearn.metrics import log_loss\n",
    "from sklearn.preprocessing import LabelBinarizer\n",
    "from math import log\n",
    "import warnings\n",
    "warnings.filterwarnings(\"ignore\")"
   ]
  },
  {
   "cell_type": "code",
   "execution_count": 12,
   "metadata": {
    "ExecuteTime": {
     "end_time": "2021-05-21T13:44:38.862461Z",
     "start_time": "2021-05-21T13:44:38.631255Z"
    },
    "scrolled": true
   },
   "outputs": [
    {
     "name": "stdout",
     "output_type": "stream",
     "text": [
      "label: {'eight': 1, 'five': 2, 'four': 3, 'nine': 4, 'one': 5, 'seven': 6, 'six': 7, 'ten': 8, 'three': 9, 'two': 10}\n",
      "readOneFlexData: filename ../../data/temp/picFlex/digit_testData/five/1618286339.4787295.txt\n",
      "readOneFlexData: filename ../../data/temp/picFlex/digit_testData/five/1618286327.8168333.txt\n",
      "readOneFlexData: filename ../../data/temp/picFlex/digit_testData/five/1618286354.6674438.txt\n",
      "readOneFlexData: filename ../../data/temp/picFlex/digit_testData/one/1618286125.7450051.txt\n",
      "readOneFlexData: filename ../../data/temp/picFlex/digit_testData/one/1618286115.2319806.txt\n",
      "readOneFlexData: filename ../../data/temp/picFlex/digit_testData/one/1618286145.2947443.txt\n",
      "readOneFlexData: filename ../../data/temp/picFlex/digit_testData/seven/1618286540.8054948.txt\n",
      "readOneFlexData: filename ../../data/temp/picFlex/digit_testData/seven/1618286524.0328822.txt\n",
      "readOneFlexData: filename ../../data/temp/picFlex/digit_testData/seven/1618286485.8354876.txt\n",
      "readOneFlexData: filename ../../data/temp/picFlex/digit_testData/eight/1618286560.2020962.txt\n",
      "readOneFlexData: filename ../../data/temp/picFlex/digit_testData/eight/1618286576.1838996.txt\n",
      "readOneFlexData: filename ../../data/temp/picFlex/digit_testData/eight/1618286595.8956842.txt\n",
      "readOneFlexData: filename ../../data/temp/picFlex/digit_testData/two/1618286179.7475307.txt\n",
      "readOneFlexData: filename ../../data/temp/picFlex/digit_testData/two/1618286164.6926854.txt\n",
      "readOneFlexData: filename ../../data/temp/picFlex/digit_testData/nine/1618286627.714307.txt\n",
      "readOneFlexData: filename ../../data/temp/picFlex/digit_testData/nine/1618286643.7002757.txt\n",
      "readOneFlexData: filename ../../data/temp/picFlex/digit_testData/nine/1618286665.895194.txt\n",
      "readOneFlexData: filename ../../data/temp/picFlex/digit_testData/three/1618286253.3166633.txt\n",
      "readOneFlexData: filename ../../data/temp/picFlex/digit_testData/three/1618286237.7981153.txt\n",
      "readOneFlexData: filename ../../data/temp/picFlex/digit_testData/three/1618286222.277035.txt\n",
      "readOneFlexData: filename ../../data/temp/picFlex/digit_testData/six/1618286377.1759233.txt\n",
      "readOneFlexData: filename ../../data/temp/picFlex/digit_testData/six/1618286407.1295104.txt\n",
      "readOneFlexData: filename ../../data/temp/picFlex/digit_testData/six/1618286392.3832421.txt\n",
      "readOneFlexData: filename ../../data/temp/picFlex/digit_testData/four/1618286274.2710025.txt\n",
      "readOneFlexData: filename ../../data/temp/picFlex/digit_testData/four/1618286304.8525834.txt\n",
      "readOneFlexData: filename ../../data/temp/picFlex/digit_testData/four/1618286289.3294058.txt\n",
      "readOneFlexData: filename ../../data/temp/picFlex/digit_testData/ten/1618286692.1352.txt\n",
      "readOneFlexData: filename ../../data/temp/picFlex/digit_testData/ten/1618286708.57979.txt\n",
      "readOneFlexData: filename ../../data/temp/picFlex/digit_testData/ten/1618286725.6504312.txt\n",
      "label: {'eight': 1, 'five': 2, 'four': 3, 'nine': 4, 'one': 5, 'seven': 6, 'six': 7, 'ten': 8, 'three': 9, 'two': 10}\n",
      "数据长度： 2589 2589\n",
      "test_x [19.64199802081117, 18.30698982955068, -1.3350081912604885, 6.851141777518473, -12.790856243292696, -11.455848052032207, 18.39587522432938, -1.2461227964817887, 0.08888539477869983, 11.544733446810907, 7.792713508163262, -11.849284512647907, -10.514276321387419, 0.9415717306447888, -10.603161716166118] test_y 2.0\n",
      "train_x [ 9.71694329  3.41440754 -6.30253575 10.08936585  0.37242257  6.67495831\n",
      "  7.05841912 -2.65852417  3.64401158 -3.03094674 17.78418904  8.06724576\n",
      " 14.3697815   7.69482319 10.72576992] label_y 2\n"
     ]
    }
   ],
   "source": [
    "#加载数据\n",
    "databasefoler=r\"../../data/temp/picFlex\"\n",
    "classLabel=[\"word\",\"word_testData\",\"word_test1\",\"word_testnew\",\"digit\",\"digit_testData\",\"digit_test1\",\"digit_testnew\"]\n",
    "\n",
    "# 读取测试数据\n",
    "test_x,test_y = FlexSensorDataRead(basefolder=databasefoler,classtype=classLabel[3]).getDataLabel()\n",
    "# 读取训练数据\n",
    "train_data = TorchDataset(basefolder=databasefoler, classtype=classLabel[2])\n",
    "train_x,train_y=train_data.getAllData()\n",
    "\n",
    "#查看一组数据\n",
    "print(\"test_x\",test_x[0],\"test_y\",test_y[0])\n",
    "print(\"train_x\",train_x[0],\"label_y\",train_y[0])"
   ]
  },
  {
   "cell_type": "code",
   "execution_count": 13,
   "metadata": {
    "ExecuteTime": {
     "end_time": "2021-05-21T13:44:41.887911Z",
     "start_time": "2021-05-21T13:44:41.882215Z"
    }
   },
   "outputs": [],
   "source": [
    "def printPredictionResult(test_y,pred_test_y):\n",
    "    '''\n",
    "    ;function: 模型执行结果参数显示\n",
    "    ;parameters:\n",
    "        test_y: 真实标签数据；\n",
    "        pred_test_y: 模型预测的y数据\n",
    "    '''\n",
    "    print(sm.accuracy_score(test_y, pred_test_y))  #https://scikit-learn.org/stable/modules/generated/sklearn.metrics.accuracy_score.html\n",
    "    bg = sm.classification_report(test_y, pred_test_y) #y_true, y_pred,Build a text report showing the main classification metrics.\n",
    "    print('分类报告：', bg, sep='\\n')"
   ]
  },
  {
   "cell_type": "code",
   "execution_count": 14,
   "metadata": {
    "ExecuteTime": {
     "end_time": "2021-05-21T13:45:06.537331Z",
     "start_time": "2021-05-21T13:45:06.492635Z"
    }
   },
   "outputs": [
    {
     "name": "stdout",
     "output_type": "stream",
     "text": [
      "test_x [-1.18603318 -1.05834596  0.00257381 -0.77859329  0.30382539  0.4207966\n",
      " -0.26539774  0.73930924  0.92527053  0.68162301 -1.75117002  0.55068125\n",
      "  0.46134804  0.17720083 -0.47946966] test_y 2.0\n",
      "train_x [-1.36428259 -1.29756557 -0.0815413  -0.72197574  0.48977397  0.77804821\n",
      " -0.55915815  0.72059473  0.9843862   0.39187299 -1.21532903  0.87918948\n",
      "  0.80678113  0.27794442 -0.02313182] label_y 2\n"
     ]
    }
   ],
   "source": [
    "# 数据标准化\n",
    "from sklearn.preprocessing import StandardScaler\n",
    "ss_X = StandardScaler()\n",
    "ss_y = StandardScaler()\n",
    "train_x = ss_X.fit_transform(train_x)\n",
    "test_x  = ss_X.transform(test_x)\n",
    "#查看一组数据\n",
    "print(\"test_x\",test_x[0],\"test_y\",test_y[0])\n",
    "print(\"train_x\",train_x[0],\"label_y\",train_y[0])"
   ]
  },
  {
   "cell_type": "code",
   "execution_count": 15,
   "metadata": {
    "ExecuteTime": {
     "end_time": "2021-05-21T13:45:15.638166Z",
     "start_time": "2021-05-21T13:45:15.561816Z"
    }
   },
   "outputs": [
    {
     "name": "stdout",
     "output_type": "stream",
     "text": [
      "0.6914749661705006\n",
      "分类报告：\n",
      "              precision    recall  f1-score   support\n",
      "\n",
      "         1.0       1.00      0.98      0.99       543\n",
      "         2.0       0.49      1.00      0.65       512\n",
      "         3.0       1.00      1.00      1.00       543\n",
      "         4.0       0.34      1.00      0.51       543\n",
      "         5.0       0.00      0.00      0.00       498\n",
      "         6.0       1.00      1.00      1.00       543\n",
      "         7.0       1.00      1.00      1.00       543\n",
      "         8.0       0.00      0.00      0.00       543\n",
      "         9.0       0.00      0.00      0.00       543\n",
      "        10.0       1.00      1.00      1.00       362\n",
      "\n",
      "    accuracy                           0.69      5173\n",
      "   macro avg       0.58      0.70      0.62      5173\n",
      "weighted avg       0.57      0.69      0.61      5173\n",
      "\n"
     ]
    }
   ],
   "source": [
    "model = svm.SVC(kernel='linear', C=0.58)\n",
    "model.fit(train_x, train_y)\n",
    "pred_test_y = model.predict(test_x)\n",
    "print(sm.accuracy_score(test_y, pred_test_y))\n",
    "bg = sm.classification_report(test_y, pred_test_y)\n",
    "print('分类报告：', bg, sep='\\n')"
   ]
  },
  {
   "cell_type": "code",
   "execution_count": 16,
   "metadata": {
    "ExecuteTime": {
     "end_time": "2021-05-21T13:45:25.056617Z",
     "start_time": "2021-05-21T13:45:21.794893Z"
    }
   },
   "outputs": [
    {
     "name": "stdout",
     "output_type": "stream",
     "text": [
      "The best parameters are {'C': 100, 'gamma': 0.1, 'kernel': 'rbf'} with a score of 0.96\n"
     ]
    }
   ],
   "source": [
    "#------------------SVM 分类模型--------------\n",
    "from sklearn.model_selection import GridSearchCV\n",
    "\n",
    "param_grid = [\n",
    "\t{'kernel':['linear'],'C':[1,10,100,1000]},\n",
    "\t{'kernel':['poly'],'C':[1,10],'degree':[2,3]},\n",
    "\t{'kernel':['rbf'],'C':[1,10,100,1000],'gamma':[1,0.1, 0.01, 0.001]}]\n",
    "\n",
    "grid = GridSearchCV(svm.SVC(),param_grid,cv=5) #实例化一个GridSearchCV类\n",
    "grid.fit(train_x, train_y)\n",
    "print(\"The best parameters are %s with a score of %0.2f\" %(grid.best_params_, grid.best_score_))\n"
   ]
  },
  {
   "cell_type": "code",
   "execution_count": 23,
   "metadata": {
    "ExecuteTime": {
     "end_time": "2021-05-21T13:47:12.158560Z",
     "start_time": "2021-05-21T13:47:12.064443Z"
    }
   },
   "outputs": [
    {
     "name": "stdout",
     "output_type": "stream",
     "text": [
      "0.7885173013725111\n",
      "分类报告：\n",
      "              precision    recall  f1-score   support\n",
      "\n",
      "         1.0       1.00      0.99      0.99       543\n",
      "         2.0       0.67      1.00      0.80       512\n",
      "         3.0       1.00      1.00      1.00       543\n",
      "         4.0       0.39      1.00      0.57       543\n",
      "         5.0       0.98      1.00      0.99       498\n",
      "         6.0       1.00      1.00      1.00       543\n",
      "         7.0       1.00      1.00      1.00       543\n",
      "         8.0       0.00      0.00      0.00       543\n",
      "         9.0       0.00      0.00      0.00       543\n",
      "        10.0       1.00      1.00      1.00       362\n",
      "\n",
      "    accuracy                           0.79      5173\n",
      "   macro avg       0.70      0.80      0.74      5173\n",
      "weighted avg       0.69      0.79      0.72      5173\n",
      "\n"
     ]
    }
   ],
   "source": [
    "#------------------SVM 分类模型--------------\n",
    "svm_model=svm.SVC(C=100,gamma=0.1,kernel='rbf')   #需要设置参数\n",
    "svm_model.fit(train_x, train_y)\n",
    "pred_test_y = svm_model.predict(test_x)\n",
    "#统计准确率\n",
    "printPredictionResult(test_y,pred_test_y)"
   ]
  },
  {
   "cell_type": "code",
   "execution_count": 5,
   "metadata": {
    "ExecuteTime": {
     "end_time": "2021-05-20T03:06:21.166735Z",
     "start_time": "2021-05-20T03:06:21.041636Z"
    }
   },
   "outputs": [
    {
     "ename": "ValueError",
     "evalue": "Parameter values for parameter (n_neighbors) need to be a sequence(but not a string) or np.ndarray.",
     "output_type": "error",
     "traceback": [
      "\u001b[0;31m---------------------------------------------------------------------------\u001b[0m",
      "\u001b[0;31mValueError\u001b[0m                                Traceback (most recent call last)",
      "\u001b[0;32m<ipython-input-5-1c0f54da154b>\u001b[0m in \u001b[0;36m<module>\u001b[0;34m\u001b[0m\n\u001b[1;32m      6\u001b[0m \u001b[0mknn\u001b[0m \u001b[0;34m=\u001b[0m \u001b[0mKNeighborsClassifier\u001b[0m\u001b[0;34m(\u001b[0m\u001b[0;34m)\u001b[0m\u001b[0;34m\u001b[0m\u001b[0m\n\u001b[1;32m      7\u001b[0m \u001b[0mgrid_param\u001b[0m\u001b[0;34m=\u001b[0m\u001b[0;34m{\u001b[0m\u001b[0;34m'n_neighbors'\u001b[0m\u001b[0;34m:\u001b[0m\u001b[0;36m10\u001b[0m\u001b[0;34m,\u001b[0m\u001b[0;34m'algorithm'\u001b[0m\u001b[0;34m:\u001b[0m\u001b[0;34m[\u001b[0m\u001b[0;34m'auto'\u001b[0m\u001b[0;34m,\u001b[0m\u001b[0;34m'ball_tree'\u001b[0m\u001b[0;34m,\u001b[0m\u001b[0;34m'brute'\u001b[0m\u001b[0;34m]\u001b[0m\u001b[0;34m}\u001b[0m\u001b[0;34m\u001b[0m\u001b[0m\n\u001b[0;32m----> 8\u001b[0;31m \u001b[0mgrid\u001b[0m\u001b[0;34m=\u001b[0m\u001b[0mGridSearchCV\u001b[0m\u001b[0;34m(\u001b[0m\u001b[0mknn\u001b[0m\u001b[0;34m,\u001b[0m\u001b[0mgrid_param\u001b[0m\u001b[0;34m,\u001b[0m\u001b[0mcv\u001b[0m\u001b[0;34m=\u001b[0m\u001b[0;36m5\u001b[0m\u001b[0;34m)\u001b[0m\u001b[0;34m\u001b[0m\u001b[0m\n\u001b[0m\u001b[1;32m      9\u001b[0m \u001b[0mgrid\u001b[0m\u001b[0;34m.\u001b[0m\u001b[0mfit\u001b[0m\u001b[0;34m(\u001b[0m\u001b[0mtrain_x\u001b[0m\u001b[0;34m,\u001b[0m \u001b[0mtrain_y\u001b[0m\u001b[0;34m)\u001b[0m\u001b[0;34m\u001b[0m\u001b[0m\n\u001b[1;32m     10\u001b[0m \u001b[0mprint\u001b[0m\u001b[0;34m(\u001b[0m\u001b[0;34m\"The best parameters are %s with a score of %0.2f\"\u001b[0m \u001b[0;34m%\u001b[0m\u001b[0;34m(\u001b[0m\u001b[0mgrid\u001b[0m\u001b[0;34m.\u001b[0m\u001b[0mbest_params_\u001b[0m\u001b[0;34m,\u001b[0m \u001b[0mgrid\u001b[0m\u001b[0;34m.\u001b[0m\u001b[0mbest_score_\u001b[0m\u001b[0;34m)\u001b[0m\u001b[0;34m)\u001b[0m\u001b[0;34m\u001b[0m\u001b[0m\n",
      "\u001b[0;32m~/anaconda3/envs/dataglove/lib/python3.7/site-packages/sklearn/model_selection/_search.py\u001b[0m in \u001b[0;36m__init__\u001b[0;34m(self, estimator, param_grid, scoring, n_jobs, iid, refit, cv, verbose, pre_dispatch, error_score, return_train_score)\u001b[0m\n\u001b[1;32m   1143\u001b[0m             return_train_score=return_train_score)\n\u001b[1;32m   1144\u001b[0m         \u001b[0mself\u001b[0m\u001b[0;34m.\u001b[0m\u001b[0mparam_grid\u001b[0m \u001b[0;34m=\u001b[0m \u001b[0mparam_grid\u001b[0m\u001b[0;34m\u001b[0m\u001b[0m\n\u001b[0;32m-> 1145\u001b[0;31m         \u001b[0m_check_param_grid\u001b[0m\u001b[0;34m(\u001b[0m\u001b[0mparam_grid\u001b[0m\u001b[0;34m)\u001b[0m\u001b[0;34m\u001b[0m\u001b[0m\n\u001b[0m\u001b[1;32m   1146\u001b[0m \u001b[0;34m\u001b[0m\u001b[0m\n\u001b[1;32m   1147\u001b[0m     \u001b[0;32mdef\u001b[0m \u001b[0m_run_search\u001b[0m\u001b[0;34m(\u001b[0m\u001b[0mself\u001b[0m\u001b[0;34m,\u001b[0m \u001b[0mevaluate_candidates\u001b[0m\u001b[0;34m)\u001b[0m\u001b[0;34m:\u001b[0m\u001b[0;34m\u001b[0m\u001b[0m\n",
      "\u001b[0;32m~/anaconda3/envs/dataglove/lib/python3.7/site-packages/sklearn/model_selection/_search.py\u001b[0m in \u001b[0;36m_check_param_grid\u001b[0;34m(param_grid)\u001b[0m\n\u001b[1;32m    369\u001b[0m                 raise ValueError(\"Parameter values for parameter ({0}) need \"\n\u001b[1;32m    370\u001b[0m                                  \u001b[0;34m\"to be a sequence(but not a string) or\"\u001b[0m\u001b[0;34m\u001b[0m\u001b[0m\n\u001b[0;32m--> 371\u001b[0;31m                                  \" np.ndarray.\".format(name))\n\u001b[0m\u001b[1;32m    372\u001b[0m \u001b[0;34m\u001b[0m\u001b[0m\n\u001b[1;32m    373\u001b[0m             \u001b[0;32mif\u001b[0m \u001b[0mlen\u001b[0m\u001b[0;34m(\u001b[0m\u001b[0mv\u001b[0m\u001b[0;34m)\u001b[0m \u001b[0;34m==\u001b[0m \u001b[0;36m0\u001b[0m\u001b[0;34m:\u001b[0m\u001b[0;34m\u001b[0m\u001b[0m\n",
      "\u001b[0;31mValueError\u001b[0m: Parameter values for parameter (n_neighbors) need to be a sequence(but not a string) or np.ndarray."
     ]
    }
   ],
   "source": [
    "#------------------k-近邻分类器--------------\n",
    "\n",
    "from sklearn.neighbors import KNeighborsClassifier\n",
    "from sklearn.model_selection import GridSearchCV\n",
    "#调参数\n",
    "knn = KNeighborsClassifier()\n",
    "grid_param={'n_neighbors':10,'algorithm':['auto','ball_tree','brute']}\n",
    "grid=GridSearchCV(knn,grid_param,cv=5)\n",
    "grid.fit(train_x, train_y)\n",
    "print(\"The best parameters are %s with a score of %0.2f\" %(grid.best_params_, grid.best_score_))"
   ]
  },
  {
   "cell_type": "code",
   "execution_count": null,
   "metadata": {},
   "outputs": [],
   "source": [
    "#------------------k-近邻分类器--------------\n",
    "knn = KNeighborsClassifier()  #todo 需要根据上一步来设置模型参数\n",
    "knn.fit(train_x, train_y)\n",
    "pred_test_knn = knn.predict(test_x)\n",
    "print('knn:',format(sm.accuracy_score(test_y, pred_test_knn),'.4f'))\n",
    "print('recall:',format(sm.recall_score(test_y, pred_test_knn,average='macro'),'.4f'))\n",
    "print('F1:',format(sm.f1_score(test_y, pred_test_knn, average='macro'),'.4f'))\n",
    "#统计准确率\n",
    "printPredictionResult(test_y,pred_test_knn)"
   ]
  },
  {
   "cell_type": "code",
   "execution_count": 5,
   "metadata": {
    "ExecuteTime": {
     "end_time": "2021-05-19T09:26:57.637795Z",
     "start_time": "2021-05-19T09:26:57.631180Z"
    }
   },
   "outputs": [
    {
     "ename": "SyntaxError",
     "evalue": "invalid syntax (<ipython-input-5-a58b8ee82f84>, line 5)",
     "output_type": "error",
     "traceback": [
      "\u001b[0;36m  File \u001b[0;32m\"<ipython-input-5-a58b8ee82f84>\"\u001b[0;36m, line \u001b[0;32m5\u001b[0m\n\u001b[0;31m    grid_param={'penalty':['l1', 'l2', 'elasticnet', 'none'],'solver',['newton-cg', 'lbfgs', 'liblinear', 'sag', 'saga'],'C':np.logspace(1, 4, 20)}\u001b[0m\n\u001b[0m                                                                     ^\u001b[0m\n\u001b[0;31mSyntaxError\u001b[0m\u001b[0;31m:\u001b[0m invalid syntax\n"
     ]
    }
   ],
   "source": [
    "#------------------Logistic Regression Classifier--------------\n",
    "#调参数\n",
    "from sklearn.linear_model import LogisticRegression\n",
    "lg = LogisticRegression()\n",
    "grid_param={'penalty':['l1', 'l2', 'elasticnet', 'none'],'solver',['newton-cg', 'lbfgs', 'liblinear', 'sag', 'saga'],'C':np.logspace(1, 4, 20)}\n",
    "grid=GridSearchCV(lg,grid_param,cv=5)\n",
    "grid.fit(train_x, train_y)\n",
    "print(\"The best parameters are %s with a score of %0.2f\" %(grid.best_params_, grid.best_score_))"
   ]
  },
  {
   "cell_type": "code",
   "execution_count": 9,
   "metadata": {
    "ExecuteTime": {
     "end_time": "2021-05-19T09:20:41.973106Z",
     "start_time": "2021-05-19T09:20:41.949525Z"
    }
   },
   "outputs": [
    {
     "ename": "NameError",
     "evalue": "name 'LogisticRegression' is not defined",
     "output_type": "error",
     "traceback": [
      "\u001b[0;31m---------------------------------------------------------------------------\u001b[0m",
      "\u001b[0;31mNameError\u001b[0m                                 Traceback (most recent call last)",
      "\u001b[0;32m<ipython-input-9-c6170963c34b>\u001b[0m in \u001b[0;36m<module>\u001b[0;34m\u001b[0m\n\u001b[1;32m      1\u001b[0m \u001b[0;31m#------------------Logistic Regression Classifier--------------\u001b[0m\u001b[0;34m\u001b[0m\u001b[0;34m\u001b[0m\u001b[0m\n\u001b[0;32m----> 2\u001b[0;31m \u001b[0mlg\u001b[0m \u001b[0;34m=\u001b[0m \u001b[0mLogisticRegression\u001b[0m\u001b[0;34m(\u001b[0m\u001b[0mpenalty\u001b[0m\u001b[0;34m=\u001b[0m\u001b[0;34m'l2'\u001b[0m\u001b[0;34m)\u001b[0m  \u001b[0;31m#todo 需要根据上一步来设置模型参数\u001b[0m\u001b[0;34m\u001b[0m\u001b[0m\n\u001b[0m\u001b[1;32m      3\u001b[0m \u001b[0mlg\u001b[0m\u001b[0;34m.\u001b[0m\u001b[0mfit\u001b[0m\u001b[0;34m(\u001b[0m\u001b[0mtrain_x\u001b[0m\u001b[0;34m,\u001b[0m \u001b[0mtrain_y\u001b[0m\u001b[0;34m)\u001b[0m\u001b[0;34m\u001b[0m\u001b[0m\n\u001b[1;32m      4\u001b[0m \u001b[0mpred_test_lg\u001b[0m \u001b[0;34m=\u001b[0m \u001b[0mlg\u001b[0m\u001b[0;34m.\u001b[0m\u001b[0mpredict\u001b[0m\u001b[0;34m(\u001b[0m\u001b[0mtest_x\u001b[0m\u001b[0;34m)\u001b[0m\u001b[0;34m\u001b[0m\u001b[0m\n\u001b[1;32m      5\u001b[0m \u001b[0mprint\u001b[0m\u001b[0;34m(\u001b[0m\u001b[0;34m'accuracylg:'\u001b[0m\u001b[0;34m,\u001b[0m\u001b[0mformat\u001b[0m\u001b[0;34m(\u001b[0m\u001b[0msm\u001b[0m\u001b[0;34m.\u001b[0m\u001b[0maccuracy_score\u001b[0m\u001b[0;34m(\u001b[0m\u001b[0mtest_y\u001b[0m\u001b[0;34m,\u001b[0m \u001b[0mpred_test_lg\u001b[0m\u001b[0;34m)\u001b[0m\u001b[0;34m,\u001b[0m\u001b[0;34m'.4f'\u001b[0m\u001b[0;34m)\u001b[0m\u001b[0;34m)\u001b[0m\u001b[0;34m\u001b[0m\u001b[0m\n",
      "\u001b[0;31mNameError\u001b[0m: name 'LogisticRegression' is not defined"
     ]
    }
   ],
   "source": [
    "#------------------Logistic Regression Classifier--------------\n",
    "lg = LogisticRegression(penalty='l2')  #todo 需要根据上一步来设置模型参数\n",
    "lg.fit(train_x, train_y)\n",
    "pred_test_lg = lg.predict(test_x)\n",
    "print('accuracylg:',format(sm.accuracy_score(test_y, pred_test_lg),'.4f'))\n",
    "printPredictionResult(test_y,pred_test_lg)"
   ]
  },
  {
   "cell_type": "code",
   "execution_count": null,
   "metadata": {},
   "outputs": [],
   "source": [
    "#------------------Random Forest Classifier--------------\n",
    "from sklearn.ensemble import RandomForestClassifier\n",
    "RFC = RandomForestClassifier()\n",
    "\n",
    "param_dist = {\"max_depth\": [3, None],\n",
    "              \"max_features\": randint(1, 11),\n",
    "              \"min_samples_split\": randint(2, 11),\n",
    "              \"bootstrap\": [True, False],\n",
    "              \"criterion\": [\"gini\", \"entropy\"]}\n",
    "rng = np.random.RandomState(0)\n",
    "grid = HalvingRandomSearchCV(estimator=RFC, param_distributions=param_dist,\n",
    "                            factor=2, random_state=rng)\n",
    "grid.fit(train_x, train_y)\n",
    "print(\"The best parameters are %s with a score of %0.2f\" %(grid.best_params_, grid.best_score_))"
   ]
  },
  {
   "cell_type": "code",
   "execution_count": null,
   "metadata": {
    "ExecuteTime": {
     "end_time": "2021-04-13T13:17:33.444190Z",
     "start_time": "2021-04-13T13:17:33.395787Z"
    }
   },
   "outputs": [],
   "source": [
    "#------------------Random Forest Classifier--------------\n",
    "RFC = RandomForestClassifier(n_estimators=8)   #todo 需要根据上一步来设置模型参数\n",
    "RFC.fit(train_x, train_y)\n",
    "pred_test_rfc = RFC.predict(test_x)\n",
    "printPredictionResult(test_y,pred_test_rfc)\n"
   ]
  },
  {
   "cell_type": "code",
   "execution_count": null,
   "metadata": {},
   "outputs": [],
   "source": [
    "#------------------DecisionTreeClassifier--------------\n",
    "from sklearn import tree\n",
    "param = [{'criterion':['gini'],'max_depth':[30,50,60,100],'min_samples_leaf':[2,3,5,10],'min_impurity_decrease':[0.1,0.2,0.5]},\n",
    "         {'criterion':['gini','entropy']},\n",
    "         {'max_depth': [30,60,100], 'min_impurity_decrease':[0.1,0.2,0.5]}]\n",
    "grid = GridSearchCV(tree.DecisionTreeClassifier(),param_grid=param,cv=6)\n",
    "grid.fit(train_x, train_y)\n",
    "print(\"The best parameters are %s with a score of %0.2f\" %(grid.best_params_, grid.best_score_))"
   ]
  },
  {
   "cell_type": "code",
   "execution_count": null,
   "metadata": {
    "ExecuteTime": {
     "end_time": "2021-04-13T13:17:35.884023Z",
     "start_time": "2021-04-13T13:17:35.858238Z"
    }
   },
   "outputs": [],
   "source": [
    "#------------------DecisionTreeClassifier--------------\n",
    "tre = tree.DecisionTreeClassifier()   #todo 需要根据上一步来设置模型参数\n",
    "tre.fit(train_x, train_y)\n",
    "pred_test_tre = tre.predict(test_x)\n",
    "printPredictionResult(test_y,pred_test_tre)"
   ]
  },
  {
   "cell_type": "code",
   "execution_count": 9,
   "metadata": {
    "ExecuteTime": {
     "end_time": "2021-05-21T04:46:07.680859Z",
     "start_time": "2021-05-21T04:45:54.197399Z"
    }
   },
   "outputs": [
    {
     "name": "stdout",
     "output_type": "stream",
     "text": [
      "The best parameters are {'activation': 'logistic', 'alpha': 0.01, 'hidden_layer_sizes': (256,)} with a score of 0.94\n"
     ]
    }
   ],
   "source": [
    "#------------------MLPClassifier--------------\n",
    "from sklearn import neural_network\n",
    "mlp=neural_network.MLPClassifier(max_iter=1000)\n",
    "\n",
    "param_grid = {\n",
    "    'hidden_layer_sizes':[(10, ), (20, ), (256, )],\n",
    "    'activation':['logistic', 'tanh', 'relu'],\n",
    "    'alpha':[0.001, 0.01, 0.1, 0.4, 1]\n",
    "}\n",
    "\n",
    "grid = ms.GridSearchCV(estimator=mlp,\n",
    "                                   param_grid=param_grid,\n",
    "                                   scoring='accuracy', # 打分\n",
    "                                   #cv=gkf.split(X,y,groups), # cv 方法\n",
    "                                   return_train_score=True, # 默认不返回 train 的score\n",
    "                                   refit=True, # 默认为 True, 用最好的模型+全量数据再次训练，用 gscv.best_estimator_ 获取最好模型\n",
    "                                   n_jobs=-1)\n",
    "grid.fit(train_x, train_y)\n",
    "print(\"The best parameters are %s with a score of %0.2f\" %(grid.best_params_, grid.best_score_))\n"
   ]
  },
  {
   "cell_type": "code",
   "execution_count": 10,
   "metadata": {
    "ExecuteTime": {
     "end_time": "2021-05-21T04:46:13.349880Z",
     "start_time": "2021-05-21T04:46:12.628969Z"
    }
   },
   "outputs": [
    {
     "name": "stdout",
     "output_type": "stream",
     "text": [
      "0.5474579547651266\n",
      "分类报告：\n",
      "              precision    recall  f1-score   support\n",
      "\n",
      "         1.0       1.00      0.26      0.41       543\n",
      "         2.0       0.06      0.18      0.09       512\n",
      "         3.0       1.00      0.24      0.38       543\n",
      "         4.0       0.40      1.00      0.57       543\n",
      "         5.0       1.00      1.00      1.00       498\n",
      "         6.0       1.00      1.00      1.00       543\n",
      "         7.0       1.00      1.00      1.00       543\n",
      "         8.0       0.00      0.00      0.00       543\n",
      "         9.0       0.00      0.00      0.00       543\n",
      "        10.0       1.00      0.95      0.98       362\n",
      "\n",
      "    accuracy                           0.55      5173\n",
      "   macro avg       0.65      0.56      0.54      5173\n",
      "weighted avg       0.63      0.55      0.53      5173\n",
      "\n"
     ]
    }
   ],
   "source": [
    "#------------------MLPClassifier--------------\n",
    "mlp=neural_network.MLPClassifier(max_iter=1000) #todo 需要根据上一步来设置模型参数\n",
    "mlp.fit(train_x, train_y)\n",
    "pred_y = mlp.predict(test_x)\n",
    "printPredictionResult(test_y,pred_y)"
   ]
  },
  {
   "cell_type": "code",
   "execution_count": null,
   "metadata": {},
   "outputs": [],
   "source": [
    "#------------------XGBClassifier--------------\n",
    "from xgboost import XGBClassifier\n",
    "#分类器使用 xgboost\n",
    "clf1 = xgb.XGBClassifier()\n",
    " \n",
    "#设定网格搜索的xgboost参数搜索范围，值搜索XGBoost的主要6个参数\n",
    "param_dist = {\n",
    "        'n_estimators':range(80,200,4),\n",
    "        'max_depth':range(2,15,1),\n",
    "        'learning_rate':np.linspace(0.01,2,20),\n",
    "        'subsample':np.linspace(0.7,0.9,20),\n",
    "        'colsample_bytree':np.linspace(0.5,0.98,10),\n",
    "        'min_child_weight':range(1,9,1)\n",
    "        }\n",
    " \n",
    "#GridSearchCV参数说明，clf1设置训练的学习器\n",
    "#param_dist字典类型，放入参数搜索范围\n",
    "#scoring = 'neg_log_loss'，精度评价方式设定为“neg_log_loss“\n",
    "#n_iter=300，训练300次，数值越大，获得的参数精度越大，但是搜索时间越长\n",
    "#n_jobs = -1，使用所有的CPU进行训练，默认为1，使用1个CPU\n",
    "grid = GridSearchCV(clf1,param_dist,cv = 3,scoring = 'neg_log_loss',n_iter=300,n_jobs = -1)\n",
    "grid.fit(train_x, train_y)\n",
    "print(\"The best parameters are %s with a score of %0.2f\" %(grid.best_params_, grid.best_score_))"
   ]
  },
  {
   "cell_type": "code",
   "execution_count": null,
   "metadata": {
    "ExecuteTime": {
     "end_time": "2021-04-13T13:17:58.642803Z",
     "start_time": "2021-04-13T13:17:58.585838Z"
    }
   },
   "outputs": [],
   "source": [
    "#------------------XGBClassifier--------------\n",
    "mo = XGBClassifier()   #todo 需要根据上一步来设置模型参数\n",
    "mo.fit(train_x, train_y)\n",
    "pred_y = mo.predict(test_x)\n",
    "printPredictionResult(test_y,pred_y)"
   ]
  },
  {
   "cell_type": "code",
   "execution_count": null,
   "metadata": {
    "ExecuteTime": {
     "end_time": "2021-04-13T13:18:37.505325Z",
     "start_time": "2021-04-13T13:18:37.253381Z"
    }
   },
   "outputs": [],
   "source": [
    "from sklearn.model_selection import RandomizedSearchCV\n",
    "\n",
    "RF = RandomForestRegressor()\n",
    "#设置初始的参数空间\n",
    "n_estimators = [int(x) for x in np.linspace(start = 200,stop = 2000,num = 10)]\n",
    "min_samples_split = [2,5,10]\n",
    "min_samples_leaf = [1,2,4]\n",
    "max_depth = [5,8,10]\n",
    "max_features = ['auto','sqrt']\n",
    "bootstrap = [True,False]\n",
    "#将参数整理为字典格式\n",
    "random_params_group = {'n_estimators':n_estimators,\n",
    "                      'min_samples_split':min_samples_split,\n",
    "                      'min_samples_leaf':min_samples_leaf,\n",
    "                      'max_depth':max_depth,\n",
    "                      'max_features':max_features,\n",
    "                      'bootstrap':bootstrap}\n",
    "#建立RandomizedSearchCV模型\n",
    "grid =RandomizedSearchCV(RF,param_distributions = random_params_group,n_iter = 100,scoring = 'neg_mean_squared_error',verbose = 2,n_jobs = -1,cv = 3,random_state = 0)\n",
    "#使用该模型训练数据\n",
    "grid.fit(train_x, train_y)\n",
    "print(\"The best parameters are %s with a score of %0.2f\" %(grid.best_params_, grid.best_score_))"
   ]
  },
  {
   "cell_type": "code",
   "execution_count": null,
   "metadata": {},
   "outputs": [],
   "source": [
    "#使用网格搜索进行细化处理\n",
    "from sklearn.model_selection import GridSearchCV\n",
    "import time\n",
    "\n",
    "param_grid = {'n_estimators':[1100,1200,1300],\n",
    "             'min_samples_split':[4,5,6,7],\n",
    "             'min_samples_leaf':[3,4,5],\n",
    "             'max_depth':[4,5,6,7]}\n",
    "randomForest = RandomForestRegressor()\n",
    "grid = GridSearchCV(randomForest,param_grid = param_grid,scoring = 'neg_mean_squared_error',cv = 3,n_jobs = -1)\n",
    "start_time = time.time()\n",
    "grid.fit(train_x, train_y)\n",
    "end_time = time.time()\n",
    "print('模型训练用时:{}'.format(end_time - start_time))\n",
    "print(\"The best parameters are %s with a score of %0.2f\" %(grid.best_params_, grid.best_score_))"
   ]
  },
  {
   "cell_type": "code",
   "execution_count": null,
   "metadata": {},
   "outputs": [],
   "source": [
    "randomForest = RandomForestRegressor() #todo 需要根据上一步来设置模型参数\n",
    "randomForest.fit(train_x, train_y)\n",
    "pred_y = mo.predict(test_x)\n",
    "printPredictionResult(test_y,pred_y)"
   ]
  },
  {
   "cell_type": "code",
   "execution_count": null,
   "metadata": {
    "ExecuteTime": {
     "end_time": "2021-04-13T13:24:41.663844Z",
     "start_time": "2021-04-13T13:24:41.617909Z"
    },
    "scrolled": true
   },
   "outputs": [],
   "source": [
    "model = svm.SVC(kernel='linear', C=0.58)\n",
    "model.fit(train_x, train_y)\n",
    "pred_test_y = model.predict(test_x)\n",
    "\n",
    "#保存模型\n",
    "file = r'../../modefiles/svm_no_yes.joblib'\n",
    "joblib.dump(model,file)\n",
    "# 读取模型\n",
    "svm_model = joblib.load(file)\n",
    "pred_test_y = svm_model.predict(test_x)\n",
    "#统计准确率\n",
    "print(sm.accuracy_score(test_y, pred_test_y))  #https://scikit-learn.org/stable/modules/generated/sklearn.metrics.accuracy_score.html\n",
    "bg = sm.classification_report(test_y, pred_test_y) #y_true, y_pred,Build a text report showing the main classification metrics.\n",
    "print('分类报告：', bg, sep='\\n')\n",
    "# 列表左边的一列为分类的标签名；support列为每个标签的出现次数\n",
    "# avg / total行为各列的均值（support列为总和）\n",
    "# macro , weighted 介绍 https://www.cnblogs.com/laozhanghahaha/p/12499979.html\n",
    "#保存混淆矩阵\n",
    "#def confusion_matrix(pred_test_y):\n",
    "#     coonfusion_plot = [[0]*10 for i in range(10)]\n",
    "#     for i in range(10):\n",
    "#         for j in range(30):\n",
    "#             coonfusion_plot[i][pred_test_y[i*30+j]] += 1\n",
    "#     return coonfusion_plot\n",
    "\n",
    "# pred_test = confusion_matrix(pred_test_y)\n",
    "# f_confusion = r'../../modefiles/confusion_matrix_no_yes.txt'\n",
    "# with open(f_confusion, 'w') as fl3:\n",
    "#     fl3.write(str(pred_test))"
   ]
  },
  {
   "cell_type": "code",
   "execution_count": null,
   "metadata": {},
   "outputs": [],
   "source": [
    "# # 【6】 GBDT(Gradient Boosting Decision Tree) Classifier\n",
    "# # 梯度增强决策树分类器\n",
    "from sklearn.ensemble import GradientBoostingClassifier\n",
    "\n",
    "GBDT = GradientBoostingClassifier()\n",
    "GBDT.fit(train_x, train_y)\n",
    "pred_test_GBDT = GBDT.predict(test_x)\n",
    "print('accuracyGBDT:',format(sm.accuracy_score(test_y, pred_test_GBDT),'.4f'))\n",
    "print('recall:',format(sm.recall_score(test_y, pred_test_GBDT,average='macro'),'.4f'))\n",
    "print('F1:',format(sm.f1_score(test_y, pred_test_GBDT, average='macro'),'.4f'))\n",
    "\n",
    "# # 伯努利贝叶斯分类器\n",
    "from sklearn.naive_bayes import BernoulliNB\n",
    "\n",
    "Bernoulli = BernoulliNB()\n",
    "Bernoulli.fit(train_x, train_y)\n",
    "pred_test_BernoulliNB = Gaussian.predict(test_x)\n",
    "print('BernoulliNB:',format(sm.accuracy_score(test_y, pred_test_BernoulliNB),'.4f'))\n",
    "\n",
    "# # 多项式贝叶斯分类器\n",
    "from sklearn.naive_bayes import MultinomialNB\n",
    "\n",
    "Multinomial = MultinomialNB()\n",
    "Multinomial.fit(train_x, train_y)\n",
    "pred_test_Multinomial = Multinomial.predict(test_x)\n",
    "print('MultinomialNB:',format(sm.accuracy_score(test_y, pred_test_Multinomial),'.4f'))\n",
    "\n",
    "# 【7】 GaussianNB\n",
    "# # 高斯贝叶斯分类器\n",
    "from sklearn.naive_bayes import GaussianNB\n",
    "\n",
    "Gaussian = GaussianNB()\n",
    "Gaussian.fit(train_x, train_y)\n",
    "pred_test_Gaussian = Gaussian.predict(test_x)\n",
    "print('accuracyGaussian:',format(sm.accuracy_score(test_y, pred_test_Gaussian),'.4f'))\n",
    "print('recall:',format(sm.recall_score(test_y, pred_test_Gaussian,average='macro'),'.4f'))\n",
    "print('F1:',format(sm.f1_score(test_y, pred_test_Gaussian, average='macro'),'.4f'))"
   ]
  }
 ],
 "metadata": {
  "kernelspec": {
   "display_name": "Python 3",
   "language": "python",
   "name": "python3"
  },
  "language_info": {
   "codemirror_mode": {
    "name": "ipython",
    "version": 3
   },
   "file_extension": ".py",
   "mimetype": "text/x-python",
   "name": "python",
   "nbconvert_exporter": "python",
   "pygments_lexer": "ipython3",
   "version": "3.8.5"
  },
  "toc": {
   "base_numbering": 1,
   "nav_menu": {},
   "number_sections": true,
   "sideBar": true,
   "skip_h1_title": false,
   "title_cell": "Table of Contents",
   "title_sidebar": "Contents",
   "toc_cell": false,
   "toc_position": {},
   "toc_section_display": true,
   "toc_window_display": false
  }
 },
 "nbformat": 4,
 "nbformat_minor": 2
}
