{
 "cells": [
  {
   "cell_type": "code",
   "execution_count": null,
   "id": "020aaaba",
   "metadata": {
    "ExecuteTime": {
     "end_time": "2022-10-08T02:52:02.736533Z",
     "start_time": "2022-10-08T02:52:02.629054Z"
    }
   },
   "outputs": [],
   "source": [
    "\n",
    "import json\n",
    "import pickle\n",
    "import torch\n",
    "import torchvision\n",
    "import os\n",
    "import numpy as np\n",
    "import torch.nn as nn\n",
    "import torch.optim as optim\n",
    "import matplotlib.pyplot as plt\n",
    "import sys\n",
    "sys.path.append('/home/iot/jupyter/root_dir/liudongdong/src/ai/util')\n",
    "from torch.optim.lr_scheduler import StepLR, ReduceLROnPlateau\n",
    "from torch.nn.functional import gelu as gelu\n",
    "from torch.utils.data import DataLoader\n",
    "\n",
    "from util.train_util import train, trainlog\n",
    "\n",
    "from util.config import *\n",
    "from util.FlexDataRead import DataReadTest\n",
    "from model.MLPmixer import MLPMixer\n",
    "from util.transformHandle import *\n",
    "if not os.path.exists(Config.SAVEDIR):\n",
    "    os.makedirs(Config.SAVEDIR)\n",
    "logfile = '%s/trainlog.log' % Config.SAVEDIR\n",
    "trainlog(logfile)\n",
    "data_set = {}\n",
    "data_set['test']=DataReadTest(r\"../../data/flexData/chars/charFlex/26char\",\"w\",fivePoint)\n"
   ]
  },
  {
   "cell_type": "code",
   "execution_count": 2,
   "id": "1f178ce3",
   "metadata": {
    "ExecuteTime": {
     "end_time": "2022-10-08T03:14:54.870800Z",
     "start_time": "2022-10-08T03:14:52.687466Z"
    }
   },
   "outputs": [
    {
     "name": "stdout",
     "output_type": "stream",
     "text": [
      "label: {'A': 0, 'B': 1, 'C': 2, 'D': 3, 'E': 4, 'F': 5, 'G': 6, 'H': 7, 'I': 8, 'J': 9, 'K': 10, 'L': 11, 'M': 12, 'N': 13, 'O': 14, 'P': 15, 'Q': 16, 'R': 17, 'S': 18, 'T': 19, 'U': 20, 'V': 21, 'W': 22, 'X': 23, 'Y': 24, 'Z': 25}\n",
      "filename: /home/iot/jupyter/root_dir/liudongdong/data/flexData/chars/charFlex/7days/C/1629373390.044407.txt label 2 \n",
      "filename: /home/iot/jupyter/root_dir/liudongdong/data/flexData/chars/charFlex/7days/C/1629373437.905295.txt label 2 \n",
      "filename: /home/iot/jupyter/root_dir/liudongdong/data/flexData/chars/charFlex/7days/C/1629373371.1589952.txt label 2 \n",
      "filename: /home/iot/jupyter/root_dir/liudongdong/data/flexData/chars/charFlex/7days/C/1629373406.3248882.txt label 2 \n",
      "filename: /home/iot/jupyter/root_dir/liudongdong/data/flexData/chars/charFlex/7days/C/1629373454.4854934.txt label 2 \n",
      "filename: /home/iot/jupyter/root_dir/liudongdong/data/flexData/chars/charFlex/7days/C/1629373467.9557772.txt label 2 \n",
      "filename: /home/iot/jupyter/root_dir/liudongdong/data/flexData/chars/charFlex/7days/C/1629373421.187969.txt label 2 \n",
      "filename: /home/iot/jupyter/root_dir/liudongdong/data/flexData/chars/charFlex/7days/A/1629373174.9253013.txt label 0 \n",
      "filename: /home/iot/jupyter/root_dir/liudongdong/data/flexData/chars/charFlex/7days/A/1629373112.047801.txt label 0 \n",
      "filename: /home/iot/jupyter/root_dir/liudongdong/data/flexData/chars/charFlex/7days/A/1629373208.2372983.txt label 0 \n",
      "filename: /home/iot/jupyter/root_dir/liudongdong/data/flexData/chars/charFlex/7days/A/1629373153.8627765.txt label 0 \n",
      "filename: /home/iot/jupyter/root_dir/liudongdong/data/flexData/chars/charFlex/7days/A/1629373092.0717685.txt label 0 \n",
      "filename: /home/iot/jupyter/root_dir/liudongdong/data/flexData/chars/charFlex/7days/A/1629373133.5725815.txt label 0 \n",
      "filename: /home/iot/jupyter/root_dir/liudongdong/data/flexData/chars/charFlex/7days/A/1629373223.4042244.txt label 0 \n",
      "filename: /home/iot/jupyter/root_dir/liudongdong/data/flexData/chars/charFlex/7days/B/1629373264.1305943.txt label 1 \n",
      "filename: /home/iot/jupyter/root_dir/liudongdong/data/flexData/chars/charFlex/7days/B/1629373317.7190268.txt label 1 \n",
      "filename: /home/iot/jupyter/root_dir/liudongdong/data/flexData/chars/charFlex/7days/B/1629373298.979012.txt label 1 \n",
      "filename: /home/iot/jupyter/root_dir/liudongdong/data/flexData/chars/charFlex/7days/B/1629373246.7974458.txt label 1 \n",
      "filename: /home/iot/jupyter/root_dir/liudongdong/data/flexData/chars/charFlex/7days/B/1629373282.7169266.txt label 1 \n",
      "filename: /home/iot/jupyter/root_dir/liudongdong/data/flexData/chars/charFlex/7days/B/1629373332.7441726.txt label 1 \n",
      "filename: /home/iot/jupyter/root_dir/liudongdong/data/flexData/chars/charFlex/7days/B/1629373348.2292235.txt label 1 \n",
      "filename: /home/iot/jupyter/root_dir/liudongdong/data/flexData/chars/charFlex/7days/D/1629373494.3731718.txt label 3 \n",
      "filename: /home/iot/jupyter/root_dir/liudongdong/data/flexData/chars/charFlex/7days/D/1629373572.488194.txt label 3 \n",
      "filename: /home/iot/jupyter/root_dir/liudongdong/data/flexData/chars/charFlex/7days/D/1629373531.600231.txt label 3 \n",
      "filename: /home/iot/jupyter/root_dir/liudongdong/data/flexData/chars/charFlex/7days/D/1629373594.0136235.txt label 3 \n",
      "filename: /home/iot/jupyter/root_dir/liudongdong/data/flexData/chars/charFlex/7days/D/1629373612.7574856.txt label 3 \n",
      "filename: /home/iot/jupyter/root_dir/liudongdong/data/flexData/chars/charFlex/7days/D/1629373554.5206027.txt label 3 \n",
      "filename: /home/iot/jupyter/root_dir/liudongdong/data/flexData/chars/charFlex/7days/D/1629373515.652166.txt label 3 \n",
      "Trainable Parameters: 1.071M\n",
      "(2000, 1) (2000, 1)\n",
      "(3000, 1) (3000, 1)\n",
      "(4000, 1) (4000, 1)\n",
      "(5000, 1) (5000, 1)\n",
      "(5061, 1) (5061, 1)\n",
      "(5061, 1) (5061, 1)\n",
      "分类报告：\n",
      "              precision    recall  f1-score   support\n",
      "\n",
      "           0       1.00      1.00      1.00      1267\n",
      "           1       1.00      0.00      0.01      1267\n",
      "           2       1.00      0.58      0.74      1260\n",
      "           3       1.00      0.85      0.92      1267\n",
      "           6       0.00      0.00      0.00         0\n",
      "          13       0.00      0.00      0.00         0\n",
      "          14       0.00      0.00      0.00         0\n",
      "          19       0.00      0.00      0.00         0\n",
      "          20       0.00      0.00      0.00         0\n",
      "\n",
      "    accuracy                           0.61      5061\n",
      "   macro avg       0.44      0.27      0.30      5061\n",
      "weighted avg       1.00      0.61      0.67      5061\n",
      "\n"
     ]
    },
    {
     "name": "stderr",
     "output_type": "stream",
     "text": [
      "/home/iot/.local/lib/python3.7/site-packages/sklearn/metrics/_classification.py:1318: UndefinedMetricWarning: Recall and F-score are ill-defined and being set to 0.0 in labels with no true samples. Use `zero_division` parameter to control this behavior.\n",
      "  _warn_prf(average, modifier, msg_start, len(result))\n",
      "/home/iot/.local/lib/python3.7/site-packages/sklearn/metrics/_classification.py:1318: UndefinedMetricWarning: Recall and F-score are ill-defined and being set to 0.0 in labels with no true samples. Use `zero_division` parameter to control this behavior.\n",
      "  _warn_prf(average, modifier, msg_start, len(result))\n",
      "/home/iot/.local/lib/python3.7/site-packages/sklearn/metrics/_classification.py:1318: UndefinedMetricWarning: Recall and F-score are ill-defined and being set to 0.0 in labels with no true samples. Use `zero_division` parameter to control this behavior.\n",
      "  _warn_prf(average, modifier, msg_start, len(result))\n"
     ]
    }
   ],
   "source": [
    "#统计不同天数识别准确率\n",
    "\n",
    "import json\n",
    "import pickle\n",
    "import torch\n",
    "import torchvision\n",
    "import os\n",
    "import numpy as np\n",
    "import torch.nn as nn\n",
    "import torch.optim as optim\n",
    "import matplotlib.pyplot as plt\n",
    "import sys\n",
    "sys.path.append('/home/iot/jupyter/root_dir/liudongdong/src/ai/util')\n",
    "from torch.optim.lr_scheduler import StepLR, ReduceLROnPlateau\n",
    "from torch.nn.functional import gelu as gelu\n",
    "from torch.utils.data import DataLoader\n",
    "\n",
    "from util.train_util import train, trainlog\n",
    "\n",
    "from util.config import *\n",
    "from util.FlexDataRead import DataReadTest\n",
    "from model.MLPmixer import MLPMixer\n",
    "from util.transformHandle import *\n",
    "if not os.path.exists(Config.SAVEDIR):\n",
    "    os.makedirs(Config.SAVEDIR)\n",
    "logfile = '%s/trainlog.log' % Config.SAVEDIR\n",
    "trainlog(logfile)\n",
    "data_set = {}\n",
    "data_set['test']=DataReadTest(r\"/home/iot/jupyter/root_dir/liudongdong/data/flexData/chars/charFlex/7days\",\"w\",fivePoint)\n",
    "dataloader={}\n",
    "dataloader['test'] = DataLoader(dataset=data_set['test'], batch_size=1000, shuffle=True)\n",
    "#修改下这里\n",
    "mlp_mixer = MLPMixer(in_channels=5, image_size=5, num_patch=5, num_classes=CharConfig5Point.NUM_CLASS,\n",
    "                     dim=128, depth=4, token_dim=256, channel_dim=1024)\n",
    "parameters = filter(lambda p: p.requires_grad, mlp_mixer.parameters())\n",
    "parameters = sum([np.prod(p.size()) for p in parameters]) / 1_000_000\n",
    "print('Trainable Parameters: %.3fM' % parameters)\n",
    "mlp_mixer.load_state_dict(torch.load('/home/iot/jupyter/root_dir/liudongdong/src/ai/char/output/CharConfig5Point/weights-9-21927-[0.8056].pth'))\n",
    "outputs=[]\n",
    "ALLpreds=[]\n",
    "ALLlabels=[]\n",
    "for batch_cnt_val, data_val in enumerate(dataloader['test']):\n",
    "    inputs,labels = data_val\n",
    "    outputs=mlp_mixer(inputs)\n",
    "    _, preds = torch.max(outputs, 1)\n",
    "    preds=np.reshape(preds,(-1,1))\n",
    "    labels=np.reshape(labels,(-1,1))\n",
    "    if len(ALLpreds)==0:\n",
    "        ALLpreds=preds\n",
    "        ALLlabels=labels\n",
    "        #print(ALLpreds.shape,ALLlabels.shape)\n",
    "    else:\n",
    "        #print(ALLpreds.shape,ALLlabels.shape,preds.shape,labels.shape)\n",
    "        ALLpreds=np.row_stack((ALLpreds,preds))\n",
    "        ALLlabels=np.row_stack((ALLlabels,labels))\n",
    "        print(ALLlabels.shape,ALLpreds.shape)\n",
    "        \n",
    "print(ALLpreds.shape,ALLlabels.shape)\n",
    "from sklearn.metrics import classification_report\n",
    "bg =classification_report( ALLlabels,ALLpreds)\n",
    "print('分类报告：', bg, sep='\\n')\n",
    "ALLpreds=np.column_stack((ALLlabels,ALLpreds))\n",
    "np.savetxt(\"testingResult.txt\", ALLpreds,fmt='%d',delimiter=',')"
   ]
  },
  {
   "cell_type": "code",
   "execution_count": 12,
   "id": "457cfd20",
   "metadata": {
    "ExecuteTime": {
     "end_time": "2021-06-04T06:07:33.167888Z",
     "start_time": "2021-06-04T06:07:33.163740Z"
    }
   },
   "outputs": [],
   "source": [
    "# 统计不同手朝向运行准确率\n",
    "import json\n",
    "import pickle\n",
    "import torch\n",
    "import torchvision\n",
    "import os\n",
    "import numpy as np\n",
    "import torch.nn as nn\n",
    "import torch.optim as optim\n",
    "import matplotlib.pyplot as plt\n",
    "import sys\n",
    "sys.path.append('/home/iot/jupyter/root_dir/liudongdong/src/ai/util')\n",
    "from torch.optim.lr_scheduler import StepLR, ReduceLROnPlateau\n",
    "from torch.nn.functional import gelu as gelu\n",
    "from torch.utils.data import DataLoader\n",
    "\n",
    "from util.train_util import train, trainlog\n",
    "\n",
    "from util.config import *\n",
    "from util.FlexDataRead import DataReadTest\n",
    "from model.MLPmixer import MLPMixer\n",
    "from util.transformHandle import *\n",
    "if not os.path.exists(Config.SAVEDIR):\n",
    "    os.makedirs(Config.SAVEDIR)\n",
    "logfile = '%s/trainlog.log' % Config.SAVEDIR\n",
    "trainlog(logfile)\n",
    "data_set = {}\n",
    "data_set['test']=DataReadTest(r\"/home/iot/jupyter/root_dir/liudongdong/data/flexData/digit/digitFlex_direction\",\"d\",fivePoint)\n",
    "dataloader={}\n",
    "dataloader['test'] = DataLoader(dataset=data_set['test'], batch_size=100, shuffle=True)"
   ]
  },
  {
   "cell_type": "code",
   "execution_count": 16,
   "id": "2da89c15",
   "metadata": {
    "ExecuteTime": {
     "end_time": "2022-10-08T04:45:09.060353Z",
     "start_time": "2022-10-08T04:45:04.154407Z"
    }
   },
   "outputs": [
    {
     "name": "stdout",
     "output_type": "stream",
     "text": [
      "label: {'one': 0, 'two': 1, 'three': 2, 'four': 3, 'five': 4, 'six': 5, 'seven': 6, 'eight': 7, 'nine': 8}\n",
      "filename: /home/iot/jupyter/root_dir/liudongdong/data/flexData/digit/digitFlex_7days/five/1.txt label 4 \n",
      "filename: /home/iot/jupyter/root_dir/liudongdong/data/flexData/digit/digitFlex_7days/five/3.txt label 4 \n",
      "filename: /home/iot/jupyter/root_dir/liudongdong/data/flexData/digit/digitFlex_7days/five/7.txt label 4 \n",
      "filename: /home/iot/jupyter/root_dir/liudongdong/data/flexData/digit/digitFlex_7days/five/5.txt label 4 \n",
      "filename: /home/iot/jupyter/root_dir/liudongdong/data/flexData/digit/digitFlex_7days/five/2.txt label 4 \n",
      "filename: /home/iot/jupyter/root_dir/liudongdong/data/flexData/digit/digitFlex_7days/five/6.txt label 4 \n",
      "filename: /home/iot/jupyter/root_dir/liudongdong/data/flexData/digit/digitFlex_7days/five/4.txt label 4 \n",
      "filename: /home/iot/jupyter/root_dir/liudongdong/data/flexData/digit/digitFlex_7days/nine/1.txt label 8 \n",
      "filename: /home/iot/jupyter/root_dir/liudongdong/data/flexData/digit/digitFlex_7days/nine/3.txt label 8 \n",
      "filename: /home/iot/jupyter/root_dir/liudongdong/data/flexData/digit/digitFlex_7days/nine/7.txt label 8 \n",
      "filename: /home/iot/jupyter/root_dir/liudongdong/data/flexData/digit/digitFlex_7days/nine/5.txt label 8 \n",
      "filename: /home/iot/jupyter/root_dir/liudongdong/data/flexData/digit/digitFlex_7days/nine/2.txt label 8 \n",
      "filename: /home/iot/jupyter/root_dir/liudongdong/data/flexData/digit/digitFlex_7days/nine/6.txt label 8 \n",
      "filename: /home/iot/jupyter/root_dir/liudongdong/data/flexData/digit/digitFlex_7days/nine/4.txt label 8 \n",
      "filename: /home/iot/jupyter/root_dir/liudongdong/data/flexData/digit/digitFlex_7days/two/1.txt label 1 \n",
      "filename: /home/iot/jupyter/root_dir/liudongdong/data/flexData/digit/digitFlex_7days/two/3.txt label 1 \n",
      "filename: /home/iot/jupyter/root_dir/liudongdong/data/flexData/digit/digitFlex_7days/two/7.txt label 1 \n",
      "filename: /home/iot/jupyter/root_dir/liudongdong/data/flexData/digit/digitFlex_7days/two/5.txt label 1 \n",
      "filename: /home/iot/jupyter/root_dir/liudongdong/data/flexData/digit/digitFlex_7days/two/2.txt label 1 \n",
      "filename: /home/iot/jupyter/root_dir/liudongdong/data/flexData/digit/digitFlex_7days/two/6.txt label 1 \n",
      "filename: /home/iot/jupyter/root_dir/liudongdong/data/flexData/digit/digitFlex_7days/two/4.txt label 1 \n",
      "filename: /home/iot/jupyter/root_dir/liudongdong/data/flexData/digit/digitFlex_7days/eight/1.txt label 7 \n",
      "filename: /home/iot/jupyter/root_dir/liudongdong/data/flexData/digit/digitFlex_7days/eight/3.txt label 7 \n",
      "filename: /home/iot/jupyter/root_dir/liudongdong/data/flexData/digit/digitFlex_7days/eight/7.txt label 7 \n",
      "filename: /home/iot/jupyter/root_dir/liudongdong/data/flexData/digit/digitFlex_7days/eight/5.txt label 7 \n",
      "filename: /home/iot/jupyter/root_dir/liudongdong/data/flexData/digit/digitFlex_7days/eight/2.txt label 7 \n",
      "filename: /home/iot/jupyter/root_dir/liudongdong/data/flexData/digit/digitFlex_7days/eight/6.txt label 7 \n",
      "filename: /home/iot/jupyter/root_dir/liudongdong/data/flexData/digit/digitFlex_7days/eight/4.txt label 7 \n",
      "filename: /home/iot/jupyter/root_dir/liudongdong/data/flexData/digit/digitFlex_7days/seven/1.txt label 6 \n",
      "filename: /home/iot/jupyter/root_dir/liudongdong/data/flexData/digit/digitFlex_7days/seven/3.txt label 6 \n",
      "filename: /home/iot/jupyter/root_dir/liudongdong/data/flexData/digit/digitFlex_7days/seven/7.txt label 6 \n",
      "filename: /home/iot/jupyter/root_dir/liudongdong/data/flexData/digit/digitFlex_7days/seven/5.txt label 6 \n",
      "filename: /home/iot/jupyter/root_dir/liudongdong/data/flexData/digit/digitFlex_7days/seven/2.txt label 6 \n",
      "filename: /home/iot/jupyter/root_dir/liudongdong/data/flexData/digit/digitFlex_7days/seven/6.txt label 6 \n",
      "filename: /home/iot/jupyter/root_dir/liudongdong/data/flexData/digit/digitFlex_7days/seven/4.txt label 6 \n",
      "filename: /home/iot/jupyter/root_dir/liudongdong/data/flexData/digit/digitFlex_7days/six/1.txt label 5 \n",
      "filename: /home/iot/jupyter/root_dir/liudongdong/data/flexData/digit/digitFlex_7days/six/3.txt label 5 \n",
      "filename: /home/iot/jupyter/root_dir/liudongdong/data/flexData/digit/digitFlex_7days/six/7.txt label 5 \n",
      "filename: /home/iot/jupyter/root_dir/liudongdong/data/flexData/digit/digitFlex_7days/six/5.txt label 5 \n",
      "filename: /home/iot/jupyter/root_dir/liudongdong/data/flexData/digit/digitFlex_7days/six/2.txt label 5 \n",
      "filename: /home/iot/jupyter/root_dir/liudongdong/data/flexData/digit/digitFlex_7days/six/6.txt label 5 \n",
      "filename: /home/iot/jupyter/root_dir/liudongdong/data/flexData/digit/digitFlex_7days/six/4.txt label 5 \n",
      "filename: /home/iot/jupyter/root_dir/liudongdong/data/flexData/digit/digitFlex_7days/three/1.txt label 2 \n",
      "filename: /home/iot/jupyter/root_dir/liudongdong/data/flexData/digit/digitFlex_7days/three/3.txt label 2 \n",
      "filename: /home/iot/jupyter/root_dir/liudongdong/data/flexData/digit/digitFlex_7days/three/7.txt label 2 \n",
      "filename: /home/iot/jupyter/root_dir/liudongdong/data/flexData/digit/digitFlex_7days/three/5.txt label 2 \n",
      "filename: /home/iot/jupyter/root_dir/liudongdong/data/flexData/digit/digitFlex_7days/three/2.txt label 2 \n",
      "filename: /home/iot/jupyter/root_dir/liudongdong/data/flexData/digit/digitFlex_7days/three/6.txt label 2 \n",
      "filename: /home/iot/jupyter/root_dir/liudongdong/data/flexData/digit/digitFlex_7days/three/4.txt label 2 \n",
      "filename: /home/iot/jupyter/root_dir/liudongdong/data/flexData/digit/digitFlex_7days/four/1.txt label 3 \n",
      "filename: /home/iot/jupyter/root_dir/liudongdong/data/flexData/digit/digitFlex_7days/four/3.txt label 3 \n",
      "filename: /home/iot/jupyter/root_dir/liudongdong/data/flexData/digit/digitFlex_7days/four/7.txt label 3 \n",
      "filename: /home/iot/jupyter/root_dir/liudongdong/data/flexData/digit/digitFlex_7days/four/5.txt label 3 \n",
      "filename: /home/iot/jupyter/root_dir/liudongdong/data/flexData/digit/digitFlex_7days/four/2.txt label 3 \n",
      "filename: /home/iot/jupyter/root_dir/liudongdong/data/flexData/digit/digitFlex_7days/four/6.txt label 3 \n",
      "filename: /home/iot/jupyter/root_dir/liudongdong/data/flexData/digit/digitFlex_7days/four/4.txt label 3 \n",
      "filename: /home/iot/jupyter/root_dir/liudongdong/data/flexData/digit/digitFlex_7days/one/1.txt label 0 \n",
      "filename: /home/iot/jupyter/root_dir/liudongdong/data/flexData/digit/digitFlex_7days/one/3.txt label 0 \n",
      "filename: /home/iot/jupyter/root_dir/liudongdong/data/flexData/digit/digitFlex_7days/one/7.txt label 0 \n",
      "filename: /home/iot/jupyter/root_dir/liudongdong/data/flexData/digit/digitFlex_7days/one/5.txt label 0 \n",
      "filename: /home/iot/jupyter/root_dir/liudongdong/data/flexData/digit/digitFlex_7days/one/2.txt label 0 \n",
      "filename: /home/iot/jupyter/root_dir/liudongdong/data/flexData/digit/digitFlex_7days/one/6.txt label 0 \n",
      "filename: /home/iot/jupyter/root_dir/liudongdong/data/flexData/digit/digitFlex_7days/one/4.txt label 0 \n",
      "Trainable Parameters: 1.069M\n",
      "(2000, 1) (2000, 1)\n",
      "(3000, 1) (3000, 1)\n",
      "(4000, 1) (4000, 1)\n",
      "(5000, 1) (5000, 1)\n",
      "(6000, 1) (6000, 1)\n",
      "(7000, 1) (7000, 1)\n",
      "(8000, 1) (8000, 1)\n",
      "(9000, 1) (9000, 1)\n",
      "(10000, 1) (10000, 1)\n",
      "(11000, 1) (11000, 1)\n",
      "(11397, 1) (11397, 1)\n",
      "(11397, 1) (11397, 1)\n",
      "分类报告：\n",
      "              precision    recall  f1-score   support\n",
      "\n",
      "           0       1.00      1.00      1.00      1267\n",
      "           1       1.00      1.00      1.00      1267\n",
      "           2       1.00      1.00      1.00      1267\n",
      "           3       1.00      1.00      1.00      1267\n",
      "           4       1.00      1.00      1.00      1267\n",
      "           5       1.00      1.00      1.00      1267\n",
      "           6       1.00      1.00      1.00      1261\n",
      "           7       1.00      1.00      1.00      1267\n",
      "           8       1.00      1.00      1.00      1267\n",
      "\n",
      "    accuracy                           1.00     11397\n",
      "   macro avg       1.00      1.00      1.00     11397\n",
      "weighted avg       1.00      1.00      1.00     11397\n",
      "\n"
     ]
    },
    {
     "data": {
      "image/png": "[encoded data removed]",
      "text/plain": [
       "<Figure size 432x288 with 2 Axes>"
      ]
     },
     "metadata": {
      "needs_background": "light"
     },
     "output_type": "display_data"
    }
   ],
   "source": [
    "#统计不同天数识别准确率\n",
    "\n",
    "import json\n",
    "import pickle\n",
    "import torch\n",
    "import torchvision\n",
    "import os\n",
    "import numpy as np\n",
    "import torch.nn as nn\n",
    "import torch.optim as optim\n",
    "import matplotlib.pyplot as plt\n",
    "import sys\n",
    "sys.path.append('/home/iot/jupyter/root_dir/liudongdong/src/ai/util')\n",
    "from torch.optim.lr_scheduler import StepLR, ReduceLROnPlateau\n",
    "from torch.nn.functional import gelu as gelu\n",
    "from torch.utils.data import DataLoader\n",
    "\n",
    "from util.train_util import train, trainlog\n",
    "\n",
    "from util.config import *\n",
    "from util.FlexDataRead import DataReadTest\n",
    "from model.MLPmixer import MLPMixer\n",
    "from util.transformHandle import *\n",
    "if not os.path.exists(Config.SAVEDIR):\n",
    "    os.makedirs(Config.SAVEDIR)\n",
    "logfile = '%s/trainlog.log' % Config.SAVEDIR\n",
    "trainlog(logfile)\n",
    "data_set = {}\n",
    "data_set['test']=DataReadTest(r\"/home/iot/jupyter/root_dir/liudongdong/data/flexData/digit/digitFlex_7days\",\"d\",fivePoint)\n",
    "dataloader={}\n",
    "dataloader['test'] = DataLoader(dataset=data_set['test'], batch_size=1000, shuffle=True)\n",
    "#修改下这里\n",
    "mlp_mixer = MLPMixer(in_channels=5, image_size=5, num_patch=5, num_classes=DigitConfig5Point.NUM_CLASS,\n",
    "                     dim=128, depth=4, token_dim=256, channel_dim=1024)\n",
    "parameters = filter(lambda p: p.requires_grad, mlp_mixer.parameters())\n",
    "parameters = sum([np.prod(p.size()) for p in parameters]) / 1_000_000\n",
    "print('Trainable Parameters: %.3fM' % parameters)\n",
    "mlp_mixer.load_state_dict(torch.load('/home/iot/jupyter/root_dir/liudongdong/src/ai/digit/output/DigitConfig5Point/weights-8-3046-[0.9997].pth'))\n",
    "outputs=[]\n",
    "ALLpreds=[]\n",
    "ALLlabels=[]\n",
    "for batch_cnt_val, data_val in enumerate(dataloader['test']):\n",
    "    inputs,labels = data_val\n",
    "    outputs=mlp_mixer(inputs)\n",
    "    _, preds = torch.max(outputs, 1)\n",
    "    preds=np.reshape(preds,(-1,1))\n",
    "    labels=np.reshape(labels,(-1,1))\n",
    "    if len(ALLpreds)==0:\n",
    "        ALLpreds=preds\n",
    "        ALLlabels=labels\n",
    "        #print(ALLpreds.shape,ALLlabels.shape)\n",
    "    else:\n",
    "        #print(ALLpreds.shape,ALLlabels.shape,preds.shape,labels.shape)\n",
    "        ALLpreds=np.row_stack((ALLpreds,preds))\n",
    "        ALLlabels=np.row_stack((ALLlabels,labels))\n",
    "        print(ALLlabels.shape,ALLpreds.shape)\n",
    "        \n",
    "print(ALLpreds.shape,ALLlabels.shape)\n",
    "from sklearn.metrics import classification_report\n",
    "bg =classification_report( ALLlabels,ALLpreds)\n",
    "print('分类报告：', bg, sep='\\n')\n",
    "#绘制混淆矩阵\n",
    "from sklearn.metrics import confusion_matrix    # 生成混淆矩阵函数\n",
    "import matplotlib.pyplot as plt    # 绘图库\n",
    "import numpy as np\n",
    "def plot_confusion_matrix(cm, labels_name, title):\n",
    "    cm = cm.astype('float') / cm.sum(axis=1)[:, np.newaxis]    # 归一化\n",
    "    plt.imshow(cm, interpolation='nearest')    # 在特定的窗口上显示图像\n",
    "    plt.title(title)    # 图像标题\n",
    "    plt.colorbar()\n",
    "    num_local = np.array(range(len(labels_name)))    \n",
    "    plt.xticks(num_local, labels_name, rotation=90)    # 将标签印在x轴坐标上\n",
    "    plt.yticks(num_local, labels_name)    # 将标签印在y轴坐标上\n",
    "    plt.ylabel('True label')    \n",
    "    plt.xlabel('Predicted label')\n",
    "\n",
    "cm = confusion_matrix(ALLlabels,ALLpreds)\n",
    "\n",
    "#print(cm)\n",
    "\n",
    "\n",
    "labels_name={'1','2','3','4','5','6','7','8','9'}\n",
    "plot_confusion_matrix(cm, labels_name,\"\")\n",
    "plt.savefig('/home/iot/jupyter/root_dir/liudongdong/src/ai/digit/output/confusion/{}.png'.format('sevendays'), format='png')\n",
    "ALLpreds=np.column_stack((ALLlabels,ALLpreds))\n",
    "np.savetxt(\"testingResult.txt\", ALLpreds,fmt='%d',delimiter=',')"
   ]
  },
  {
   "cell_type": "code",
   "execution_count": 15,
   "id": "8a79a5e8",
   "metadata": {
    "ExecuteTime": {
     "end_time": "2022-10-08T04:41:15.396447Z",
     "start_time": "2022-10-08T04:41:13.911105Z"
    }
   },
   "outputs": [
    {
     "name": "stdout",
     "output_type": "stream",
     "text": [
      "label: {'one': 0, 'two': 1, 'three': 2, 'four': 3, 'five': 4, 'six': 5, 'seven': 6, 'eight': 7, 'nine': 8}\n",
      "filename: /home/iot/jupyter/root_dir/liudongdong/data/flexData/digit/digitFlex_direction/five/1629375233.6539707.txt label 4 \n",
      "filename: /home/iot/jupyter/root_dir/liudongdong/data/flexData/digit/digitFlex_direction/five/╟░1629375169.8456163.txt label 4 \n",
      "filename: /home/iot/jupyter/root_dir/liudongdong/data/flexData/digit/digitFlex_direction/five/1629375209.6461208.txt label 4 \n",
      "filename: /home/iot/jupyter/root_dir/liudongdong/data/flexData/digit/digitFlex_direction/five/1629375436.786404.txt label 4 \n",
      "filename: /home/iot/jupyter/root_dir/liudongdong/data/flexData/digit/digitFlex_direction/five/1629375149.3437977.txt label 4 \n",
      "filename: /home/iot/jupyter/root_dir/liudongdong/data/flexData/digit/digitFlex_direction/five/1629375250.9977677.txt label 4 \n",
      "filename: /home/iot/jupyter/root_dir/liudongdong/data/flexData/digit/digitFlex_direction/two/1629375090.0944264.txt label 1 \n",
      "filename: /home/iot/jupyter/root_dir/liudongdong/data/flexData/digit/digitFlex_direction/two/1629375035.8536475.txt label 1 \n",
      "filename: /home/iot/jupyter/root_dir/liudongdong/data/flexData/digit/digitFlex_direction/two/1629375061.141057.txt label 1 \n",
      "filename: /home/iot/jupyter/root_dir/liudongdong/data/flexData/digit/digitFlex_direction/two/1629375129.5830455.txt label 1 \n",
      "filename: /home/iot/jupyter/root_dir/liudongdong/data/flexData/digit/digitFlex_direction/two/1629375074.466634.txt label 1 \n",
      "filename: /home/iot/jupyter/root_dir/liudongdong/data/flexData/digit/digitFlex_direction/two/1629375107.273753.txt label 1 \n",
      "filename: /home/iot/jupyter/root_dir/liudongdong/data/flexData/digit/digitFlex_direction/one/1629374954.8942907.txt label 0 \n",
      "filename: /home/iot/jupyter/root_dir/liudongdong/data/flexData/digit/digitFlex_direction/one/1629374969.7759817.txt label 0 \n",
      "filename: /home/iot/jupyter/root_dir/liudongdong/data/flexData/digit/digitFlex_direction/one/1629374938.9419322.txt label 0 \n",
      "filename: /home/iot/jupyter/root_dir/liudongdong/data/flexData/digit/digitFlex_direction/one/1629374998.569809.txt label 0 \n",
      "filename: /home/iot/jupyter/root_dir/liudongdong/data/flexData/digit/digitFlex_direction/one/1629374923.7067719.txt label 0 \n",
      "Trainable Parameters: 1.069M\n",
      "(2000, 1) (2000, 1)\n",
      "(3000, 1) (3000, 1)\n",
      "(3068, 1) (3068, 1)\n",
      "(3068, 1) (3068, 1)\n",
      "分类报告：\n",
      "              precision    recall  f1-score   support\n",
      "\n",
      "           0       1.00      1.00      1.00       905\n",
      "           1       1.00      1.00      1.00      1077\n",
      "           3       0.00      0.00      0.00         0\n",
      "           4       1.00      0.89      0.94      1086\n",
      "           7       0.00      0.00      0.00         0\n",
      "           8       0.00      0.00      0.00         0\n",
      "\n",
      "    accuracy                           0.96      3068\n",
      "   macro avg       0.50      0.48      0.49      3068\n",
      "weighted avg       1.00      0.96      0.98      3068\n",
      "\n"
     ]
    },
    {
     "name": "stderr",
     "output_type": "stream",
     "text": [
      "/home/iot/.local/lib/python3.7/site-packages/sklearn/metrics/_classification.py:1318: UndefinedMetricWarning: Recall and F-score are ill-defined and being set to 0.0 in labels with no true samples. Use `zero_division` parameter to control this behavior.\n",
      "  _warn_prf(average, modifier, msg_start, len(result))\n",
      "/home/iot/.local/lib/python3.7/site-packages/sklearn/metrics/_classification.py:1318: UndefinedMetricWarning: Recall and F-score are ill-defined and being set to 0.0 in labels with no true samples. Use `zero_division` parameter to control this behavior.\n",
      "  _warn_prf(average, modifier, msg_start, len(result))\n",
      "/home/iot/.local/lib/python3.7/site-packages/sklearn/metrics/_classification.py:1318: UndefinedMetricWarning: Recall and F-score are ill-defined and being set to 0.0 in labels with no true samples. Use `zero_division` parameter to control this behavior.\n",
      "  _warn_prf(average, modifier, msg_start, len(result))\n",
      "/home/iot/.local/lib/python3.7/site-packages/ipykernel_launcher.py:68: RuntimeWarning: invalid value encountered in true_divide\n"
     ]
    },
    {
     "data": {
      "image/png": "[encoded data removed]",
      "text/plain": [
       "<Figure size 432x288 with 2 Axes>"
      ]
     },
     "metadata": {
      "needs_background": "light"
     },
     "output_type": "display_data"
    }
   ],
   "source": [
    "#统计不同天数识别准确率\n",
    "\n",
    "import json\n",
    "import pickle\n",
    "import torch\n",
    "import torchvision\n",
    "import os\n",
    "import numpy as np\n",
    "import torch.nn as nn\n",
    "import torch.optim as optim\n",
    "import matplotlib.pyplot as plt\n",
    "import sys\n",
    "sys.path.append('/home/iot/jupyter/root_dir/liudongdong/src/ai/util')\n",
    "from torch.optim.lr_scheduler import StepLR, ReduceLROnPlateau\n",
    "from torch.nn.functional import gelu as gelu\n",
    "from torch.utils.data import DataLoader\n",
    "\n",
    "from util.train_util import train, trainlog\n",
    "\n",
    "from util.config import *\n",
    "from util.FlexDataRead import DataReadTest\n",
    "from model.MLPmixer import MLPMixer\n",
    "from util.transformHandle import *\n",
    "if not os.path.exists(Config.SAVEDIR):\n",
    "    os.makedirs(Config.SAVEDIR)\n",
    "logfile = '%s/trainlog.log' % Config.SAVEDIR\n",
    "trainlog(logfile)\n",
    "data_set = {}\n",
    "data_set['test']=DataReadTest(r\"/home/iot/jupyter/root_dir/liudongdong/data/flexData/digit/digitFlex_direction\",\"d\",fivePoint)\n",
    "dataloader={}\n",
    "dataloader['test'] = DataLoader(dataset=data_set['test'], batch_size=1000, shuffle=True)\n",
    "#修改下这里\n",
    "\n",
    "mlp_mixer = MLPMixer(in_channels=5, image_size=5, num_patch=5, num_classes=DigitConfig5Point.NUM_CLASS,\n",
    "                     dim=128, depth=4, token_dim=256, channel_dim=1024)\n",
    "parameters = filter(lambda p: p.requires_grad, mlp_mixer.parameters())\n",
    "parameters = sum([np.prod(p.size()) for p in parameters]) / 1_000_000\n",
    "print('Trainable Parameters: %.3fM' % parameters)\n",
    "mlp_mixer.load_state_dict(torch.load('/home/iot/jupyter/root_dir/liudongdong/src/ai/digit/output/DigitConfig5Point/weights-8-3046-[0.9997].pth'))\n",
    "outputs=[]\n",
    "ALLpreds=[]\n",
    "ALLlabels=[]\n",
    "for batch_cnt_val, data_val in enumerate(dataloader['test']):\n",
    "    inputs,labels = data_val\n",
    "    outputs=mlp_mixer(inputs)\n",
    "    _, preds = torch.max(outputs, 1)\n",
    "    preds=np.reshape(preds,(-1,1))\n",
    "    labels=np.reshape(labels,(-1,1))\n",
    "    if len(ALLpreds)==0:\n",
    "        ALLpreds=preds\n",
    "        ALLlabels=labels\n",
    "        #print(ALLpreds.shape,ALLlabels.shape)\n",
    "    else:\n",
    "        #print(ALLpreds.shape,ALLlabels.shape,preds.shape,labels.shape)\n",
    "        ALLpreds=np.row_stack((ALLpreds,preds))\n",
    "        ALLlabels=np.row_stack((ALLlabels,labels))\n",
    "        print(ALLlabels.shape,ALLpreds.shape)\n",
    "        \n",
    "print(ALLpreds.shape,ALLlabels.shape)\n",
    "from sklearn.metrics import classification_report\n",
    "bg =classification_report( ALLlabels,ALLpreds)\n",
    "print('分类报告：', bg, sep='\\n')\n",
    "#绘制混淆矩阵\n",
    "from sklearn.metrics import confusion_matrix    # 生成混淆矩阵函数\n",
    "import matplotlib.pyplot as plt    # 绘图库\n",
    "import numpy as np\n",
    "def plot_confusion_matrix(cm, labels_name, title):\n",
    "    cm = cm.astype('float') / cm.sum(axis=1)[:, np.newaxis]    # 归一化\n",
    "    plt.imshow(cm, interpolation='nearest')    # 在特定的窗口上显示图像\n",
    "    plt.title(title)    # 图像标题\n",
    "    plt.colorbar()\n",
    "    num_local = np.array(range(len(labels_name)))    \n",
    "    plt.xticks(num_local, labels_name, rotation=90)    # 将标签印在x轴坐标上\n",
    "    plt.yticks(num_local, labels_name)    # 将标签印在y轴坐标上\n",
    "    plt.ylabel('True label')    \n",
    "    plt.xlabel('Predicted label')\n",
    "\n",
    "cm = confusion_matrix(ALLlabels,ALLpreds)\n",
    "\n",
    "#print(cm)\n",
    "\n",
    "\n",
    "labels_name={'1','2','3','4','5','6','7','8','9'}\n",
    "plot_confusion_matrix(cm, labels_name,\"\")\n",
    "plt.savefig('/home/iot/jupyter/root_dir/liudongdong/src/ai/digit/output/confusion/{}.png'.format('sevendays'), format='png')\n",
    "ALLpreds=np.column_stack((ALLlabels,ALLpreds))\n",
    "np.savetxt(\"testingResult.txt\", ALLpreds,fmt='%d',delimiter=',')"
   ]
  },
  {
   "cell_type": "code",
   "execution_count": 5,
   "id": "45f0c96e",
   "metadata": {
    "ExecuteTime": {
     "end_time": "2022-10-08T03:18:13.592812Z",
     "start_time": "2022-10-08T03:18:13.561902Z"
    }
   },
   "outputs": [
    {
     "ename": "ValueError",
     "evalue": "Classification metrics can't handle a mix of multiclass and multiclass-multioutput targets",
     "output_type": "error",
     "traceback": [
      "\u001b[0;31m---------------------------------------------------------------------------\u001b[0m",
      "\u001b[0;31mValueError\u001b[0m                                Traceback (most recent call last)",
      "\u001b[0;32m/tmp/ipykernel_15334/124567148.py\u001b[0m in \u001b[0;36m<module>\u001b[0;34m\u001b[0m\n\u001b[1;32m     14\u001b[0m     \u001b[0mplt\u001b[0m\u001b[0;34m.\u001b[0m\u001b[0mxlabel\u001b[0m\u001b[0;34m(\u001b[0m\u001b[0;34m'Predicted label'\u001b[0m\u001b[0;34m)\u001b[0m\u001b[0;34m\u001b[0m\u001b[0m\n\u001b[1;32m     15\u001b[0m \u001b[0;34m\u001b[0m\u001b[0m\n\u001b[0;32m---> 16\u001b[0;31m \u001b[0mcm\u001b[0m \u001b[0;34m=\u001b[0m \u001b[0mconfusion_matrix\u001b[0m\u001b[0;34m(\u001b[0m\u001b[0mALLlabels\u001b[0m\u001b[0;34m,\u001b[0m\u001b[0mALLpreds\u001b[0m\u001b[0;34m)\u001b[0m\u001b[0;34m\u001b[0m\u001b[0m\n\u001b[0m\u001b[1;32m     17\u001b[0m \u001b[0;34m\u001b[0m\u001b[0m\n\u001b[1;32m     18\u001b[0m \u001b[0;31m#print(cm)\u001b[0m\u001b[0;34m\u001b[0m\u001b[0;34m\u001b[0m\u001b[0m\n",
      "\u001b[0;32m~/.local/lib/python3.7/site-packages/sklearn/metrics/_classification.py\u001b[0m in \u001b[0;36mconfusion_matrix\u001b[0;34m(y_true, y_pred, labels, sample_weight, normalize)\u001b[0m\n\u001b[1;32m    305\u001b[0m     \u001b[0;34m(\u001b[0m\u001b[0;36m0\u001b[0m\u001b[0;34m,\u001b[0m \u001b[0;36m2\u001b[0m\u001b[0;34m,\u001b[0m \u001b[0;36m1\u001b[0m\u001b[0;34m,\u001b[0m \u001b[0;36m1\u001b[0m\u001b[0;34m)\u001b[0m\u001b[0;34m\u001b[0m\u001b[0m\n\u001b[1;32m    306\u001b[0m     \"\"\"\n\u001b[0;32m--> 307\u001b[0;31m     \u001b[0my_type\u001b[0m\u001b[0;34m,\u001b[0m \u001b[0my_true\u001b[0m\u001b[0;34m,\u001b[0m \u001b[0my_pred\u001b[0m \u001b[0;34m=\u001b[0m \u001b[0m_check_targets\u001b[0m\u001b[0;34m(\u001b[0m\u001b[0my_true\u001b[0m\u001b[0;34m,\u001b[0m \u001b[0my_pred\u001b[0m\u001b[0;34m)\u001b[0m\u001b[0;34m\u001b[0m\u001b[0m\n\u001b[0m\u001b[1;32m    308\u001b[0m     \u001b[0;32mif\u001b[0m \u001b[0my_type\u001b[0m \u001b[0;32mnot\u001b[0m \u001b[0;32min\u001b[0m \u001b[0;34m(\u001b[0m\u001b[0;34m\"binary\"\u001b[0m\u001b[0;34m,\u001b[0m \u001b[0;34m\"multiclass\"\u001b[0m\u001b[0;34m)\u001b[0m\u001b[0;34m:\u001b[0m\u001b[0;34m\u001b[0m\u001b[0m\n\u001b[1;32m    309\u001b[0m         \u001b[0;32mraise\u001b[0m \u001b[0mValueError\u001b[0m\u001b[0;34m(\u001b[0m\u001b[0;34m\"%s is not supported\"\u001b[0m \u001b[0;34m%\u001b[0m \u001b[0my_type\u001b[0m\u001b[0;34m)\u001b[0m\u001b[0;34m\u001b[0m\u001b[0m\n",
      "\u001b[0;32m~/.local/lib/python3.7/site-packages/sklearn/metrics/_classification.py\u001b[0m in \u001b[0;36m_check_targets\u001b[0;34m(y_true, y_pred)\u001b[0m\n\u001b[1;32m     93\u001b[0m         raise ValueError(\n\u001b[1;32m     94\u001b[0m             \"Classification metrics can't handle a mix of {0} and {1} targets\".format(\n\u001b[0;32m---> 95\u001b[0;31m                 \u001b[0mtype_true\u001b[0m\u001b[0;34m,\u001b[0m \u001b[0mtype_pred\u001b[0m\u001b[0;34m\u001b[0m\u001b[0m\n\u001b[0m\u001b[1;32m     96\u001b[0m             )\n\u001b[1;32m     97\u001b[0m         )\n",
      "\u001b[0;31mValueError\u001b[0m: Classification metrics can't handle a mix of multiclass and multiclass-multioutput targets"
     ]
    }
   ],
   "source": [
    "mlp_mixer = MLPMixer(in_channels=5, image_size=5, num_patch=5, num_classes=DigitConfig5Point.NUM_CLASS,\n",
    "                     dim=128, depth=4, token_dim=256, channel_dim=1024)\n",
    "parameters = filter(lambda p: p.requires_grad, mlp_mixer.parameters())\n",
    "parameters = sum([np.prod(p.size()) for p in parameters]) / 1_000_000\n",
    "print('Trainable Parameters: %.3fM' % parameters)\n",
    "mlp_mixer.load_state_dict(torch.load('/home/iot/jupyter/root_dir/liudongdong/src/ai/digit/output/DigitConfig5Point/weights-8-3046-[0.9997].pth'))\n",
    "outputs=[]\n",
    "ALLpreds=[]\n",
    "ALLlabels=[]\n",
    "for batch_cnt_val, data_val in enumerate(dataloader['test']):\n",
    "    inputs,labels = data_val\n",
    "    outputs=mlp_mixer(inputs)\n",
    "    _, preds = torch.max(outputs, 1)\n",
    "    preds=np.reshape(preds,(-1,1))\n",
    "    labels=np.reshape(labels,(-1,1))\n",
    "    if len(ALLpreds)==0:\n",
    "        ALLpreds=preds\n",
    "        ALLlabels=labels\n",
    "        #print(ALLpreds.shape,ALLlabels.shape)\n",
    "    else:\n",
    "        #print(ALLpreds.shape,ALLlabels.shape,preds.shape,labels.shape)\n",
    "        ALLpreds=np.row_stack((ALLpreds,preds))\n",
    "        ALLlabels=np.row_stack((ALLlabels,labels))\n",
    "        print(ALLlabels.shape,ALLpreds.shape)\n",
    "        \n",
    "print(ALLpreds.shape,ALLlabels.shape)\n",
    "from sklearn.metrics import classification_report\n",
    "bg =classification_report( ALLlabels,ALLpreds)\n",
    "print('分类报告：', bg, sep='\\n')\n",
    "#绘制混淆矩阵\n",
    "from sklearn.metrics import confusion_matrix    # 生成混淆矩阵函数\n",
    "import matplotlib.pyplot as plt    # 绘图库\n",
    "import numpy as np\n",
    "def plot_confusion_matrix(cm, labels_name, title):\n",
    "    cm = cm.astype('float') / cm.sum(axis=1)[:, np.newaxis]    # 归一化\n",
    "    plt.imshow(cm, interpolation='nearest')    # 在特定的窗口上显示图像\n",
    "    plt.title(title)    # 图像标题\n",
    "    plt.colorbar()\n",
    "    num_local = np.array(range(len(labels_name)))    \n",
    "    plt.xticks(num_local, labels_name, rotation=90)    # 将标签印在x轴坐标上\n",
    "    plt.yticks(num_local, labels_name)    # 将标签印在y轴坐标上\n",
    "    plt.ylabel('True label')    \n",
    "    plt.xlabel('Predicted label')\n",
    "\n",
    "cm = confusion_matrix(ALLlabels,ALLpreds)\n",
    "\n",
    "#print(cm)\n",
    "\n",
    "\n",
    "labels_name={'1','2','3','4','5','6','7','8','9'}\n",
    "plot_confusion_matrix(cm, labels_name,\"\")\n",
    "plt.savefig('/home/iot/jupyter/root_dir/liudongdong/src/ai/digit/output/confusion/{}.png'.format('sevendays'), format='png')\n",
    "ALLpreds=np.column_stack((ALLlabels,ALLpreds))\n",
    "np.savetxt(\"testingResult.txt\", ALLpreds,fmt='%d',delimiter=',')"
   ]
  },
  {
   "cell_type": "code",
   "execution_count": 1,
   "id": "d9e1830b",
   "metadata": {
    "ExecuteTime": {
     "end_time": "2021-06-07T01:57:22.461194Z",
     "start_time": "2021-06-07T01:57:15.573687Z"
    }
   },
   "outputs": [
    {
     "name": "stdout",
     "output_type": "stream",
     "text": [
      "label: {'eight': 0, 'five': 1, 'four': 2, 'nine': 3, 'one': 4, 'seven': 5, 'six': 6, 'ten': 7, 'three': 8, 'two': 9}\n",
      "filename: four.txt label 2 \n",
      "filename: six.txt label 6 \n",
      "filename: one.txt label 4 \n",
      "filename: three.txt label 8 \n",
      "filename: five.txt label 1 \n",
      "filename: two.txt label 9 \n",
      "filename: ten.txt label 7 \n",
      "filename: eight.txt label 0 \n",
      "filename: seven.txt label 5 \n",
      "filename: nine.txt label 3 \n"
     ]
    }
   ],
   "source": [
    "\n",
    "import json\n",
    "import pickle\n",
    "import torch\n",
    "import torchvision\n",
    "import os\n",
    "import numpy as np\n",
    "import torch.nn as nn\n",
    "import torch.optim as optim\n",
    "import matplotlib.pyplot as plt\n",
    "\n",
    "from torch.optim.lr_scheduler import StepLR, ReduceLROnPlateau\n",
    "from torch.nn.functional import gelu as gelu\n",
    "from torch.utils.data import DataLoader\n",
    "from util.train_util import train, trainlog\n",
    "\n",
    "from util.config import Config\n",
    "from util.FlexDataRead import FlexSensorDataRead\n",
    "from model.MLPmixer import MLPMixer\n",
    "\n",
    "if not os.path.exists(Config.SAVEDIR):\n",
    "    os.makedirs(Config.SAVEDIR)\n",
    "logfile = '%s/trainlog.log' % Config.SAVEDIR\n",
    "trainlog(logfile)\n",
    "data_set = {}\n",
    "data_set['test']=FlexSensorDataRead(r\"../../data/temp/picFlex/digitGen/test\",\"digit\")"
   ]
  },
  {
   "cell_type": "code",
   "execution_count": 4,
   "id": "2cbdb935",
   "metadata": {
    "ExecuteTime": {
     "end_time": "2021-06-07T05:34:05.805081Z",
     "start_time": "2021-06-07T05:34:05.769931Z"
    }
   },
   "outputs": [
    {
     "ename": "FileNotFoundError",
     "evalue": "[Errno 2] No such file or directory: './output/digit/weights-7-1110-[0.9960].pth'",
     "output_type": "error",
     "traceback": [
      "\u001b[0;31m---------------------------------------------------------------------------\u001b[0m",
      "\u001b[0;31mFileNotFoundError\u001b[0m                         Traceback (most recent call last)",
      "\u001b[0;32m<ipython-input-4-d6ffe25c77a1>\u001b[0m in \u001b[0;36m<module>\u001b[0;34m\u001b[0m\n\u001b[1;32m      3\u001b[0m mlp_mixer = MLPMixer(in_channels=5, image_size=5, patch_size=16, num_classes=Config.NUM_CLASS,\n\u001b[1;32m      4\u001b[0m                      dim=128, depth=4, token_dim=256, channel_dim=1024)\n\u001b[0;32m----> 5\u001b[0;31m \u001b[0mmlp_mixer\u001b[0m\u001b[0;34m.\u001b[0m\u001b[0mload_state_dict\u001b[0m\u001b[0;34m(\u001b[0m\u001b[0mtorch\u001b[0m\u001b[0;34m.\u001b[0m\u001b[0mload\u001b[0m\u001b[0;34m(\u001b[0m\u001b[0;34m\"./output/digit/weights-7-1110-[0.9960].pth\"\u001b[0m\u001b[0;34m)\u001b[0m\u001b[0;34m)\u001b[0m\u001b[0;34m\u001b[0m\u001b[0m\n\u001b[0m",
      "\u001b[0;32m~/anaconda3/envs/dataglove/lib/python3.7/site-packages/torch/serialization.py\u001b[0m in \u001b[0;36mload\u001b[0;34m(f, map_location, pickle_module, **pickle_load_args)\u001b[0m\n\u001b[1;32m    577\u001b[0m         \u001b[0mpickle_load_args\u001b[0m\u001b[0;34m[\u001b[0m\u001b[0;34m'encoding'\u001b[0m\u001b[0;34m]\u001b[0m \u001b[0;34m=\u001b[0m \u001b[0;34m'utf-8'\u001b[0m\u001b[0;34m\u001b[0m\u001b[0m\n\u001b[1;32m    578\u001b[0m \u001b[0;34m\u001b[0m\u001b[0m\n\u001b[0;32m--> 579\u001b[0;31m     \u001b[0;32mwith\u001b[0m \u001b[0m_open_file_like\u001b[0m\u001b[0;34m(\u001b[0m\u001b[0mf\u001b[0m\u001b[0;34m,\u001b[0m \u001b[0;34m'rb'\u001b[0m\u001b[0;34m)\u001b[0m \u001b[0;32mas\u001b[0m \u001b[0mopened_file\u001b[0m\u001b[0;34m:\u001b[0m\u001b[0;34m\u001b[0m\u001b[0m\n\u001b[0m\u001b[1;32m    580\u001b[0m         \u001b[0;32mif\u001b[0m \u001b[0m_is_zipfile\u001b[0m\u001b[0;34m(\u001b[0m\u001b[0mopened_file\u001b[0m\u001b[0;34m)\u001b[0m\u001b[0;34m:\u001b[0m\u001b[0;34m\u001b[0m\u001b[0m\n\u001b[1;32m    581\u001b[0m             \u001b[0;31m# The zipfile reader is going to advance the current file position.\u001b[0m\u001b[0;34m\u001b[0m\u001b[0;34m\u001b[0m\u001b[0m\n",
      "\u001b[0;32m~/anaconda3/envs/dataglove/lib/python3.7/site-packages/torch/serialization.py\u001b[0m in \u001b[0;36m_open_file_like\u001b[0;34m(name_or_buffer, mode)\u001b[0m\n\u001b[1;32m    228\u001b[0m \u001b[0;32mdef\u001b[0m \u001b[0m_open_file_like\u001b[0m\u001b[0;34m(\u001b[0m\u001b[0mname_or_buffer\u001b[0m\u001b[0;34m,\u001b[0m \u001b[0mmode\u001b[0m\u001b[0;34m)\u001b[0m\u001b[0;34m:\u001b[0m\u001b[0;34m\u001b[0m\u001b[0m\n\u001b[1;32m    229\u001b[0m     \u001b[0;32mif\u001b[0m \u001b[0m_is_path\u001b[0m\u001b[0;34m(\u001b[0m\u001b[0mname_or_buffer\u001b[0m\u001b[0;34m)\u001b[0m\u001b[0;34m:\u001b[0m\u001b[0;34m\u001b[0m\u001b[0m\n\u001b[0;32m--> 230\u001b[0;31m         \u001b[0;32mreturn\u001b[0m \u001b[0m_open_file\u001b[0m\u001b[0;34m(\u001b[0m\u001b[0mname_or_buffer\u001b[0m\u001b[0;34m,\u001b[0m \u001b[0mmode\u001b[0m\u001b[0;34m)\u001b[0m\u001b[0;34m\u001b[0m\u001b[0m\n\u001b[0m\u001b[1;32m    231\u001b[0m     \u001b[0;32melse\u001b[0m\u001b[0;34m:\u001b[0m\u001b[0;34m\u001b[0m\u001b[0m\n\u001b[1;32m    232\u001b[0m         \u001b[0;32mif\u001b[0m \u001b[0;34m'w'\u001b[0m \u001b[0;32min\u001b[0m \u001b[0mmode\u001b[0m\u001b[0;34m:\u001b[0m\u001b[0;34m\u001b[0m\u001b[0m\n",
      "\u001b[0;32m~/anaconda3/envs/dataglove/lib/python3.7/site-packages/torch/serialization.py\u001b[0m in \u001b[0;36m__init__\u001b[0;34m(self, name, mode)\u001b[0m\n\u001b[1;32m    209\u001b[0m \u001b[0;32mclass\u001b[0m \u001b[0m_open_file\u001b[0m\u001b[0;34m(\u001b[0m\u001b[0m_opener\u001b[0m\u001b[0;34m)\u001b[0m\u001b[0;34m:\u001b[0m\u001b[0;34m\u001b[0m\u001b[0m\n\u001b[1;32m    210\u001b[0m     \u001b[0;32mdef\u001b[0m \u001b[0m__init__\u001b[0m\u001b[0;34m(\u001b[0m\u001b[0mself\u001b[0m\u001b[0;34m,\u001b[0m \u001b[0mname\u001b[0m\u001b[0;34m,\u001b[0m \u001b[0mmode\u001b[0m\u001b[0;34m)\u001b[0m\u001b[0;34m:\u001b[0m\u001b[0;34m\u001b[0m\u001b[0m\n\u001b[0;32m--> 211\u001b[0;31m         \u001b[0msuper\u001b[0m\u001b[0;34m(\u001b[0m\u001b[0m_open_file\u001b[0m\u001b[0;34m,\u001b[0m \u001b[0mself\u001b[0m\u001b[0;34m)\u001b[0m\u001b[0;34m.\u001b[0m\u001b[0m__init__\u001b[0m\u001b[0;34m(\u001b[0m\u001b[0mopen\u001b[0m\u001b[0;34m(\u001b[0m\u001b[0mname\u001b[0m\u001b[0;34m,\u001b[0m \u001b[0mmode\u001b[0m\u001b[0;34m)\u001b[0m\u001b[0;34m)\u001b[0m\u001b[0;34m\u001b[0m\u001b[0m\n\u001b[0m\u001b[1;32m    212\u001b[0m \u001b[0;34m\u001b[0m\u001b[0m\n\u001b[1;32m    213\u001b[0m     \u001b[0;32mdef\u001b[0m \u001b[0m__exit__\u001b[0m\u001b[0;34m(\u001b[0m\u001b[0mself\u001b[0m\u001b[0;34m,\u001b[0m \u001b[0;34m*\u001b[0m\u001b[0margs\u001b[0m\u001b[0;34m)\u001b[0m\u001b[0;34m:\u001b[0m\u001b[0;34m\u001b[0m\u001b[0m\n",
      "\u001b[0;31mFileNotFoundError\u001b[0m: [Errno 2] No such file or directory: './output/digit/weights-7-1110-[0.9960].pth'"
     ]
    }
   ],
   "source": [
    "#修改下这里\n",
    "mlp_mixer=MLPMixer(in_channels=5, image_size=5, num_patch=5, num_classes=CharConfig5Point.NUM_CLASS,\n",
    "                     dim=128, depth=4, token_dim=256, channel_dim=1024)\n",
    "mlp_mixer.load_state_dict(torch.load(\"/home/iot/jupyter/root_dir/liudongdong/src/ai/char/output/CharConfig5Point/weights-29-25571-[0.8036].pth\"))\n"
   ]
  },
  {
   "cell_type": "code",
   "execution_count": null,
   "id": "46f56681",
   "metadata": {},
   "outputs": [],
   "source": []
  },
  {
   "cell_type": "code",
   "execution_count": null,
   "id": "70cfde5a",
   "metadata": {},
   "outputs": [],
   "source": [
    "print(ALLpreds.shape,ALLlabels.shape)\n",
    "from sklearn.metrics import classification_report\n",
    "bg =classification_report( ALLlabels,ALLpreds)\n",
    "print('分类报告：', bg, sep='\\n')"
   ]
  },
  {
   "cell_type": "code",
   "execution_count": 3,
   "id": "6ca4ee0f",
   "metadata": {
    "ExecuteTime": {
     "end_time": "2021-06-07T13:24:41.899479Z",
     "start_time": "2021-06-07T13:24:41.774632Z"
    }
   },
   "outputs": [],
   "source": [
    "from sklearn.model_selection import train_test_split\n",
    "from sklearn.metrics import confusion_matrix\n",
    "from sklearn.utils.multiclass import unique_labels\n",
    "import matplotlib.pyplot as plt\n",
    "\n",
    "def plot_confusion_matrix(y_true, y_pred, classes,\n",
    "                          normalize=False,\n",
    "                          title=None,\n",
    "                          cmap=plt.cm.Blues,\n",
    "                          size=None):\n",
    "    \"\"\" (Copied from sklearn website)\n",
    "    This function prints and plots the confusion matrix.\n",
    "    Normalization can be applied by setting `normalize=True`.\n",
    "    \"\"\"\n",
    "    if not title:\n",
    "        if normalize:\n",
    "            title = 'Normalized confusion matrix'\n",
    "        else:\n",
    "            title = 'Confusion matrix, without normalization'\n",
    "\n",
    "    # Compute confusion matrix\n",
    "    cm = confusion_matrix(y_true, y_pred)\n",
    "    # Only use the labels that appear in the data\n",
    "    classes = classes[unique_labels(y_true, y_pred)]\n",
    "    if normalize:\n",
    "        cm = cm.astype('float') / cm.sum(axis=1)[:, np.newaxis]\n",
    "        print(\"Display normalized confusion matrix ...\")\n",
    "    else:\n",
    "        print('Display confusion matrix without normalization ...')\n",
    "\n",
    "    # print(cm)\n",
    "\n",
    "    fig, ax = plt.subplots()\n",
    "    if size is None:\n",
    "        size = (12, 8)\n",
    "    fig.set_size_inches(size[0], size[1])\n",
    "\n",
    "    im = ax.imshow(cm, interpolation='nearest', cmap=cmap)\n",
    "    ax.figure.colorbar(im, ax=ax)\n",
    "    # We want to show all ticks...\n",
    "    ax.set(xticks=np.arange(cm.shape[1]),\n",
    "           yticks=np.arange(cm.shape[0]),\n",
    "           # ... and label them with the respective list entries\n",
    "           xticklabels=classes, yticklabels=classes,\n",
    "           title=title,\n",
    "           ylabel='True label',\n",
    "           xlabel='Predicted label')\n",
    "    ax.set_ylim([-0.5, len(classes)-0.5])\n",
    "\n",
    "    # Rotate the tick labels and set their alignment.\n",
    "    plt.setp(ax.get_xticklabels(), rotation=45, ha=\"right\",\n",
    "             rotation_mode=\"anchor\")\n",
    "\n",
    "    # Loop over data dimensions and create text annotations.\n",
    "    fmt = '.2f' if normalize else 'd'\n",
    "    thresh = cm.max() / 2.\n",
    "    for i in range(cm.shape[0]):\n",
    "        for j in range(cm.shape[1]):\n",
    "            ax.text(j, i, format(cm[i, j], fmt),\n",
    "                    ha=\"center\", va=\"center\",\n",
    "                    color=\"white\" if cm[i, j] > thresh else \"black\")\n",
    "    fig.tight_layout()\n",
    "    plt.show()\n",
    "    return ax, cm\n",
    "\n"
   ]
  },
  {
   "cell_type": "code",
   "execution_count": 1,
   "id": "4ea4bd2c",
   "metadata": {
    "ExecuteTime": {
     "end_time": "2021-12-11T01:00:49.476942Z",
     "start_time": "2021-12-11T01:00:49.344441Z"
    }
   },
   "outputs": [
    {
     "ename": "OSError",
     "evalue": "./testingResult.txt not found.",
     "output_type": "error",
     "traceback": [
      "\u001b[0;31m---------------------------------------------------------------------------\u001b[0m",
      "\u001b[0;31mOSError\u001b[0m                                   Traceback (most recent call last)",
      "\u001b[0;32m<ipython-input-1-bfc96710afe8>\u001b[0m in \u001b[0;36m<module>\u001b[0;34m\u001b[0m\n\u001b[1;32m      1\u001b[0m \u001b[0;32mimport\u001b[0m \u001b[0mnumpy\u001b[0m \u001b[0;32mas\u001b[0m \u001b[0mnp\u001b[0m\u001b[0;34m\u001b[0m\u001b[0m\n\u001b[0;32m----> 2\u001b[0;31m \u001b[0mdata\u001b[0m\u001b[0;34m=\u001b[0m\u001b[0mnp\u001b[0m\u001b[0;34m.\u001b[0m\u001b[0mloadtxt\u001b[0m\u001b[0;34m(\u001b[0m\u001b[0;34m\"./testingResult.txt\"\u001b[0m\u001b[0;34m,\u001b[0m\u001b[0mdelimiter\u001b[0m\u001b[0;34m=\u001b[0m\u001b[0;34m','\u001b[0m\u001b[0;34m)\u001b[0m\u001b[0;34m\u001b[0m\u001b[0m\n\u001b[0m",
      "\u001b[0;32m~/anaconda3/envs/dataglove/lib/python3.7/site-packages/numpy/lib/npyio.py\u001b[0m in \u001b[0;36mloadtxt\u001b[0;34m(fname, dtype, comments, delimiter, converters, skiprows, usecols, unpack, ndmin, encoding, max_rows)\u001b[0m\n\u001b[1;32m    959\u001b[0m             \u001b[0mfname\u001b[0m \u001b[0;34m=\u001b[0m \u001b[0mos_fspath\u001b[0m\u001b[0;34m(\u001b[0m\u001b[0mfname\u001b[0m\u001b[0;34m)\u001b[0m\u001b[0;34m\u001b[0m\u001b[0m\n\u001b[1;32m    960\u001b[0m         \u001b[0;32mif\u001b[0m \u001b[0m_is_string_like\u001b[0m\u001b[0;34m(\u001b[0m\u001b[0mfname\u001b[0m\u001b[0;34m)\u001b[0m\u001b[0;34m:\u001b[0m\u001b[0;34m\u001b[0m\u001b[0m\n\u001b[0;32m--> 961\u001b[0;31m             \u001b[0mfh\u001b[0m \u001b[0;34m=\u001b[0m \u001b[0mnp\u001b[0m\u001b[0;34m.\u001b[0m\u001b[0mlib\u001b[0m\u001b[0;34m.\u001b[0m\u001b[0m_datasource\u001b[0m\u001b[0;34m.\u001b[0m\u001b[0mopen\u001b[0m\u001b[0;34m(\u001b[0m\u001b[0mfname\u001b[0m\u001b[0;34m,\u001b[0m \u001b[0;34m'rt'\u001b[0m\u001b[0;34m,\u001b[0m \u001b[0mencoding\u001b[0m\u001b[0;34m=\u001b[0m\u001b[0mencoding\u001b[0m\u001b[0;34m)\u001b[0m\u001b[0;34m\u001b[0m\u001b[0m\n\u001b[0m\u001b[1;32m    962\u001b[0m             \u001b[0mfencoding\u001b[0m \u001b[0;34m=\u001b[0m \u001b[0mgetattr\u001b[0m\u001b[0;34m(\u001b[0m\u001b[0mfh\u001b[0m\u001b[0;34m,\u001b[0m \u001b[0;34m'encoding'\u001b[0m\u001b[0;34m,\u001b[0m \u001b[0;34m'latin1'\u001b[0m\u001b[0;34m)\u001b[0m\u001b[0;34m\u001b[0m\u001b[0m\n\u001b[1;32m    963\u001b[0m             \u001b[0mfh\u001b[0m \u001b[0;34m=\u001b[0m \u001b[0miter\u001b[0m\u001b[0;34m(\u001b[0m\u001b[0mfh\u001b[0m\u001b[0;34m)\u001b[0m\u001b[0;34m\u001b[0m\u001b[0m\n",
      "\u001b[0;32m~/anaconda3/envs/dataglove/lib/python3.7/site-packages/numpy/lib/_datasource.py\u001b[0m in \u001b[0;36mopen\u001b[0;34m(path, mode, destpath, encoding, newline)\u001b[0m\n\u001b[1;32m    193\u001b[0m \u001b[0;34m\u001b[0m\u001b[0m\n\u001b[1;32m    194\u001b[0m     \u001b[0mds\u001b[0m \u001b[0;34m=\u001b[0m \u001b[0mDataSource\u001b[0m\u001b[0;34m(\u001b[0m\u001b[0mdestpath\u001b[0m\u001b[0;34m)\u001b[0m\u001b[0;34m\u001b[0m\u001b[0m\n\u001b[0;32m--> 195\u001b[0;31m     \u001b[0;32mreturn\u001b[0m \u001b[0mds\u001b[0m\u001b[0;34m.\u001b[0m\u001b[0mopen\u001b[0m\u001b[0;34m(\u001b[0m\u001b[0mpath\u001b[0m\u001b[0;34m,\u001b[0m \u001b[0mmode\u001b[0m\u001b[0;34m,\u001b[0m \u001b[0mencoding\u001b[0m\u001b[0;34m=\u001b[0m\u001b[0mencoding\u001b[0m\u001b[0;34m,\u001b[0m \u001b[0mnewline\u001b[0m\u001b[0;34m=\u001b[0m\u001b[0mnewline\u001b[0m\u001b[0;34m)\u001b[0m\u001b[0;34m\u001b[0m\u001b[0m\n\u001b[0m\u001b[1;32m    196\u001b[0m \u001b[0;34m\u001b[0m\u001b[0m\n\u001b[1;32m    197\u001b[0m \u001b[0;34m\u001b[0m\u001b[0m\n",
      "\u001b[0;32m~/anaconda3/envs/dataglove/lib/python3.7/site-packages/numpy/lib/_datasource.py\u001b[0m in \u001b[0;36mopen\u001b[0;34m(self, path, mode, encoding, newline)\u001b[0m\n\u001b[1;32m    533\u001b[0m                                       encoding=encoding, newline=newline)\n\u001b[1;32m    534\u001b[0m         \u001b[0;32melse\u001b[0m\u001b[0;34m:\u001b[0m\u001b[0;34m\u001b[0m\u001b[0m\n\u001b[0;32m--> 535\u001b[0;31m             \u001b[0;32mraise\u001b[0m \u001b[0mIOError\u001b[0m\u001b[0;34m(\u001b[0m\u001b[0;34m\"%s not found.\"\u001b[0m \u001b[0;34m%\u001b[0m \u001b[0mpath\u001b[0m\u001b[0;34m)\u001b[0m\u001b[0;34m\u001b[0m\u001b[0m\n\u001b[0m\u001b[1;32m    536\u001b[0m \u001b[0;34m\u001b[0m\u001b[0m\n\u001b[1;32m    537\u001b[0m \u001b[0;34m\u001b[0m\u001b[0m\n",
      "\u001b[0;31mOSError\u001b[0m: ./testingResult.txt not found."
     ]
    }
   ],
   "source": [
    "import numpy as np\n",
    "data=np.loadtxt(\"./testingResult.txt\",delimiter=',')"
   ]
  },
  {
   "cell_type": "code",
   "execution_count": 8,
   "id": "f7ce63cc",
   "metadata": {
    "ExecuteTime": {
     "end_time": "2021-06-07T13:27:29.819412Z",
     "start_time": "2021-06-07T13:27:29.810516Z"
    }
   },
   "outputs": [
    {
     "data": {
      "text/plain": [
       "dict_values(['A', 'B', 'C', 'D', 'E', 'F', 'G', 'H', 'I', 'J', 'K', 'L', 'M', 'N', 'O', 'P', 'Q', 'R', 'S', 'T', 'U', 'V', 'W', 'X', 'Y', 'Z'])"
      ]
     },
     "execution_count": 8,
     "metadata": {},
     "output_type": "execute_result"
    }
   ],
   "source": [
    "lableWord={0:'A',1:'B',2:'C',3:'D',4:'E',5:'F',6:'G',7:'H',8:'I',9:'J',10:'K',11:'L',12:'M',13:'N',14:'O',15:'P',16:'Q',17:'R',18:'S',19:'T',20:'U',21:'V',22:'W',23:'X',24:'Y',25:'Z'}\n",
    "lableWord.values()"
   ]
  },
  {
   "cell_type": "code",
   "execution_count": 11,
   "id": "f7b9c6b9",
   "metadata": {
    "ExecuteTime": {
     "end_time": "2021-06-07T13:28:57.489022Z",
     "start_time": "2021-06-07T13:28:57.118133Z"
    }
   },
   "outputs": [
    {
     "ename": "TypeError",
     "evalue": "only integer scalar arrays can be converted to a scalar index",
     "output_type": "error",
     "traceback": [
      "\u001b[0;31m---------------------------------------------------------------------------\u001b[0m",
      "\u001b[0;31mTypeError\u001b[0m                                 Traceback (most recent call last)",
      "\u001b[0;32m<ipython-input-11-a8b8d5b3d4b1>\u001b[0m in \u001b[0;36m<module>\u001b[0;34m\u001b[0m\n\u001b[0;32m----> 1\u001b[0;31m \u001b[0mplot_confusion_matrix\u001b[0m\u001b[0;34m(\u001b[0m\u001b[0mdata\u001b[0m\u001b[0;34m[\u001b[0m\u001b[0;34m:\u001b[0m\u001b[0;34m,\u001b[0m\u001b[0;36m0\u001b[0m\u001b[0;34m]\u001b[0m\u001b[0;34m,\u001b[0m\u001b[0mdata\u001b[0m\u001b[0;34m[\u001b[0m\u001b[0;34m:\u001b[0m\u001b[0;34m,\u001b[0m\u001b[0;36m1\u001b[0m\u001b[0;34m]\u001b[0m\u001b[0;34m,\u001b[0m\u001b[0mlableWord\u001b[0m\u001b[0;34m.\u001b[0m\u001b[0mvalues\u001b[0m\u001b[0;34m(\u001b[0m\u001b[0;34m)\u001b[0m\u001b[0;34m)\u001b[0m\u001b[0;34m\u001b[0m\u001b[0m\n\u001b[0m",
      "\u001b[0;32m<ipython-input-3-ebe1dcbb1f2a>\u001b[0m in \u001b[0;36mplot_confusion_matrix\u001b[0;34m(y_true, y_pred, classes, normalize, title, cmap, size)\u001b[0m\n\u001b[1;32m     22\u001b[0m     \u001b[0mcm\u001b[0m \u001b[0;34m=\u001b[0m \u001b[0mconfusion_matrix\u001b[0m\u001b[0;34m(\u001b[0m\u001b[0my_true\u001b[0m\u001b[0;34m,\u001b[0m \u001b[0my_pred\u001b[0m\u001b[0;34m)\u001b[0m\u001b[0;34m\u001b[0m\u001b[0m\n\u001b[1;32m     23\u001b[0m     \u001b[0;31m# Only use the labels that appear in the data\u001b[0m\u001b[0;34m\u001b[0m\u001b[0;34m\u001b[0m\u001b[0m\n\u001b[0;32m---> 24\u001b[0;31m     \u001b[0mclasses\u001b[0m \u001b[0;34m=\u001b[0m \u001b[0mclasses\u001b[0m\u001b[0;34m[\u001b[0m\u001b[0munique_labels\u001b[0m\u001b[0;34m(\u001b[0m\u001b[0my_true\u001b[0m\u001b[0;34m,\u001b[0m \u001b[0my_pred\u001b[0m\u001b[0;34m)\u001b[0m\u001b[0;34m]\u001b[0m\u001b[0;34m\u001b[0m\u001b[0m\n\u001b[0m\u001b[1;32m     25\u001b[0m     \u001b[0;32mif\u001b[0m \u001b[0mnormalize\u001b[0m\u001b[0;34m:\u001b[0m\u001b[0;34m\u001b[0m\u001b[0m\n\u001b[1;32m     26\u001b[0m         \u001b[0mcm\u001b[0m \u001b[0;34m=\u001b[0m \u001b[0mcm\u001b[0m\u001b[0;34m.\u001b[0m\u001b[0mastype\u001b[0m\u001b[0;34m(\u001b[0m\u001b[0;34m'float'\u001b[0m\u001b[0;34m)\u001b[0m \u001b[0;34m/\u001b[0m \u001b[0mcm\u001b[0m\u001b[0;34m.\u001b[0m\u001b[0msum\u001b[0m\u001b[0;34m(\u001b[0m\u001b[0maxis\u001b[0m\u001b[0;34m=\u001b[0m\u001b[0;36m1\u001b[0m\u001b[0;34m)\u001b[0m\u001b[0;34m[\u001b[0m\u001b[0;34m:\u001b[0m\u001b[0;34m,\u001b[0m \u001b[0mnp\u001b[0m\u001b[0;34m.\u001b[0m\u001b[0mnewaxis\u001b[0m\u001b[0;34m]\u001b[0m\u001b[0;34m\u001b[0m\u001b[0m\n",
      "\u001b[0;31mTypeError\u001b[0m: only integer scalar arrays can be converted to a scalar index"
     ]
    }
   ],
   "source": [
    "plot_confusion_matrix(data[:,0],data[:,1],lableWord.values())"
   ]
  },
  {
   "cell_type": "code",
   "execution_count": 17,
   "id": "016a3651",
   "metadata": {
    "ExecuteTime": {
     "end_time": "2021-06-07T13:37:27.495371Z",
     "start_time": "2021-06-07T13:37:25.667174Z"
    }
   },
   "outputs": [
    {
     "data": {
      "image/png": "[encoded data removed]",
      "text/plain": [
       "<Figure size 576x576 with 2 Axes>"
      ]
     },
     "metadata": {
      "needs_background": "light"
     },
     "output_type": "display_data"
    }
   ],
   "source": [
    "import seaborn as sns\n",
    "\n",
    "con_mat = confusion_matrix(data[:,0],data[:,1])\n",
    "\n",
    "con_mat_norm = con_mat.astype('float') / con_mat.sum(axis=1)[:, np.newaxis]     # 归一化\n",
    "con_mat_norm = np.around(con_mat_norm, decimals=2)\n",
    "\n",
    "# === plot ===\n",
    "plt.figure(figsize=(8, 8))\n",
    "sns.heatmap(con_mat_norm, annot=True, cmap='Blues')\n",
    "\n",
    "plt.xlabel('Predicted labels')\n",
    "plt.ylabel('True labels')\n",
    "plt.show()"
   ]
  },
  {
   "cell_type": "code",
   "execution_count": 1,
   "id": "4f43b3a1",
   "metadata": {
    "ExecuteTime": {
     "end_time": "2021-06-17T13:13:34.524052Z",
     "start_time": "2021-06-17T13:08:58.523820Z"
    }
   },
   "outputs": [],
   "source": [
    "from torch_geometric_temporal.dataset import WikiMathsDatasetLoader\n",
    "from torch_geometric_temporal.signal import temporal_signal_split\n",
    "loader = WikiMathsDatasetLoader()\n",
    "dataset = loader.get_dataset(lags=14)  #lags 表示每个节点特征\n",
    "train_dataset, test_dataset = temporal_signal_split(dataset, train_ratio=0.5)"
   ]
  },
  {
   "cell_type": "code",
   "execution_count": 2,
   "id": "f0c840a3",
   "metadata": {
    "ExecuteTime": {
     "end_time": "2021-06-17T13:45:47.056196Z",
     "start_time": "2021-06-17T13:45:47.045641Z"
    }
   },
   "outputs": [],
   "source": [
    "import torch\n",
    "import torch.nn.functional as F\n",
    "from torch_geometric_temporal.nn.recurrent import GConvGRU\n",
    "\n",
    "class RecurrentGCN(torch.nn.Module):\n",
    "    def __init__(self, node_features, filters):\n",
    "        super(RecurrentGCN, self).__init__()\n",
    "        self.recurrent = GConvGRU(node_features, filters, 2)\n",
    "        self.linear = torch.nn.Linear(filters, 1)\n",
    "\n",
    "    def forward(self, x, edge_index, edge_weight):\n",
    "        h = self.recurrent(x, edge_index, edge_weight)  #torch.Size([1068, 14]) torch.Size([2, 27079]) torch.Size([27079])\n",
    "        h = F.relu(h)\n",
    "        h = self.linear(h)\n",
    "        return h"
   ]
  },
  {
   "cell_type": "code",
   "execution_count": null,
   "id": "5c6e7451",
   "metadata": {},
   "outputs": [],
   "source": [
    "from tqdm import tqdm\n",
    "model = RecurrentGCN(node_features=14, filters=32)\n",
    "optimizer = torch.optim.Adam(model.parameters(), lr=0.01)\n",
    "model.train()\n",
    "for epoch in tqdm(range(50)):\n",
    "    for time, snapshot in enumerate(train_dataset):\n",
    "        y_hat = model(snapshot.x, snapshot.edge_index, snapshot.edge_attr)\n",
    "        cost = torch.mean((y_hat-snapshot.y)**2)\n",
    "        cost.backward()\n",
    "        optimizer.step()\n",
    "        optimizer.zero_grad()\n",
    "        \n",
    "model.eval()\n",
    "cost = 0\n",
    "for time, snapshot in enumerate(test_dataset):\n",
    "    y_hat = model(snapshot.x, snapshot.edge_index, snapshot.edge_attr)\n",
    "    cost = cost + torch.mean((y_hat-snapshot.y)**2)\n",
    "cost = cost / (time+1)\n",
    "cost = cost.item()\n",
    "print(\"MSE: {:.4f}\".format(cost))\n",
    "#>>> MSE: 0.7760"
   ]
  },
  {
   "cell_type": "code",
   "execution_count": 7,
   "id": "b9bca428",
   "metadata": {
    "ExecuteTime": {
     "end_time": "2021-06-18T00:54:12.980268Z",
     "start_time": "2021-06-18T00:54:12.974029Z"
    }
   },
   "outputs": [
    {
     "name": "stdout",
     "output_type": "stream",
     "text": [
      "torch.Size([1068, 14]) torch.Size([2, 27079]) torch.Size([27079])\n"
     ]
    }
   ],
   "source": [
    "for time, snapshot in enumerate(train_dataset):\n",
    "    print(snapshot.x.shape, snapshot.edge_index.shape, snapshot.edge_attr.shape)\n",
    "    break"
   ]
  },
  {
   "cell_type": "code",
   "execution_count": null,
   "id": "ce9e1b9b",
   "metadata": {},
   "outputs": [],
   "source": []
  }
 ],
 "metadata": {
  "kernelspec": {
   "display_name": "Python [conda env:dataglove] *",
   "language": "python",
   "name": "conda-env-dataglove-py"
  },
  "language_info": {
   "codemirror_mode": {
    "name": "ipython",
    "version": 3
   },
   "file_extension": ".py",
   "mimetype": "text/x-python",
   "name": "python",
   "nbconvert_exporter": "python",
   "pygments_lexer": "ipython3",
   "version": "3.7.0"
  },
  "toc": {
   "base_numbering": 1,
   "nav_menu": {},
   "number_sections": true,
   "sideBar": true,
   "skip_h1_title": false,
   "title_cell": "Table of Contents",
   "title_sidebar": "Contents",
   "toc_cell": false,
   "toc_position": {},
   "toc_section_display": true,
   "toc_window_display": false
  }
 },
 "nbformat": 4,
 "nbformat_minor": 5
}
